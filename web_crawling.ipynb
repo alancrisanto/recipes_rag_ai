{
 "cells": [
  {
   "cell_type": "code",
   "execution_count": 1,
   "id": "be9b6e30-1726-4777-b532-17af7b916292",
   "metadata": {},
   "outputs": [],
   "source": [
    "%load_ext autoreload\n",
    "%autoreload 2\n",
    "%load_ext dotenv\n",
    "%dotenv"
   ]
  },
  {
   "cell_type": "code",
   "execution_count": 2,
   "id": "3284c23f-ee30-4d94-808f-a1f29e359af4",
   "metadata": {},
   "outputs": [],
   "source": [
    "import os\n",
    "import json\n",
    "import time\n",
    "from urllib.parse import urljoin, urlparse\n",
    "\n",
    "from playwright.async_api import async_playwright"
   ]
  },
  {
   "cell_type": "code",
   "execution_count": 3,
   "id": "8de1b7c4-b17d-4f03-9f81-6a0c7dfb1936",
   "metadata": {},
   "outputs": [],
   "source": [
    "url = \"https://www.bbcgoodfood.com\"\n",
    "base_dir = 'data/raw'\n",
    "delay_seconds = 5\n",
    "\n",
    "if not os.path.exists(base_dir):\n",
    "    os.makedirs(base_dir)"
   ]
  },
  {
   "cell_type": "code",
   "execution_count": 4,
   "id": "565cb9d9-7879-46ee-9313-d3fde644cc43",
   "metadata": {},
   "outputs": [],
   "source": [
    "playwright = await async_playwright().start()\n",
    "browser = await playwright.chromium.launch(headless=False)\n",
    "page = await browser.new_page()"
   ]
  },
  {
   "cell_type": "code",
   "execution_count": 5,
   "id": "b36c1bdb-034e-4890-8a92-d9a75a605df6",
   "metadata": {},
   "outputs": [],
   "source": [
    "# Obtain xpath from inspect website\n",
    "post_xpath = \"/html/body/div/div[4]/main/div[2]/div/div[5]/div/div[1]/div/div[1]/div/article/div[2]/a\""
   ]
  },
  {
   "cell_type": "code",
   "execution_count": 6,
   "id": "366ca93d-e3d1-4d4e-bd38-c5a7b56c2738",
   "metadata": {
    "scrolled": true
   },
   "outputs": [
    {
     "name": "stdout",
     "output_type": "stream",
     "text": [
      "44 pages added to recipes_links\n",
      "1118 1118\n"
     ]
    }
   ],
   "source": [
    "recipes_links = []\n",
    "page_id = 1\n",
    "page_url = page.url\n",
    "while page_id < 45:\n",
    "    page_url = f'{url}/search?page={page_id}'\n",
    "    # print(page_url)\n",
    "    await page.goto(page_url)\n",
    "    await page.wait_for_load_state()\n",
    "    time.sleep(delay_seconds)\n",
    "    if page.url != page_url:\n",
    "        break\n",
    "    for elm in await page.locator(\"xpath=\" + post_xpath).element_handles():\n",
    "        post_url = urljoin(page_url, await elm.get_attribute(\"href\"))\n",
    "        if \"premium\" not in post_url:\n",
    "            recipes_links.append(post_url)\n",
    "    page_id += 1\n",
    "print(f'{page_id - 1} pages added to recipes_links')\n",
    "print(len(recipes_links), len(set(recipes_links)))"
   ]
  },
  {
   "cell_type": "code",
   "execution_count": 7,
   "id": "8636dd77-d7cc-4e95-865c-64766ba1f06f",
   "metadata": {
    "scrolled": true
   },
   "outputs": [
    {
     "data": {
      "text/plain": [
       "['https://www.bbcgoodfood.com/recipes/medal-cookies',\n",
       " 'https://www.bbcgoodfood.com/recipes/next-level-moussaka',\n",
       " 'https://www.bbcgoodfood.com/recipes/crispy-chipotle-chicken-fajitas',\n",
       " 'https://www.bbcgoodfood.com/recipes/mango-sgroppino',\n",
       " 'https://www.bbcgoodfood.com/recipes/green-chicken-salad',\n",
       " 'https://www.bbcgoodfood.com/recipes/spicy-cucumber-watermelon-salad',\n",
       " 'https://www.bbcgoodfood.com/recipes/mediterranean-salad-with-hummus-dressing',\n",
       " 'https://www.bbcgoodfood.com/recipes/summer-tomato-cheese-toastie',\n",
       " 'https://www.bbcgoodfood.com/recipes/beef-red-chimichurri-quinoa',\n",
       " 'https://www.bbcgoodfood.com/recipes/beef-sandwich-with-pink-pickled-onions']"
      ]
     },
     "execution_count": 7,
     "metadata": {},
     "output_type": "execute_result"
    }
   ],
   "source": [
    "recipes_links[:10]"
   ]
  },
  {
   "cell_type": "code",
   "execution_count": 8,
   "id": "c57d95ab-58a8-452a-acce-6b4abe4932ec",
   "metadata": {},
   "outputs": [],
   "source": [
    "def formatTitle(txt):\n",
    "    return txt.replace(\"-\", \" \").lower()"
   ]
  },
  {
   "cell_type": "code",
   "execution_count": 9,
   "id": "ae7e5dc7-a24d-425a-ac0a-a6e8b31bb71d",
   "metadata": {},
   "outputs": [],
   "source": [
    "def save_page(data, path: str, encoding: str = \"utf-8\") -> None:\n",
    "    \"\"\"Save recipes array in one file.\"\"\"\n",
    "    \n",
    "    with open(path, \"w\", encoding=\"utf-8\") as f:\n",
    "        json.dump(data, f, ensure_ascii=False, indent=2)"
   ]
  },
  {
   "cell_type": "markdown",
   "id": "9fa607a8-8581-41da-a598-6819cb49aa2e",
   "metadata": {},
   "source": [
    "### Create new function to save recipes in files of 30"
   ]
  },
  {
   "cell_type": "code",
   "execution_count": 10,
   "id": "f9d76e17-e81c-4198-bff3-074ca2aebc8a",
   "metadata": {},
   "outputs": [],
   "source": [
    "def save_recipes_in_batches(recipes, base_path, batch_size=30):\n",
    "    \"\"\"Save recipes in batches of a specified size.\"\"\"\n",
    "    for i in range(0, len(recipes), batch_size):\n",
    "        batch = recipes[i:i + batch_size]\n",
    "        batch_path = f'{base_path}/recipes_batch_{i // batch_size + 1}.json'\n",
    "        save_page(batch, batch_path)"
   ]
  },
  {
   "cell_type": "code",
   "execution_count": 11,
   "id": "e3e4e546-1da5-4bbb-94ff-72852c140ad0",
   "metadata": {},
   "outputs": [],
   "source": [
    "def get_title(url):\n",
    "    \"\"\"Return the file path for saving the forum post.\"\"\"\n",
    "    path_components = urlparse(url).path.split('/')\n",
    "    title = formatTitle(path_components[2])\n",
    "    return title\n"
   ]
  },
  {
   "cell_type": "markdown",
   "id": "fff0a758-1e00-4e30-972a-92052d4352af",
   "metadata": {},
   "source": [
    "### Get the html for each post"
   ]
  },
  {
   "cell_type": "code",
   "execution_count": 12,
   "id": "7fe145be-2d33-4bb9-b23c-38e19daf4d2f",
   "metadata": {},
   "outputs": [
    {
     "name": "stdout",
     "output_type": "stream",
     "text": [
      "processing! getting html\n",
      "Dne!, recipes saved to json files\n"
     ]
    }
   ],
   "source": [
    "all_recipes = []\n",
    "print(\"processing! getting html\")\n",
    "for ix, recipe_link in enumerate(recipes_links):\n",
    "    # print(ix, recipe_link)\n",
    "    title = get_title(recipe_link)\n",
    "    try:\n",
    "        await page.goto(recipe_link)\n",
    "        await page.wait_for_load_state()\n",
    "    except Exception as e:\n",
    "        print(f\"Error loading {recipe_link}: {e}\")\n",
    "        continue\n",
    "    time.sleep(delay_seconds)\n",
    "    html = await page.content()\n",
    "    # print(len(html))\n",
    "    \n",
    "    recipe_info = {\n",
    "        \"id\": ix,\n",
    "        \"title\": title,\n",
    "        \"url\": recipe_link,\n",
    "        \"html\": html,\n",
    "    }\n",
    "    \n",
    "    all_recipes.append(recipe_info)\n",
    "\n",
    "save_recipes_in_batches(all_recipes, base_dir)\n",
    "print(\"Dne!, recipes saved to json files\")"
   ]
  },
  {
   "cell_type": "code",
   "execution_count": 13,
   "id": "52bc2b43-91fb-45a1-be93-8c79f4bcd818",
   "metadata": {},
   "outputs": [],
   "source": [
    "await browser.close()\n",
    "await playwright.stop()"
   ]
  },
  {
   "cell_type": "code",
   "execution_count": null,
   "id": "591e7e13-1c03-483c-bbe8-a6cccd58b322",
   "metadata": {},
   "outputs": [],
   "source": []
  }
 ],
 "metadata": {
  "kernelspec": {
   "display_name": "venv_recipes",
   "language": "python",
   "name": "venv_recipes"
  },
  "language_info": {
   "codemirror_mode": {
    "name": "ipython",
    "version": 3
   },
   "file_extension": ".py",
   "mimetype": "text/x-python",
   "name": "python",
   "nbconvert_exporter": "python",
   "pygments_lexer": "ipython3",
   "version": "3.12.4"
  }
 },
 "nbformat": 4,
 "nbformat_minor": 5
}
