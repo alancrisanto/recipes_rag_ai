{
 "cells": [
  {
   "cell_type": "markdown",
   "id": "cf1d8a9b-d988-45cc-a6db-983f69035b0a",
   "metadata": {},
   "source": [
    "# Document Data, Chunks and Emmbeddings"
   ]
  },
  {
   "cell_type": "code",
   "execution_count": 1,
   "id": "140fc8b4-c678-4351-97ba-2d7acd30e122",
   "metadata": {},
   "outputs": [],
   "source": [
    "import os\n",
    "import openai\n",
    "import sys\n",
    "sys.path.append('../..')\n",
    "\n",
    "from dotenv import load_dotenv, find_dotenv\n",
    "_ = load_dotenv(find_dotenv()) # read local .env file\n",
    "\n",
    "openai.api_key  = os.environ['OPENAI_API_KEY']"
   ]
  },
  {
   "cell_type": "code",
   "execution_count": 2,
   "id": "e224290a-14ae-4d75-bc59-6ec85a65480a",
   "metadata": {},
   "outputs": [],
   "source": [
    "base_dir = \"data/md_files\"\n",
    "markdown_path_test = \"data/recipes_batch_1_test.md\""
   ]
  },
  {
   "cell_type": "markdown",
   "id": "126b2695-2d87-4d69-aa28-aadc65ce80d1",
   "metadata": {},
   "source": [
    "## Document Loaders"
   ]
  },
  {
   "cell_type": "code",
   "execution_count": 3,
   "id": "f9a5b022-ecf2-49fe-891b-f1ddba548c00",
   "metadata": {},
   "outputs": [],
   "source": [
    "from langchain_community.document_loaders import UnstructuredMarkdownLoader\n",
    "from langchain_core.documents import Document\n",
    "\n",
    "loader = UnstructuredMarkdownLoader(markdown_path_test)\n",
    "\n",
    "data = loader.load()\n",
    "assert isinstance(data[0], Document)"
   ]
  },
  {
   "cell_type": "code",
   "execution_count": 4,
   "id": "9d529301-4fa7-41f7-b134-b5a8e105d745",
   "metadata": {},
   "outputs": [
    {
     "name": "stdout",
     "output_type": "stream",
     "text": [
      "Medal cookies\n",
      "\n",
      "Link: https://www.bbcgoodfood.com/recipes/medal-cookies\n",
      "\n",
      "Description: Make these round vanilla biscuits, ice in bright colours, thread on a ribbon and give out as edible prizes\n",
      "\n",
      "Prep Time: 35 mins\n",
      "\n",
      "Cook Time: 15 mins\n",
      "\n",
      "Difficulty: Easy\n",
      "\n"
     ]
    }
   ],
   "source": [
    "print(data[0].page_content[:250])"
   ]
  },
  {
   "cell_type": "code",
   "execution_count": 5,
   "id": "b0aacc21-ad32-4635-ab28-b0b97f9e708f",
   "metadata": {},
   "outputs": [
    {
     "data": {
      "text/plain": [
       "{'source': 'data/recipes_batch_1_test.md'}"
      ]
     },
     "execution_count": 5,
     "metadata": {},
     "output_type": "execute_result"
    }
   ],
   "source": [
    "data[0].metadata"
   ]
  },
  {
   "cell_type": "markdown",
   "id": "db57731d-53b9-419e-a4a3-a41a33b48b79",
   "metadata": {},
   "source": [
    "## Document Splitting with Langchain"
   ]
  },
  {
   "cell_type": "code",
   "execution_count": 6,
   "id": "79c38308-c88a-4818-ac26-3371fe5f304d",
   "metadata": {},
   "outputs": [],
   "source": [
    "# from langchain.text_splitter import MarkdownHeaderTextSplitter"
   ]
  },
  {
   "cell_type": "code",
   "execution_count": 7,
   "id": "b69d8858-5035-41a1-86c6-99fc618c3adf",
   "metadata": {},
   "outputs": [],
   "source": [
    "# markdown_text = ' '.join([d.page_content for d in docs])\n",
    "# print(f\"Length of concatenated markdown text: {len(markdown_text)}\")"
   ]
  },
  {
   "cell_type": "code",
   "execution_count": 8,
   "id": "07aaa05e-a1e3-4da9-8ae1-373cb886af99",
   "metadata": {},
   "outputs": [],
   "source": [
    "# len(markdown_text)"
   ]
  },
  {
   "cell_type": "code",
   "execution_count": 9,
   "id": "343c5f10-7b94-4812-9cd3-fcbc6433cf7a",
   "metadata": {},
   "outputs": [],
   "source": [
    "from langchain.text_splitter import CharacterTextSplitter\n",
    "text_splitter = CharacterTextSplitter(\n",
    "    separator=\"\\n\\n\",\n",
    "    chunk_size=1100,\n",
    "    chunk_overlap=150,\n",
    "    length_function=len\n",
    ")"
   ]
  },
  {
   "cell_type": "code",
   "execution_count": 10,
   "id": "dd88268c-63ef-4daa-87fa-54af760bf7b6",
   "metadata": {},
   "outputs": [
    {
     "name": "stdout",
     "output_type": "stream",
     "text": [
      "Number of chunks: 23\n"
     ]
    }
   ],
   "source": [
    "chunks = text_splitter.split_documents(data)\n",
    "print(f\"Number of chunks: {len(chunks)}\")"
   ]
  },
  {
   "cell_type": "code",
   "execution_count": 11,
   "id": "172423ee-5e40-4963-ae92-2d3b951d11b2",
   "metadata": {},
   "outputs": [
    {
     "data": {
      "text/plain": [
       "[Document(metadata={'source': 'data/recipes_batch_1_test.md'}, page_content='Medal cookies\\n\\nLink: https://www.bbcgoodfood.com/recipes/medal-cookies\\n\\nDescription: Make these round vanilla biscuits, ice in bright colours, thread on a ribbon and give out as edible prizes\\n\\nPrep Time: 35 mins\\n\\nCook Time: 15 mins\\n\\nDifficulty: Easy\\n\\nServes: Makes 15 cookies\\n\\nDiet Type: None\\n\\nNutrition Information\\n\\nkcal: 418\\n\\nfat: 8g\\n\\nsaturates: 5g\\n\\ncarbs: 82g\\n\\nsugars: 66g\\n\\nfibre: 1g\\n\\nprotein: 3g\\n\\nsalt: 0.4g\\n\\nIngredients\\n\\n140gbutter\\n\\n100glight soft brown sugar\\n\\n3 tbspgolden syrup\\n\\n½ tspvanilla extract\\n\\n350gplain flour, plus extra for dusting\\n\\n1 tspbicarbonate of soda\\n\\n1large egg\\n\\n1kgpack ready-to-roll icing\\n\\nicing sugar\\n\\nfood colouringpaste, edible glitter and icing pens (optional)\\n\\n15long colourful ribbons\\n\\nTo decorate\\n\\n1kgpack ready-to-roll icing\\n\\nicing sugar\\n\\nfood colouringpaste, edible glitter and icing pens (optional)\\n\\n15long colourful ribbons\\n\\nMethod\\n\\nHeat the oven to 200C/180C fan/gas 6. Line 2 baking trays with baking parchment. Melt the butter, sugar and syrup in a small saucepan. Mix in the vanilla, remove from the heat and leave to cool for 10 mins.'),\n",
       " Document(metadata={'source': 'data/recipes_batch_1_test.md'}, page_content='Sieve the flour and bicarbonate of soda into a bowl. Pour in the melted butter mixture and the egg, and stir together to form a stiff-ish dough. Pop the dough in the fridge for 10 mins to chill and firm up.\\n\\nRoll the dough out on a floured surface to 5mm thick, then stamp out 15 circles using a 7.5cm round cookie cutter; you may need to re-roll the trimmings to get 15 cookies. Make a hole at the top of each circle with the end of a pencil.\\n\\nPlace on the baking trays and bake for 12 mins until golden, swapping the trays around halfway through. Cool on a wire rack.\\n\\nTo decorate, divide the icing into 4 pieces. Dye 3 lumps of icing with your chosen base colours (we used turquoise, coral and yellow).\\n\\nRoll out the coloured icing to 2mm thick, then use a fluted 7cm cutter to cut out 15 rounds.\\n\\nStick these onto the cookies with a little icing sugar mixed with water.\\n\\nRoll out the remaining icing, brush it with a little water and cut out 12 stars. Dip each star, sticky-side down, into a dish of edible gold glitter, then stick them on top of the cookies.'),\n",
       " Document(metadata={'source': 'data/recipes_batch_1_test.md'}, page_content='Use number cutters to stamp out numbers 1, 2 and 3, dip these into the glitter and stick to the final 3 medals. Using icing pens to add a border, if you like.\\n\\nLeave the cookies to dry, then push a hole through the icing in line with the cookie hole and tie up with ribbon.Will keep for three days in an airtight container.\\n\\nNext-level moussaka\\n\\nLink: https://www.bbcgoodfood.com/recipes/next-level-moussaka\\n\\nDescription: Conjure memories of a Greek holiday with this marvellous make-ahead moussaka, which is ideal for feeding a crowd, served with a simple side salad\\n\\nPrep Time: 40 mins\\n\\nCook Time: 2 hrs\\n\\nDifficulty: More effort\\n\\nServes: Serves 6\\n\\nDiet Type: Gluten-free\\n\\nNutrition Information\\n\\nkcal: 583\\n\\nfat: 44g\\n\\nsaturates: 18g\\n\\ncarbs: 13g\\n\\nsugars: 12g\\n\\nfibre: 6g\\n\\nprotein: 31g\\n\\nsalt: 1.1g\\n\\nIngredients\\n\\n100mlolive oil\\n\\n500glamb mince\\n\\n1onion, finely chopped\\n\\n3 largegarlic cloves, crushed\\n\\n½ tsplight brown soft sugar\\n\\n2 tbsptomato purée\\n\\n2 tbspred wine vinegar\\n\\n400g canchopped tomatoes\\n\\n200mlred wine\\n\\n1 tbspdried oregano\\n\\n1cinnamon stick\\n\\n2bay leaves\\n\\n3aubergines'),\n",
       " Document(metadata={'source': 'data/recipes_batch_1_test.md'}, page_content='2 tbsptomato purée\\n\\n2 tbspred wine vinegar\\n\\n400g canchopped tomatoes\\n\\n200mlred wine\\n\\n1 tbspdried oregano\\n\\n1cinnamon stick\\n\\n2bay leaves\\n\\n3aubergines\\n\\nmixed salad leaves, to serve\\n\\n500mlGreek yogurt\\n\\n1egg, plus 1 yolk, lightly beaten (freeze the white for another recipe)\\n\\n50gparmesan, grated\\n\\npinch ofgrated nutmeg\\n\\n100gfeta, crumbled\\n\\nFor the topping\\n\\n500mlGreek yogurt\\n\\n1egg, plus 1 yolk, lightly beaten (freeze the white for another recipe)\\n\\n50gparmesan, grated\\n\\npinch ofgrated nutmeg\\n\\n100gfeta, crumbled\\n\\nMethod\\n\\nHeat 2 tbsp of the olive oil in a pan over a medium-low heat, crumble in the mince and cook for 15-20 mins. Itwill release some liquid but once that has bubbled away, the mince will sizzle in its own fat and start to brown and caramelise. At this point, stir the mince with a wooden spoon.'),\n",
       " Document(metadata={'source': 'data/recipes_batch_1_test.md'}, page_content='Stir in the onion and continue to cook for 10 mins until it’s softened. Add the garlic and cook for a minute more. Scatter the sugar over, then stir through the tomato purée and cook until it’s toasted and starts to stick to the pan. Splash in the vinegar and let it simmer for a minute. Tip in the canned tomatoes, then use the wine to swill out the can and tip into the sauce. Season with salt and pepper, scatter in the oregano, nestle in the cinnamon stick and bay leaves, bring to a simmer and cook gently, stirring occasionally, for 40 mins until you have a thick ragu. Remove from the heat, fish out the bay and cinnamon, and stir through another 1 tbsp of the olive oil.')]"
      ]
     },
     "execution_count": 11,
     "metadata": {},
     "output_type": "execute_result"
    }
   ],
   "source": [
    "chunks[:5]"
   ]
  },
  {
   "cell_type": "markdown",
   "id": "876e5c41-5241-477e-aa87-26841ec3cd4d",
   "metadata": {},
   "source": [
    "## Embeddings"
   ]
  },
  {
   "cell_type": "code",
   "execution_count": 12,
   "id": "aba4c8bc-9a0d-4e51-9d1c-82c78163e232",
   "metadata": {},
   "outputs": [],
   "source": [
    "from langchain_openai import OpenAIEmbeddings\n",
    "\n",
    "embeddings_model = OpenAIEmbeddings()"
   ]
  },
  {
   "cell_type": "code",
   "execution_count": 13,
   "id": "4d205365-a679-4782-871c-6577bd2b7995",
   "metadata": {},
   "outputs": [],
   "source": [
    "# chunks_content = [chunk.page_content for chunk in chunks]"
   ]
  },
  {
   "cell_type": "code",
   "execution_count": 14,
   "id": "8d0c7f0d-0c78-487d-bc0f-2c09be4c05f1",
   "metadata": {},
   "outputs": [],
   "source": [
    "# embeddings = embeddings_model.embed_documents(chunks_content)"
   ]
  },
  {
   "cell_type": "code",
   "execution_count": 15,
   "id": "28fe61f8-4b17-46a2-8614-67d39acdfd70",
   "metadata": {},
   "outputs": [],
   "source": [
    "from langchain.vectorstores import Chroma\n",
    "import sqlite3"
   ]
  },
  {
   "cell_type": "code",
   "execution_count": 16,
   "id": "330f2180-3426-4606-bda0-8e0a2483eb16",
   "metadata": {},
   "outputs": [],
   "source": [
    "persist_directory = 'data/chroma/'"
   ]
  },
  {
   "cell_type": "code",
   "execution_count": 17,
   "id": "1ce8b882-d135-4695-b635-6d36e6d32607",
   "metadata": {},
   "outputs": [],
   "source": [
    "!rm -rf ./docs/chroma  # remove old database files if any"
   ]
  },
  {
   "cell_type": "code",
   "execution_count": 18,
   "id": "15af2a0e-00f7-4bb9-aa34-9b6553275211",
   "metadata": {},
   "outputs": [
    {
     "ename": "RuntimeError",
     "evalue": "\u001b[91mYour system has an unsupported version of sqlite3. Chroma                     requires sqlite3 >= 3.35.0.\u001b[0m\n\u001b[94mPlease visit                     https://docs.trychroma.com/troubleshooting#sqlite to learn how                     to upgrade.\u001b[0m",
     "output_type": "error",
     "traceback": [
      "\u001b[0;31m---------------------------------------------------------------------------\u001b[0m",
      "\u001b[0;31mRuntimeError\u001b[0m                              Traceback (most recent call last)",
      "Cell \u001b[0;32mIn[18], line 1\u001b[0m\n\u001b[0;32m----> 1\u001b[0m vectordb \u001b[38;5;241m=\u001b[39m \u001b[43mChroma\u001b[49m\u001b[38;5;241;43m.\u001b[39;49m\u001b[43mfrom_documents\u001b[49m\u001b[43m(\u001b[49m\n\u001b[1;32m      2\u001b[0m \u001b[43m    \u001b[49m\u001b[43mdocuments\u001b[49m\u001b[38;5;241;43m=\u001b[39;49m\u001b[43mchunks\u001b[49m\u001b[43m,\u001b[49m\n\u001b[1;32m      3\u001b[0m \u001b[43m    \u001b[49m\u001b[43membedding\u001b[49m\u001b[38;5;241;43m=\u001b[39;49m\u001b[43membeddings_model\u001b[49m\u001b[43m,\u001b[49m\n\u001b[1;32m      4\u001b[0m \u001b[43m    \u001b[49m\u001b[43mpersist_directory\u001b[49m\u001b[38;5;241;43m=\u001b[39;49m\u001b[43mpersist_directory\u001b[49m\n\u001b[1;32m      5\u001b[0m \u001b[43m)\u001b[49m\n",
      "File \u001b[0;32m~/recipes_rag/.venv/lib/python3.12/site-packages/langchain_community/vectorstores/chroma.py:878\u001b[0m, in \u001b[0;36mChroma.from_documents\u001b[0;34m(cls, documents, embedding, ids, collection_name, persist_directory, client_settings, client, collection_metadata, **kwargs)\u001b[0m\n\u001b[1;32m    876\u001b[0m texts \u001b[38;5;241m=\u001b[39m [doc\u001b[38;5;241m.\u001b[39mpage_content \u001b[38;5;28;01mfor\u001b[39;00m doc \u001b[38;5;129;01min\u001b[39;00m documents]\n\u001b[1;32m    877\u001b[0m metadatas \u001b[38;5;241m=\u001b[39m [doc\u001b[38;5;241m.\u001b[39mmetadata \u001b[38;5;28;01mfor\u001b[39;00m doc \u001b[38;5;129;01min\u001b[39;00m documents]\n\u001b[0;32m--> 878\u001b[0m \u001b[38;5;28;01mreturn\u001b[39;00m \u001b[38;5;28;43mcls\u001b[39;49m\u001b[38;5;241;43m.\u001b[39;49m\u001b[43mfrom_texts\u001b[49m\u001b[43m(\u001b[49m\n\u001b[1;32m    879\u001b[0m \u001b[43m    \u001b[49m\u001b[43mtexts\u001b[49m\u001b[38;5;241;43m=\u001b[39;49m\u001b[43mtexts\u001b[49m\u001b[43m,\u001b[49m\n\u001b[1;32m    880\u001b[0m \u001b[43m    \u001b[49m\u001b[43membedding\u001b[49m\u001b[38;5;241;43m=\u001b[39;49m\u001b[43membedding\u001b[49m\u001b[43m,\u001b[49m\n\u001b[1;32m    881\u001b[0m \u001b[43m    \u001b[49m\u001b[43mmetadatas\u001b[49m\u001b[38;5;241;43m=\u001b[39;49m\u001b[43mmetadatas\u001b[49m\u001b[43m,\u001b[49m\n\u001b[1;32m    882\u001b[0m \u001b[43m    \u001b[49m\u001b[43mids\u001b[49m\u001b[38;5;241;43m=\u001b[39;49m\u001b[43mids\u001b[49m\u001b[43m,\u001b[49m\n\u001b[1;32m    883\u001b[0m \u001b[43m    \u001b[49m\u001b[43mcollection_name\u001b[49m\u001b[38;5;241;43m=\u001b[39;49m\u001b[43mcollection_name\u001b[49m\u001b[43m,\u001b[49m\n\u001b[1;32m    884\u001b[0m \u001b[43m    \u001b[49m\u001b[43mpersist_directory\u001b[49m\u001b[38;5;241;43m=\u001b[39;49m\u001b[43mpersist_directory\u001b[49m\u001b[43m,\u001b[49m\n\u001b[1;32m    885\u001b[0m \u001b[43m    \u001b[49m\u001b[43mclient_settings\u001b[49m\u001b[38;5;241;43m=\u001b[39;49m\u001b[43mclient_settings\u001b[49m\u001b[43m,\u001b[49m\n\u001b[1;32m    886\u001b[0m \u001b[43m    \u001b[49m\u001b[43mclient\u001b[49m\u001b[38;5;241;43m=\u001b[39;49m\u001b[43mclient\u001b[49m\u001b[43m,\u001b[49m\n\u001b[1;32m    887\u001b[0m \u001b[43m    \u001b[49m\u001b[43mcollection_metadata\u001b[49m\u001b[38;5;241;43m=\u001b[39;49m\u001b[43mcollection_metadata\u001b[49m\u001b[43m,\u001b[49m\n\u001b[1;32m    888\u001b[0m \u001b[43m    \u001b[49m\u001b[38;5;241;43m*\u001b[39;49m\u001b[38;5;241;43m*\u001b[39;49m\u001b[43mkwargs\u001b[49m\u001b[43m,\u001b[49m\n\u001b[1;32m    889\u001b[0m \u001b[43m\u001b[49m\u001b[43m)\u001b[49m\n",
      "File \u001b[0;32m~/recipes_rag/.venv/lib/python3.12/site-packages/langchain_community/vectorstores/chroma.py:814\u001b[0m, in \u001b[0;36mChroma.from_texts\u001b[0;34m(cls, texts, embedding, metadatas, ids, collection_name, persist_directory, client_settings, client, collection_metadata, **kwargs)\u001b[0m\n\u001b[1;32m    781\u001b[0m \u001b[38;5;129m@classmethod\u001b[39m\n\u001b[1;32m    782\u001b[0m \u001b[38;5;28;01mdef\u001b[39;00m \u001b[38;5;21mfrom_texts\u001b[39m(\n\u001b[1;32m    783\u001b[0m     \u001b[38;5;28mcls\u001b[39m: Type[Chroma],\n\u001b[0;32m   (...)\u001b[0m\n\u001b[1;32m    793\u001b[0m     \u001b[38;5;241m*\u001b[39m\u001b[38;5;241m*\u001b[39mkwargs: Any,\n\u001b[1;32m    794\u001b[0m ) \u001b[38;5;241m-\u001b[39m\u001b[38;5;241m>\u001b[39m Chroma:\n\u001b[1;32m    795\u001b[0m \u001b[38;5;250m    \u001b[39m\u001b[38;5;124;03m\"\"\"Create a Chroma vectorstore from a raw documents.\u001b[39;00m\n\u001b[1;32m    796\u001b[0m \n\u001b[1;32m    797\u001b[0m \u001b[38;5;124;03m    If a persist_directory is specified, the collection will be persisted there.\u001b[39;00m\n\u001b[0;32m   (...)\u001b[0m\n\u001b[1;32m    812\u001b[0m \u001b[38;5;124;03m        Chroma: Chroma vectorstore.\u001b[39;00m\n\u001b[1;32m    813\u001b[0m \u001b[38;5;124;03m    \"\"\"\u001b[39;00m\n\u001b[0;32m--> 814\u001b[0m     chroma_collection \u001b[38;5;241m=\u001b[39m \u001b[38;5;28;43mcls\u001b[39;49m\u001b[43m(\u001b[49m\n\u001b[1;32m    815\u001b[0m \u001b[43m        \u001b[49m\u001b[43mcollection_name\u001b[49m\u001b[38;5;241;43m=\u001b[39;49m\u001b[43mcollection_name\u001b[49m\u001b[43m,\u001b[49m\n\u001b[1;32m    816\u001b[0m \u001b[43m        \u001b[49m\u001b[43membedding_function\u001b[49m\u001b[38;5;241;43m=\u001b[39;49m\u001b[43membedding\u001b[49m\u001b[43m,\u001b[49m\n\u001b[1;32m    817\u001b[0m \u001b[43m        \u001b[49m\u001b[43mpersist_directory\u001b[49m\u001b[38;5;241;43m=\u001b[39;49m\u001b[43mpersist_directory\u001b[49m\u001b[43m,\u001b[49m\n\u001b[1;32m    818\u001b[0m \u001b[43m        \u001b[49m\u001b[43mclient_settings\u001b[49m\u001b[38;5;241;43m=\u001b[39;49m\u001b[43mclient_settings\u001b[49m\u001b[43m,\u001b[49m\n\u001b[1;32m    819\u001b[0m \u001b[43m        \u001b[49m\u001b[43mclient\u001b[49m\u001b[38;5;241;43m=\u001b[39;49m\u001b[43mclient\u001b[49m\u001b[43m,\u001b[49m\n\u001b[1;32m    820\u001b[0m \u001b[43m        \u001b[49m\u001b[43mcollection_metadata\u001b[49m\u001b[38;5;241;43m=\u001b[39;49m\u001b[43mcollection_metadata\u001b[49m\u001b[43m,\u001b[49m\n\u001b[1;32m    821\u001b[0m \u001b[43m        \u001b[49m\u001b[38;5;241;43m*\u001b[39;49m\u001b[38;5;241;43m*\u001b[39;49m\u001b[43mkwargs\u001b[49m\u001b[43m,\u001b[49m\n\u001b[1;32m    822\u001b[0m \u001b[43m    \u001b[49m\u001b[43m)\u001b[49m\n\u001b[1;32m    823\u001b[0m     \u001b[38;5;28;01mif\u001b[39;00m ids \u001b[38;5;129;01mis\u001b[39;00m \u001b[38;5;28;01mNone\u001b[39;00m:\n\u001b[1;32m    824\u001b[0m         ids \u001b[38;5;241m=\u001b[39m [\u001b[38;5;28mstr\u001b[39m(uuid\u001b[38;5;241m.\u001b[39muuid4()) \u001b[38;5;28;01mfor\u001b[39;00m _ \u001b[38;5;129;01min\u001b[39;00m texts]\n",
      "File \u001b[0;32m~/recipes_rag/.venv/lib/python3.12/site-packages/langchain_core/_api/deprecation.py:203\u001b[0m, in \u001b[0;36mdeprecated.<locals>.deprecate.<locals>.finalize.<locals>.warn_if_direct_instance\u001b[0;34m(self, *args, **kwargs)\u001b[0m\n\u001b[1;32m    201\u001b[0m     warned \u001b[38;5;241m=\u001b[39m \u001b[38;5;28;01mTrue\u001b[39;00m\n\u001b[1;32m    202\u001b[0m     emit_warning()\n\u001b[0;32m--> 203\u001b[0m \u001b[38;5;28;01mreturn\u001b[39;00m \u001b[43mwrapped\u001b[49m\u001b[43m(\u001b[49m\u001b[38;5;28;43mself\u001b[39;49m\u001b[43m,\u001b[49m\u001b[43m \u001b[49m\u001b[38;5;241;43m*\u001b[39;49m\u001b[43margs\u001b[49m\u001b[43m,\u001b[49m\u001b[43m \u001b[49m\u001b[38;5;241;43m*\u001b[39;49m\u001b[38;5;241;43m*\u001b[39;49m\u001b[43mkwargs\u001b[49m\u001b[43m)\u001b[49m\n",
      "File \u001b[0;32m~/recipes_rag/.venv/lib/python3.12/site-packages/langchain_community/vectorstores/chroma.py:83\u001b[0m, in \u001b[0;36mChroma.__init__\u001b[0;34m(self, collection_name, embedding_function, persist_directory, client_settings, collection_metadata, client, relevance_score_fn)\u001b[0m\n\u001b[1;32m     81\u001b[0m \u001b[38;5;250m\u001b[39m\u001b[38;5;124;03m\"\"\"Initialize with a Chroma client.\"\"\"\u001b[39;00m\n\u001b[1;32m     82\u001b[0m \u001b[38;5;28;01mtry\u001b[39;00m:\n\u001b[0;32m---> 83\u001b[0m     \u001b[38;5;28;01mimport\u001b[39;00m \u001b[38;5;21;01mchromadb\u001b[39;00m\n\u001b[1;32m     84\u001b[0m     \u001b[38;5;28;01mimport\u001b[39;00m \u001b[38;5;21;01mchromadb\u001b[39;00m\u001b[38;5;21;01m.\u001b[39;00m\u001b[38;5;21;01mconfig\u001b[39;00m\n\u001b[1;32m     85\u001b[0m \u001b[38;5;28;01mexcept\u001b[39;00m \u001b[38;5;167;01mImportError\u001b[39;00m:\n",
      "File \u001b[0;32m~/recipes_rag/.venv/lib/python3.12/site-packages/chromadb/__init__.py:86\u001b[0m\n\u001b[1;32m     84\u001b[0m             sys\u001b[38;5;241m.\u001b[39mmodules[\u001b[38;5;124m\"\u001b[39m\u001b[38;5;124msqlite3\u001b[39m\u001b[38;5;124m\"\u001b[39m] \u001b[38;5;241m=\u001b[39m sys\u001b[38;5;241m.\u001b[39mmodules\u001b[38;5;241m.\u001b[39mpop(\u001b[38;5;124m\"\u001b[39m\u001b[38;5;124mpysqlite3\u001b[39m\u001b[38;5;124m\"\u001b[39m)\n\u001b[1;32m     85\u001b[0m         \u001b[38;5;28;01melse\u001b[39;00m:\n\u001b[0;32m---> 86\u001b[0m             \u001b[38;5;28;01mraise\u001b[39;00m \u001b[38;5;167;01mRuntimeError\u001b[39;00m(\n\u001b[1;32m     87\u001b[0m                 \u001b[38;5;124m\"\u001b[39m\u001b[38;5;130;01m\\033\u001b[39;00m\u001b[38;5;124m[91mYour system has an unsupported version of sqlite3. Chroma \u001b[39m\u001b[38;5;130;01m\\\u001b[39;00m\n\u001b[1;32m     88\u001b[0m \u001b[38;5;124m                    requires sqlite3 >= 3.35.0.\u001b[39m\u001b[38;5;130;01m\\033\u001b[39;00m\u001b[38;5;124m[0m\u001b[39m\u001b[38;5;130;01m\\n\u001b[39;00m\u001b[38;5;124m\"\u001b[39m\n\u001b[1;32m     89\u001b[0m                 \u001b[38;5;124m\"\u001b[39m\u001b[38;5;130;01m\\033\u001b[39;00m\u001b[38;5;124m[94mPlease visit \u001b[39m\u001b[38;5;130;01m\\\u001b[39;00m\n\u001b[1;32m     90\u001b[0m \u001b[38;5;124m                    https://docs.trychroma.com/troubleshooting#sqlite to learn how \u001b[39m\u001b[38;5;130;01m\\\u001b[39;00m\n\u001b[1;32m     91\u001b[0m \u001b[38;5;124m                    to upgrade.\u001b[39m\u001b[38;5;130;01m\\033\u001b[39;00m\u001b[38;5;124m[0m\u001b[39m\u001b[38;5;124m\"\u001b[39m\n\u001b[1;32m     92\u001b[0m             )\n\u001b[1;32m     95\u001b[0m \u001b[38;5;28;01mdef\u001b[39;00m \u001b[38;5;21mconfigure\u001b[39m(\u001b[38;5;241m*\u001b[39m\u001b[38;5;241m*\u001b[39mkwargs) \u001b[38;5;241m-\u001b[39m\u001b[38;5;241m>\u001b[39m \u001b[38;5;28;01mNone\u001b[39;00m:  \u001b[38;5;66;03m# type: ignore\u001b[39;00m\n\u001b[1;32m     96\u001b[0m \u001b[38;5;250m    \u001b[39m\u001b[38;5;124;03m\"\"\"Override Chroma's default settings, environment variables or .env files\"\"\"\u001b[39;00m\n",
      "\u001b[0;31mRuntimeError\u001b[0m: \u001b[91mYour system has an unsupported version of sqlite3. Chroma                     requires sqlite3 >= 3.35.0.\u001b[0m\n\u001b[94mPlease visit                     https://docs.trychroma.com/troubleshooting#sqlite to learn how                     to upgrade.\u001b[0m"
     ]
    }
   ],
   "source": [
    "vectordb = Chroma.from_documents(\n",
    "    documents=chunks,\n",
    "    embedding=embeddings_model,\n",
    "    persist_directory=persist_directory\n",
    ")"
   ]
  },
  {
   "cell_type": "code",
   "execution_count": null,
   "id": "2a28a29a-b5d2-410f-bfb9-9ecd748d3548",
   "metadata": {},
   "outputs": [],
   "source": [
    "vectordb.persist()"
   ]
  },
  {
   "cell_type": "code",
   "execution_count": null,
   "id": "00f265ab-60d1-4c9f-955d-b71821d94efd",
   "metadata": {},
   "outputs": [],
   "source": [
    "print(vectordb._collection.count())"
   ]
  },
  {
   "cell_type": "markdown",
   "id": "6cf39559-ca22-4e69-872d-188c3361c882",
   "metadata": {},
   "source": [
    "## Similarity Search"
   ]
  },
  {
   "cell_type": "code",
   "execution_count": null,
   "id": "debb0432-0f90-468d-9aa5-d0765fc4c327",
   "metadata": {},
   "outputs": [],
   "source": [
    "question = \"I need a with vanilla\""
   ]
  },
  {
   "cell_type": "code",
   "execution_count": null,
   "id": "b4f93dcd-04dd-4456-911e-f240cf0b799b",
   "metadata": {},
   "outputs": [],
   "source": [
    "docs = vectordb.similarity_search(question,k=3)"
   ]
  },
  {
   "cell_type": "code",
   "execution_count": null,
   "id": "378f89a5-15db-48cf-ba61-198660958bb1",
   "metadata": {},
   "outputs": [],
   "source": [
    "len(docs)"
   ]
  },
  {
   "cell_type": "code",
   "execution_count": null,
   "id": "492ab617-290c-4966-a4da-124c81806228",
   "metadata": {},
   "outputs": [],
   "source": [
    "docs[0].page_content"
   ]
  }
 ],
 "metadata": {
  "kernelspec": {
   "display_name": "venv_recipes",
   "language": "python",
   "name": "venv_recipes"
  },
  "language_info": {
   "codemirror_mode": {
    "name": "ipython",
    "version": 3
   },
   "file_extension": ".py",
   "mimetype": "text/x-python",
   "name": "python",
   "nbconvert_exporter": "python",
   "pygments_lexer": "ipython3",
   "version": "3.12.4"
  }
 },
 "nbformat": 4,
 "nbformat_minor": 5
}
