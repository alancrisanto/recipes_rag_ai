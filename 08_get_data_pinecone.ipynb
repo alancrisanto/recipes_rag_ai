{
 "cells": [
  {
   "cell_type": "code",
   "execution_count": 1,
   "metadata": {},
   "outputs": [],
   "source": [
    "%load_ext autoreload\n",
    "%autoreload 2\n",
    "%load_ext dotenv\n",
    "%dotenv"
   ]
  },
  {
   "cell_type": "code",
   "execution_count": 2,
   "metadata": {},
   "outputs": [
    {
     "name": "stderr",
     "output_type": "stream",
     "text": [
      "/home/acrisvall/recipes_rag/.venv/lib/python3.12/site-packages/pinecone/data/index.py:1: TqdmWarning: IProgress not found. Please update jupyter and ipywidgets. See https://ipywidgets.readthedocs.io/en/stable/user_install.html\n",
      "  from tqdm.autonotebook import tqdm\n"
     ]
    }
   ],
   "source": [
    "import os\n",
    "import json\n",
    "import pandas as pd\n",
    "import time\n",
    "from pinecone import Pinecone as pcn\n",
    "from langchain_openai import OpenAIEmbeddings\n",
    "from langchain_pinecone import PineconeVectorStore\n",
    "from langchain_openai import OpenAI\n",
    "from IPython.display import Markdown"
   ]
  },
  {
   "cell_type": "markdown",
   "metadata": {},
   "source": [
    "### 01 Get API Keys"
   ]
  },
  {
   "cell_type": "code",
   "execution_count": 3,
   "metadata": {},
   "outputs": [],
   "source": [
    "api_key = os.environ.get(\"PINECONE_API_KEY\")\n",
    "openai_api_key = os.getenv('OPENAI_API_KEY')"
   ]
  },
  {
   "cell_type": "code",
   "execution_count": 4,
   "metadata": {},
   "outputs": [
    {
     "data": {
      "text/plain": [
       "{'dimension': 1536,\n",
       " 'index_fullness': 0.0,\n",
       " 'namespaces': {'': {'vector_count': 1106}},\n",
       " 'total_vector_count': 1106}"
      ]
     },
     "execution_count": 4,
     "metadata": {},
     "output_type": "execute_result"
    }
   ],
   "source": [
    "# configure client\n",
    "pc = pcn(api_key=api_key)\n",
    "index_name = 'recipes-index'\n",
    "index = pc.Index(index_name)\n",
    "index.describe_index_stats()"
   ]
  },
  {
   "cell_type": "markdown",
   "metadata": {},
   "source": [
    "### 02 Set Embedding Model"
   ]
  },
  {
   "cell_type": "code",
   "execution_count": 5,
   "metadata": {},
   "outputs": [],
   "source": [
    "embed_model = \"text-embedding-3-small\"\n",
    "embed = OpenAIEmbeddings(model=embed_model)"
   ]
  },
  {
   "cell_type": "code",
   "execution_count": 6,
   "metadata": {},
   "outputs": [],
   "source": [
    "text_field = \"description\"\n",
    "\n",
    "vectorStore = PineconeVectorStore(\n",
    "  index, embed, text_field\n",
    ")"
   ]
  },
  {
   "cell_type": "code",
   "execution_count": 8,
   "metadata": {},
   "outputs": [
    {
     "name": "stdout",
     "output_type": "stream",
     "text": [
      "{'input': 'Give the 03 recipes with spaghetti', 'context': [Document(id='43', metadata={'calories': '517', 'carbs': '65g', 'cook_time': '35 mins', 'diet_type': 'Dairy-free', 'difficulty': 'Easy', 'fat': '18g', 'fibre': '15g', 'id': '43', 'ingredients': '350gwholemeal spaghetti, 2 tbsprapeseed oil, 2aubergines(about 550g), each sliced into 4 lengthways, then cut into cubes, 4large garlic cloves,finely chopped, 3 tbsptomato purée, 1 tbspbalsamic vinegar, 250mlvegetable stock,made with 1 tbsp bouillon powder (vegan, if needed), 330gcherry tomatoes,halved, 30gpack of basil,chopped, 1 tbspcapers, 50gwalnut pieces,lightly toasted and chopped if large', 'instructions': 'Cook the spaghetti following pack instructions, then drain, reserving 150ml of the cooking water. Meanwhile, heat the oil in a large non-stick pan over a medium heat. Add the aubergine and garlic, stir well, then cover and cook for 8-10 mins, stirring a few times. Mix in the tomato purée and vinegar, and cook for 2-3 mins more. Pour in the stock, then cover and cook for a further 10-15 mins until the aubergine is tender when pierced with a knife. Add the cherry tomatoes and cook for a few minutes more until softened but still holding their shape. Stir in the basil, capers and walnuts, then toss through the spaghetti, adding a little of the reserved pasta water if needed to loosen. Serve half straightaway. Keep the remainder for another day.Will keep covered and chilled for up to four days. Reheat in a pan over a low heat with a splash of water until piping hot.', 'prep_time': '15 mins', 'protein': '17g', 'salt': '1.1g', 'saturates': '2g', 'serves': 'Serves 4', 'sugars': '8g', 'title': 'Spaghetti with tomatoes & walnuts'}, page_content=\"Serve up a bowl of spaghetti with aubergine, tomatoes, capers and walnuts for a fibre-rich, healthy and filling lunch that's part of our Healthy Diet Plan\"), Document(id='81', metadata={'calories': '591', 'carbs': '75g', 'cook_time': '20 mins', 'diet_type': 'None', 'difficulty': 'Easy', 'fat': '23g', 'fibre': '5g', 'id': '81', 'ingredients': '75mlextra virgin olive oil, 4 rashersstreaky bacon, 400gspaghetti, 6 largegarlic cloves, finely grated, 25gfresh parsley, finely chopped', 'instructions': 'Heat 1 tsp of the oil in anon-stick frying panand cook the bacon over a medium heat for 5-6 mins until crisp. Remove from the heat, leaving the oil behind. Set aside to drain on kitchen paper, then when cool enough to handle, finely chop. Bring a large pan of salted water to the boil and cook the spaghetti following pack instructions. A few minutes before the pasta is ready, pour the rest of the oil into the pan and cook the garlic over a medium-low heat for 1-2 mins until fragrant and beginning to brown (don’t let it burn or it will taste bitter). Drain the pasta, reserving a little pasta water, and tip into the garlic oil. Scatter in the parsley and fold together, adding a splash of pasta water to loosen, if needed. Spoon into bowls and scatter over the bacon.', 'prep_time': '5 mins', 'protein': '17g', 'salt': '0.9g', 'saturates': '4g', 'serves': 'Serves 4', 'sugars': '3g', 'title': 'Spaghetti aglio e olio with crispy bacon'}, page_content=\"Enjoy this super-simple and super-speedy spaghetti supper, with garlic, parsley and bacon tossed through pasta. It's ideal on days when your fridge is bare\"), Document(id='963', metadata={'calories': '704', 'carbs': '88g', 'cook_time': '25 mins', 'diet_type': 'Healthy', 'difficulty': 'Easy', 'fat': '27g', 'fibre': '12g', 'id': '963', 'ingredients': '200glong pasta(we used tagliatelle), 3 tbspolive oil, 2 smallbanana shallots,finely chopped, 3garlic cloves,finely chopped, 20gnduja, 2 tbsptomato purée, 200gspring greens,finely shredded, ½lemon,juiced, 25gbreadcrumbs, 10gparsley,finely chopped, 15gparmesan,finely grated', 'instructions': 'Cook the pasta following pack instructions and reserve a mugful of pasta water. Drain thoroughly. Heat 2 tbsp of the oil in a frying pan over a medium heat. Tip in the shallots with a pinch of salt. Fry gently for 10-12 mins until softened but not coloured, then stir in the garlic, nduja and tomato purée. Cook for a further 2-3 mins until the tomato purée has caramelised slightly. Mix in the spring greens, a splash of water and the lemon juice and cook for 4-5 mins until the greens have wilted. In a separate pan, heat the remaining oil and tip in the breadcrumbs. Stir to coat, then toast, over a medium heat, for 3 mins until golden. Remove from the heat and stir in the parsley, parmesan and a pinch of seasoning. Stir the cooked pasta into the pan of greens with a good splash of water and toss to coat, adding more pasta water as needed. Season to taste, adding a splash more lemon juice if needed. Scatter over the breadcrumb topping to serve.', 'prep_time': '15 mins', 'protein': '22g', 'salt': '1g', 'saturates': '6g', 'serves': 'Serves 2', 'sugars': '8g', 'title': 'Nduja & spring greens pasta'}, page_content=\"Combine pasta with nduja, spring greens and a breadcrumb topping to make this simple and speedy dish. It's ideal if you're after a simple midweek meal\"), Document(id='1085', metadata={'calories': '95', 'carbs': '11g', 'cook_time': '45 mins', 'diet_type': 'Freezable', 'difficulty': 'Easy', 'fat': '3g', 'fibre': '8g', 'id': '1085', 'ingredients': '1spaghetti squash, 1 tbsprapeseed or olive oil', 'instructions': 'Heat the oven to 180C/160C fan/gas 4.Cutthe squash in half lengthways and scoop out the seeds. Brush a little oil over the cut surface and season with salt and pepper. Put the squash cut-side down on abaking traylined with baking parchment and roast for 30 mins. Carefully turn the squash halves over and bake for another 15 mins, until tender and starting to caramelise. Leave to cool for 5 mins, then use a fork to pull into long, spaghetti-like strands. Use in place of pasta, in salads, or alongside roasted fish or meat.', 'prep_time': '10 mins', 'protein': '2g', 'salt': '0.11g', 'saturates': '0.4g', 'serves': 'Serves 4 - 6', 'sugars': '8g', 'title': 'Roasted spaghetti squash'}, page_content='When roasted, this squash can be pulled into long, spaghetti-like strands with a fork. Use in place of pasta, in salads, or with roasted fish or meat')], 'answer': \"Hello! I'm happy to share some delicious spaghetti recipes with you. Here are three tasty options:\\n\\n---\\n\\n**Title:** Spaghetti with Aubergine, Tomatoes, Capers, and Walnuts  \\n**Description:** A fibre-rich, healthy, and filling lunch that's part of our Healthy Diet Plan.  \\n**Preparation Time:** 10 minutes  \\n**Cooking Time:** 20 minutes  \\n**Difficulty:** Easy  \\n**Serves:** 4  \\n**Diet Type:** Vegetarian  \\n**Nutrition:** calories 400 | fat 15g | protein 12g | fiber 8g  \\n**Ingredients:**  \\n- Spaghetti  \\n- Aubergine  \\n- Tomatoes  \\n- Capers  \\n- Walnuts  \\n- Olive oil  \\n- Garlic  \\n- Fresh parsley  \\n- Salt and pepper  \\n\\n**Instructions:**  \\n1. Cook spaghetti according to package instructions.  \\n2. In a pan, heat olive oil and sauté garlic until fragrant.  \\n3. Add diced aubergine and cook until soft.  \\n4. Stir in chopped tomatoes, capers, and walnuts.  \\n5. Season with salt and pepper, and cook for another 5 minutes.  \\n6. Toss the cooked spaghetti with the sauce and garnish with fresh parsley.  \\n\\n---\\n\\n**Title:** Super-Speedy Spaghetti with Garlic, Parsley, and Bacon  \\n**Description:** A super-simple and super-speedy spaghetti supper, perfect for days when your fridge is bare.  \\n**Preparation Time:** 5 minutes  \\n**Cooking Time:** 15 minutes  \\n**Difficulty:** Easy  \\n**Serves:** 2  \\n**Diet Type:** Non-Vegetarian  \\n**Nutrition:** calories 550 | fat 25g | protein 20g | fiber 3g  \\n**Ingredients:**  \\n- Spaghetti  \\n- Bacon  \\n- Garlic  \\n- Fresh parsley  \\n- Olive oil  \\n- Salt and pepper  \\n\\n**Instructions:**  \\n1. Cook spaghetti according to package instructions.  \\n2. In a pan, cook bacon until crispy, then remove and set aside.  \\n3. In the same pan, sauté minced garlic in olive oil.  \\n4. Add the cooked spaghetti and toss to coat.  \\n5. Stir in chopped parsley and crumbled bacon.  \\n6. Season with salt and pepper before serving.  \\n\\n---\\n\\n**Title:** Spaghetti with Nduja, Spring Greens, and Breadcrumb Topping  \\n**Description:** A simple and speedy dish, ideal for a midweek meal.  \\n**Preparation Time:** 10 minutes  \\n**Cooking Time:** 15 minutes  \\n**Difficulty:** Easy  \\n**Serves:** 4  \\n**Diet Type:** Non-Vegetarian  \\n**Nutrition:** calories 500 | fat 20g | protein 18g | fiber 5g  \\n**Ingredients:**  \\n- Spaghetti  \\n- Nduja  \\n- Spring greens (like spinach or kale)  \\n- Breadcrumbs  \\n- Olive oil  \\n- Garlic  \\n- Parmesan cheese (optional)  \\n- Salt and pepper  \\n\\n**Instructions:**  \\n1. Cook spaghetti according to package instructions.  \\n2. In a pan, heat olive oil and sauté minced garlic.  \\n3. Add nduja and cook until melted.  \\n4. Stir in spring greens and cook until wilted.  \\n5. Toss the cooked spaghetti with the nduja mixture.  \\n6. Top with breadcrumbs and optional Parmesan cheese before serving.  \\n\\n---\\n\\nI hope you enjoy trying out these recipes! Happy cooking!\"}\n"
     ]
    },
    {
     "data": {
      "text/markdown": [
       "Hello! I'm happy to share some delicious spaghetti recipes with you. Here are three tasty options:\n",
       "\n",
       "---\n",
       "\n",
       "**Title:** Spaghetti with Aubergine, Tomatoes, Capers, and Walnuts  \n",
       "**Description:** A fibre-rich, healthy, and filling lunch that's part of our Healthy Diet Plan.  \n",
       "**Preparation Time:** 10 minutes  \n",
       "**Cooking Time:** 20 minutes  \n",
       "**Difficulty:** Easy  \n",
       "**Serves:** 4  \n",
       "**Diet Type:** Vegetarian  \n",
       "**Nutrition:** calories 400 | fat 15g | protein 12g | fiber 8g  \n",
       "**Ingredients:**  \n",
       "- Spaghetti  \n",
       "- Aubergine  \n",
       "- Tomatoes  \n",
       "- Capers  \n",
       "- Walnuts  \n",
       "- Olive oil  \n",
       "- Garlic  \n",
       "- Fresh parsley  \n",
       "- Salt and pepper  \n",
       "\n",
       "**Instructions:**  \n",
       "1. Cook spaghetti according to package instructions.  \n",
       "2. In a pan, heat olive oil and sauté garlic until fragrant.  \n",
       "3. Add diced aubergine and cook until soft.  \n",
       "4. Stir in chopped tomatoes, capers, and walnuts.  \n",
       "5. Season with salt and pepper, and cook for another 5 minutes.  \n",
       "6. Toss the cooked spaghetti with the sauce and garnish with fresh parsley.  \n",
       "\n",
       "---\n",
       "\n",
       "**Title:** Super-Speedy Spaghetti with Garlic, Parsley, and Bacon  \n",
       "**Description:** A super-simple and super-speedy spaghetti supper, perfect for days when your fridge is bare.  \n",
       "**Preparation Time:** 5 minutes  \n",
       "**Cooking Time:** 15 minutes  \n",
       "**Difficulty:** Easy  \n",
       "**Serves:** 2  \n",
       "**Diet Type:** Non-Vegetarian  \n",
       "**Nutrition:** calories 550 | fat 25g | protein 20g | fiber 3g  \n",
       "**Ingredients:**  \n",
       "- Spaghetti  \n",
       "- Bacon  \n",
       "- Garlic  \n",
       "- Fresh parsley  \n",
       "- Olive oil  \n",
       "- Salt and pepper  \n",
       "\n",
       "**Instructions:**  \n",
       "1. Cook spaghetti according to package instructions.  \n",
       "2. In a pan, cook bacon until crispy, then remove and set aside.  \n",
       "3. In the same pan, sauté minced garlic in olive oil.  \n",
       "4. Add the cooked spaghetti and toss to coat.  \n",
       "5. Stir in chopped parsley and crumbled bacon.  \n",
       "6. Season with salt and pepper before serving.  \n",
       "\n",
       "---\n",
       "\n",
       "**Title:** Spaghetti with Nduja, Spring Greens, and Breadcrumb Topping  \n",
       "**Description:** A simple and speedy dish, ideal for a midweek meal.  \n",
       "**Preparation Time:** 10 minutes  \n",
       "**Cooking Time:** 15 minutes  \n",
       "**Difficulty:** Easy  \n",
       "**Serves:** 4  \n",
       "**Diet Type:** Non-Vegetarian  \n",
       "**Nutrition:** calories 500 | fat 20g | protein 18g | fiber 5g  \n",
       "**Ingredients:**  \n",
       "- Spaghetti  \n",
       "- Nduja  \n",
       "- Spring greens (like spinach or kale)  \n",
       "- Breadcrumbs  \n",
       "- Olive oil  \n",
       "- Garlic  \n",
       "- Parmesan cheese (optional)  \n",
       "- Salt and pepper  \n",
       "\n",
       "**Instructions:**  \n",
       "1. Cook spaghetti according to package instructions.  \n",
       "2. In a pan, heat olive oil and sauté minced garlic.  \n",
       "3. Add nduja and cook until melted.  \n",
       "4. Stir in spring greens and cook until wilted.  \n",
       "5. Toss the cooked spaghetti with the nduja mixture.  \n",
       "6. Top with breadcrumbs and optional Parmesan cheese before serving.  \n",
       "\n",
       "---\n",
       "\n",
       "I hope you enjoy trying out these recipes! Happy cooking!"
      ],
      "text/plain": [
       "<IPython.core.display.Markdown object>"
      ]
     },
     "metadata": {},
     "output_type": "display_data"
    }
   ],
   "source": [
    "from langchain_core.prompts import ChatPromptTemplate\n",
    "from langchain.chains.combine_documents import create_stuff_documents_chain\n",
    "from langchain.chains import create_retrieval_chain\n",
    "from langchain_openai import ChatOpenAI \n",
    "from langchain.chains.conversation.memory import ConversationBufferWindowMemory\n",
    "\n",
    "# completion llm  \n",
    "llm = ChatOpenAI(  \n",
    "    model_name='gpt-4o-mini',  \n",
    "    temperature=0.0  \n",
    ") \n",
    "\n",
    "retriever = vectorStore.as_retriever(search_type=\"similarity\", k=3)\n",
    "# 2. Incorporate the retriever into a question-answering chain.\n",
    "system_prompt = (\n",
    "  \"\"\"\n",
    "    Always add a kind and friendly message according to the context at the beginning of the response.\n",
    "    Take the information from context[0][\"metadata\"]\n",
    "    Then follow this format\n",
    "    Title: [Title of the Recipe]\n",
    "    Description: [Short Description of the Recipe]\n",
    "    Preparation Time: [Preparation Time]\n",
    "    Cooking Time: [Cooking Time]\n",
    "    Difficulty: [Difficulty Level]\n",
    "    Serves: [Number of Servings]\n",
    "    Diet Type: [Diet Type]\n",
    "    Nutrition: calories context[0][\"metadata\"][\"calories\"] | fat context[0][\"metadata\"][\"fat\"] | protein context[0][\"metadata\"][\"protein\"] | fiber context[0][\"metadata\"][\"fibre\"]\n",
    "    Ingredients: [List of Ingredients]\n",
    "    Instructions: [Step-by-step Cooking Instructions]\n",
    "\n",
    "    If you don't have any general information, just respond with \"I don't know!\"\n",
    "\n",
    "    {context}\n",
    "    {{metadata}}\n",
    "    \"\"\"\n",
    ")\n",
    "\n",
    "prompt = ChatPromptTemplate.from_messages(\n",
    "    [\n",
    "        (\"system\", system_prompt),\n",
    "        (\"human\", \"{input}\"),\n",
    "    ]\n",
    ")\n",
    "\n",
    "question_answer_chain = create_stuff_documents_chain(llm, prompt)\n",
    "rag_chain = create_retrieval_chain(retriever, question_answer_chain)\n",
    "\n",
    "response = rag_chain.invoke({\"input\": \"Give the 03 recipes with spaghetti\"})\n",
    "print(response)\n",
    "response[\"answer\"]\n",
    "display(Markdown(response[\"answer\"]))"
   ]
  },
  {
   "cell_type": "code",
   "execution_count": null,
   "metadata": {},
   "outputs": [],
   "source": []
  }
 ],
 "metadata": {
  "kernelspec": {
   "display_name": "venv_recipes",
   "language": "python",
   "name": "venv_recipes"
  },
  "language_info": {
   "codemirror_mode": {
    "name": "ipython",
    "version": 3
   },
   "file_extension": ".py",
   "mimetype": "text/x-python",
   "name": "python",
   "nbconvert_exporter": "python",
   "pygments_lexer": "ipython3",
   "version": "3.12.6"
  }
 },
 "nbformat": 4,
 "nbformat_minor": 2
}
