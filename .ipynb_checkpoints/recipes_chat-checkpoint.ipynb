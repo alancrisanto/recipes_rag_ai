{
 "cells": [
  {
   "cell_type": "markdown",
   "id": "cf1d8a9b-d988-45cc-a6db-983f69035b0a",
   "metadata": {},
   "source": [
    "# Document Data, Chunks and Emmbeddings"
   ]
  },
  {
   "cell_type": "code",
   "execution_count": 1,
   "id": "140fc8b4-c678-4351-97ba-2d7acd30e122",
   "metadata": {},
   "outputs": [],
   "source": [
    "import os\n",
    "import openai\n",
    "import sys\n",
    "sys.path.append('../..')\n",
    "\n",
    "from dotenv import load_dotenv, find_dotenv\n",
    "_ = load_dotenv(find_dotenv()) # read local .env file\n",
    "\n",
    "openai.api_key  = os.environ['OPENAI_API_KEY']"
   ]
  },
  {
   "cell_type": "code",
   "execution_count": 2,
   "id": "e224290a-14ae-4d75-bc59-6ec85a65480a",
   "metadata": {},
   "outputs": [],
   "source": [
    "base_dir = \"data/md_files\"\n",
    "doc_path_test = \"data/recipes_batch_1_test.md\""
   ]
  },
  {
   "cell_type": "markdown",
   "id": "126b2695-2d87-4d69-aa28-aadc65ce80d1",
   "metadata": {},
   "source": [
    "## Document Loaders"
   ]
  },
  {
   "cell_type": "code",
   "execution_count": 3,
   "id": "f9a5b022-ecf2-49fe-891b-f1ddba548c00",
   "metadata": {},
   "outputs": [
    {
     "name": "stderr",
     "output_type": "stream",
     "text": [
      "100%|████████████████████████████████████████████████████████████████████████████████████████████████| 38/38 [00:11<00:00,  3.27it/s]\n"
     ]
    },
    {
     "data": {
      "text/plain": [
       "38"
      ]
     },
     "execution_count": 3,
     "metadata": {},
     "output_type": "execute_result"
    }
   ],
   "source": [
    "# from langchain_community.document_loaders import UnstructuredMarkdownLoader\n",
    "from langchain_community.document_loaders import DirectoryLoader\n",
    "loader = DirectoryLoader(base_dir, glob=\"**/*.md\", show_progress=True)\n",
    "docs = loader.load()\n",
    "len(docs)"
   ]
  },
  {
   "cell_type": "code",
   "execution_count": 4,
   "id": "9d529301-4fa7-41f7-b134-b5a8e105d745",
   "metadata": {},
   "outputs": [
    {
     "name": "stdout",
     "output_type": "stream",
     "text": [
      "Artichoke, chickpea & feta salad\n",
      "\n",
      "Link: https://www.bbcgoodfood.com/recipes/jarred-chopped-salad\n",
      "\n",
      "De\n"
     ]
    }
   ],
   "source": [
    "print(docs[37].page_content[:100])"
   ]
  },
  {
   "cell_type": "code",
   "execution_count": 5,
   "id": "b0aacc21-ad32-4635-ab28-b0b97f9e708f",
   "metadata": {},
   "outputs": [
    {
     "data": {
      "text/plain": [
       "{'source': 'data/md_files/recipes_batch_7.md'}"
      ]
     },
     "execution_count": 5,
     "metadata": {},
     "output_type": "execute_result"
    }
   ],
   "source": [
    "docs[0].metadata"
   ]
  },
  {
   "cell_type": "markdown",
   "id": "db57731d-53b9-419e-a4a3-a41a33b48b79",
   "metadata": {},
   "source": [
    "## Document Splitting with Langchain"
   ]
  },
  {
   "cell_type": "code",
   "execution_count": 6,
   "id": "79c38308-c88a-4818-ac26-3371fe5f304d",
   "metadata": {},
   "outputs": [],
   "source": [
    "# from langchain.text_splitter import MarkdownHeaderTextSplitter"
   ]
  },
  {
   "cell_type": "code",
   "execution_count": 7,
   "id": "b69d8858-5035-41a1-86c6-99fc618c3adf",
   "metadata": {},
   "outputs": [],
   "source": [
    "markdown_text = ' '.join([d.page_content for d in docs])"
   ]
  },
  {
   "cell_type": "code",
   "execution_count": 8,
   "id": "07aaa05e-a1e3-4da9-8ae1-373cb886af99",
   "metadata": {},
   "outputs": [
    {
     "data": {
      "text/plain": [
       "2078155"
      ]
     },
     "execution_count": 8,
     "metadata": {},
     "output_type": "execute_result"
    }
   ],
   "source": [
    "len(markdown_text)"
   ]
  },
  {
   "cell_type": "code",
   "execution_count": 9,
   "id": "fbc0a216-f31c-40d2-a9ee-3a72f61d8332",
   "metadata": {},
   "outputs": [
    {
     "data": {
      "text/plain": [
       "\"Easy red cabbage\\n\\nLink: https://www.bbcgoodfood.com/recipes/easy-red-cabbage\\n\\nDescription: Bring red cabbage to life with the flavours of cinnamon and star anise. It's a great side dish at Christmas, along with all the traditional trimmings\\n\\nPrep Time: 15 mins\\n\\nCook Time: 50 mins\\n\\nDifficulty: Easy\\n\\nServes: Serves 6-8\\n\\nDiet Type: Freezable\\n\\nNutrition Information\\n\\nkcal: 73\\n\\nfat: 0.5g\\n\\nsaturates: 0g\\n\\ncarbs: 12g\\n\\nsugars: 11g\\n\\nfibre: 3g\\n\\nprotein: 1g\\n\\nsalt: 0.1g\\n\\nIngredients\\n\\n100mlwhite wine\\n\\n1 mediumred cabbage, finely sliced\\n\\n4star anise\\n\\n2cinnamon sticks\\n\\n100mlvegetable stock\\n\\n50glight brown soft sugar\\n\\n50mlcider vinegar\\n\\nMethod\\n\\nPut the wine in asaucepanover a medium heat. Bring to a simmer and cook for 3 mins. Add the remaining ingredients and bring back to the boil.\\n\\nReduce the heat to a simmer, cover and cook for 30 mins, then remove the lid and cook for 15 mins.Will keep chilled for three days or frozen for up to a month.\\n\\nCarrot & swede mash with brown butter & thyme\\n\\nLink: https://www.bbcgoodfood.com/recipes/carrot-swede-mash-with-brown-butter-thyme\\n\\nDescription: Transform carrot\""
      ]
     },
     "execution_count": 9,
     "metadata": {},
     "output_type": "execute_result"
    }
   ],
   "source": [
    "markdown_text[:1100]"
   ]
  },
  {
   "cell_type": "code",
   "execution_count": 10,
   "id": "46429da3-6551-4cd3-b32e-69411d823993",
   "metadata": {},
   "outputs": [],
   "source": [
    "chunk_size =26\n",
    "chunk_overlap = 4"
   ]
  },
  {
   "cell_type": "code",
   "execution_count": 11,
   "id": "343c5f10-7b94-4812-9cd3-fcbc6433cf7a",
   "metadata": {},
   "outputs": [],
   "source": [
    "from langchain.text_splitter import CharacterTextSplitter\n",
    "text_splitter = CharacterTextSplitter(\n",
    "    separator=\"\\n\\n\",\n",
    "    chunk_size=1100,\n",
    "    chunk_overlap=150,\n",
    "    length_function=len\n",
    ")"
   ]
  },
  {
   "cell_type": "code",
   "execution_count": 12,
   "id": "dd88268c-63ef-4daa-87fa-54af760bf7b6",
   "metadata": {},
   "outputs": [],
   "source": [
    "chunks = text_splitter.split_documents(docs)"
   ]
  },
  {
   "cell_type": "code",
   "execution_count": 13,
   "id": "104ae2b5-f2f2-4dac-a11e-cb2d88b112d3",
   "metadata": {},
   "outputs": [
    {
     "data": {
      "text/plain": [
       "2285"
      ]
     },
     "execution_count": 13,
     "metadata": {},
     "output_type": "execute_result"
    }
   ],
   "source": [
    "len(chunks)"
   ]
  },
  {
   "cell_type": "code",
   "execution_count": null,
   "id": "d57a8453-2b30-4c65-9736-09c77c94fa96",
   "metadata": {},
   "outputs": [],
   "source": []
  },
  {
   "cell_type": "code",
   "execution_count": null,
   "id": "aba4c8bc-9a0d-4e51-9d1c-82c78163e232",
   "metadata": {},
   "outputs": [],
   "source": []
  }
 ],
 "metadata": {
  "kernelspec": {
   "display_name": "venv_recipes",
   "language": "python",
   "name": "venv_recipes"
  },
  "language_info": {
   "codemirror_mode": {
    "name": "ipython",
    "version": 3
   },
   "file_extension": ".py",
   "mimetype": "text/x-python",
   "name": "python",
   "nbconvert_exporter": "python",
   "pygments_lexer": "ipython3",
   "version": "3.12.4"
  }
 },
 "nbformat": 4,
 "nbformat_minor": 5
}
