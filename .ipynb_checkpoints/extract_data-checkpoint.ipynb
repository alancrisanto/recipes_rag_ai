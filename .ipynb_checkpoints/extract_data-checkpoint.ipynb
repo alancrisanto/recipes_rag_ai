{
 "cells": [
  {
   "cell_type": "markdown",
   "id": "7553348a-9fec-494b-a8e0-d2699d0d7bcd",
   "metadata": {},
   "source": [
    "## Extracting data from Web Pages Using Beautiful Soup"
   ]
  },
  {
   "cell_type": "code",
   "execution_count": 1,
   "id": "3d051764-2447-4513-a5a2-3fcb81a39ae9",
   "metadata": {},
   "outputs": [],
   "source": [
    "import re\n",
    "from typing import Any, cast\n",
    "import json\n",
    "\n",
    "from bs4 import BeautifulSoup, Tag"
   ]
  },
  {
   "cell_type": "code",
   "execution_count": 2,
   "id": "bc88bc9d-859e-41fe-a83e-ef2865b04b83",
   "metadata": {},
   "outputs": [],
   "source": [
    "path = 'data/raw/all_recipes_test.json'\n",
    "out_path = 'data'\n",
    "bs_parser = 'html.parser'"
   ]
  },
  {
   "cell_type": "markdown",
   "id": "b38a2696-18e8-4e4c-a374-18143123512c",
   "metadata": {},
   "source": [
    "### Helper Functions"
   ]
  },
  {
   "cell_type": "code",
   "execution_count": 3,
   "id": "c24f421c-ba76-4b2e-b099-b960045f78ea",
   "metadata": {},
   "outputs": [],
   "source": [
    "def clean(text: Any) -> str:\n",
    "    \"\"\"Convert text to a string and clean it.\"\"\"\n",
    "    if text is None:\n",
    "        return \"\"\n",
    "    if isinstance(text, Tag):\n",
    "        text = text.get_text()\n",
    "    if not isinstance(text, str):\n",
    "        text = str(text)\n",
    "    \"\"\"Replace non-breaking space with normal space and remove surrounding whitespace.\"\"\"\n",
    "    text = text.replace(\" \", \" \").replace(\"\\u200b\", \"\").replace(\"\\u200a\", \" \")\n",
    "    text = re.sub(r\"(\\n\\s*)+\\n\", \"\\n\\n\", text)\n",
    "    text = re.sub(r\" +\\n\", \"\\n\", text)\n",
    "    return text.strip()\n",
    "    \n",
    "    return cast(str, text.strip())"
   ]
  },
  {
   "cell_type": "code",
   "execution_count": 4,
   "id": "665fa77b-23f0-401a-abe2-b31fee307d4d",
   "metadata": {},
   "outputs": [],
   "source": [
    "def get_general_info(soup, link):\n",
    "    title = clean(soup.select_one(\".heading-1\").get_text())\n",
    "    # Handle elements with the same class\n",
    "    time_elements = soup.select(\"ul.recipe__cook-and-prep li span time\")\n",
    "    prep_time = clean(time_elements[0].get_text())\n",
    "    cook_time = clean(time_elements[1].get_text()) if len(time_elements) > 1 else \"No Cook\"\n",
    "\n",
    "    difficulty_element = soup.select_one(\"ul.recipe__cook-and-prep li:nth-child(2) .icon-with-text__children\")\n",
    "    serves_element = soup.select_one(\"ul.recipe__cook-and-prep li:nth-child(3) .icon-with-text__children\")\n",
    "\n",
    "    difficulty = clean(difficulty_element.get_text())\n",
    "    serves = clean(serves_element.get_text())\n",
    "    \n",
    "    description = clean(soup.select_one(\".post-header__description\").get_text())\n",
    "    diet_element = soup.select_one(\".terms-icons-list__text\")\n",
    "    diet_type = clean(diet_element.get_text()) if diet_element else \"None\"\n",
    "\n",
    "    return {\n",
    "        \"link\": link,\n",
    "        \"title\": title,\n",
    "        \"prep_time\": prep_time,\n",
    "        \"cook_time\": cook_time,\n",
    "        \"difficulty\": difficulty,\n",
    "        \"serves\": serves,\n",
    "        \"description\": description,\n",
    "        \"diet_type\": diet_type,\n",
    "    }    "
   ]
  },
  {
   "cell_type": "code",
   "execution_count": 5,
   "id": "d66d19c4-27e4-4923-a2ad-bd665d91bc5f",
   "metadata": {},
   "outputs": [],
   "source": [
    "# Helper function to obtain nutritional info from recipes\n",
    "def get_nutrition_info(soup):\n",
    "    nutrition_values = {}\n",
    "    \n",
    "    # Extract values from table\n",
    "    for row in soup.select('tbody.key-value-blocks__batch tr.key-value-blocks__item'):\n",
    "        key = row.select_one('td.key-value-blocks__key').text.strip()\n",
    "        value = row.select_one('td.key-value-blocks__value').text.strip()\n",
    "        nutrition_values[key] = value\n",
    "\n",
    "    return nutrition_values"
   ]
  },
  {
   "cell_type": "code",
   "execution_count": 6,
   "id": "66aafd09-8837-4106-ab91-1450eb156182",
   "metadata": {},
   "outputs": [],
   "source": [
    "def get_instructions (soup):\n",
    "    # List to store the final output\n",
    "    ingredients_list = []\n",
    "    \n",
    "    # Find the section with ingredients\n",
    "    ingredients_section = soup.find('section', class_='recipe__ingredients')\n",
    "    \n",
    "    if ingredients_section:\n",
    "        # Find all sub-sections within the main ingredients section\n",
    "        subsections = ingredients_section.find_all('section')\n",
    "        \n",
    "        for subsection in subsections:\n",
    "            # Find all <li> tags within the current subsection\n",
    "            ingredients_items = subsection.find_all('li')\n",
    "            for item in ingredients_items:\n",
    "                ingredients_list.append(item.get_text(strip=True))\n",
    "            \n",
    "            # Check for a heading (e.g., 'For the dressing') and extract the ingredients under it\n",
    "            heading = subsection.find('h3')\n",
    "            if heading:\n",
    "                heading_text = heading.get_text(strip=True)\n",
    "                ingredients_list.append(heading_text)\n",
    "                ul = heading.find_next('ul')\n",
    "                ingredients_items = ul.find_all('li')\n",
    "                for item in ingredients_items:\n",
    "                    ingredients_list.append(item.get_text(strip=True))\n",
    "    \n",
    "    return ingredients_list\n"
   ]
  },
  {
   "cell_type": "code",
   "execution_count": 7,
   "id": "d72a8770-b2ef-441c-883f-9e6d05c0797c",
   "metadata": {},
   "outputs": [],
   "source": [
    "def extract_methods(soup):\n",
    "\n",
    "    # List to store the final output\n",
    "    methods_list = []\n",
    "    \n",
    "    # Find the section with methods\n",
    "    methods_section = soup.find('section', class_='recipe__method-steps')\n",
    "    \n",
    "    if methods_section:\n",
    "        # Find all steps within the methods section\n",
    "        steps = methods_section.find_all('li', class_='list-item')\n",
    "        \n",
    "        for step in steps:\n",
    "            step_text = step.find('div', class_='editor-content').get_text(strip=True)\n",
    "            methods_list.append(step_text)\n",
    "    \n",
    "    return methods_list"
   ]
  },
  {
   "cell_type": "code",
   "execution_count": 8,
   "id": "c129712f-05b6-441b-9ea9-04803be308e9",
   "metadata": {},
   "outputs": [],
   "source": [
    "def process_recipe(recipe):\n",
    "    soup = BeautifulSoup(recipe['html'], bs_parser)\n",
    "    link = recipe['url']\n",
    "    \n",
    "    general_info = get_general_info(soup, link)\n",
    "    nutrition_info = get_nutrition_info(soup)\n",
    "    instructions = get_instructions(soup)\n",
    "    methods = extract_methods(soup)\n",
    "    \n",
    "    return {\n",
    "        \"general_info\": general_info,\n",
    "        \"nutrition_info\": nutrition_info,\n",
    "        \"instructions\": instructions,\n",
    "        \"methods\": methods\n",
    "    }"
   ]
  },
  {
   "cell_type": "code",
   "execution_count": 9,
   "id": "913cdcb1-0b80-4320-bab3-6caf184e27d1",
   "metadata": {},
   "outputs": [],
   "source": [
    "def process_recipes(data):\n",
    "    recipes = []\n",
    "    for item in data:\n",
    "        recipe = process_recipe(item)\n",
    "        recipes.append(recipe)\n",
    "    return recipes"
   ]
  },
  {
   "cell_type": "code",
   "execution_count": 10,
   "id": "cbeb793f-ad0e-40fb-9ed0-d9b1b051d574",
   "metadata": {},
   "outputs": [],
   "source": [
    "def save_recipes_to_markdown(recipes, batch_size=30):\n",
    "    for i in range(0, len(recipes), batch_size):\n",
    "        batch = recipes[i:i+batch_size]\n",
    "        markdown_content = \"\"\n",
    "        \n",
    "        for recipe in batch:\n",
    "            markdown_content += f\"## {recipe['general_info']['title']}\\n\"\n",
    "            markdown_content += f\"**Link:** {recipe['general_info']['link']}\\n\\n\"\n",
    "            markdown_content += f\"**Description:** {recipe['general_info']['description']}\\n\\n\"\n",
    "            markdown_content += f\"**Prep Time:** {recipe['general_info']['prep_time']}\\n\\n\"\n",
    "            markdown_content += f\"**Cook Time:** {recipe['general_info']['cook_time']}\\n\\n\"\n",
    "            markdown_content += f\"**Difficulty:** {recipe['general_info']['difficulty']}\\n\\n\"\n",
    "            markdown_content += f\"**Serves:** {recipe['general_info']['serves']}\\n\\n\"\n",
    "            markdown_content += f\"**Diet Type:** {recipe['general_info']['diet_type']}\\n\\n\"\n",
    "            \n",
    "            markdown_content += \"### Nutrition Information\\n\"\n",
    "            for key, value in recipe['nutrition_info'].items():\n",
    "                markdown_content += f\"- **{key}:** {value}\\n\"\n",
    "            \n",
    "            markdown_content += \"\\n### Ingredients\\n\"\n",
    "            for ingredient in recipe['instructions']:\n",
    "                markdown_content += f\"- {ingredient}\\n\"\n",
    "            \n",
    "            markdown_content += \"\\n### Method\\n\"\n",
    "            for step in recipe['methods']:\n",
    "                markdown_content += f\"- {step}\\n\"\n",
    "            \n",
    "            markdown_content += \"\\n\\n---\\n\\n\"\n",
    "        \n",
    "        \n",
    "        with open(f'{out_path}/recipes_batch_{i//batch_size + 1}.md', 'w') as f:\n",
    "            f.write(markdown_content)"
   ]
  },
  {
   "cell_type": "code",
   "execution_count": 11,
   "id": "6388a7cf-daab-40fb-bb8e-ee18dc492e73",
   "metadata": {},
   "outputs": [],
   "source": [
    "# Load data from json file\n",
    "with open(path, 'r') as file:\n",
    "    data = json.load(file)\n",
    "\n",
    "# Proccess recipes\n",
    "recipes = process_recipes(data)\n",
    "\n",
    "# save recipes in markdown files\n",
    "save_recipes_to_markdown(recipes)"
   ]
  }
 ],
 "metadata": {
  "kernelspec": {
   "display_name": "venv_recipes",
   "language": "python",
   "name": "venv_recipes"
  },
  "language_info": {
   "codemirror_mode": {
    "name": "ipython",
    "version": 3
   },
   "file_extension": ".py",
   "mimetype": "text/x-python",
   "name": "python",
   "nbconvert_exporter": "python",
   "pygments_lexer": "ipython3",
   "version": "3.12.4"
  }
 },
 "nbformat": 4,
 "nbformat_minor": 5
}
