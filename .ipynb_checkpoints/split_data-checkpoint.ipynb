{
 "cells": [
  {
   "cell_type": "code",
   "execution_count": 1,
   "id": "ec9fb75a-b427-433f-a86c-959b999a68d1",
   "metadata": {},
   "outputs": [],
   "source": [
    "%load_ext autoreload\n",
    "%autoreload 2\n",
    "%load_ext dotenv\n",
    "%dotenv"
   ]
  },
  {
   "cell_type": "code",
   "execution_count": 2,
   "id": "2bdbef05-8d1f-474f-88aa-801f33aad20b",
   "metadata": {},
   "outputs": [],
   "source": [
    "from llama_index.core import Document\n",
    "from llama_index.core.node_parser import (\n",
    "    SentenceSplitter,\n",
    "    SemanticSplitterNodeParser,\n",
    "    MarkdownNodeParser,\n",
    ")\n",
    "from llama_index.embeddings.openai import OpenAIEmbedding"
   ]
  },
  {
   "cell_type": "code",
   "execution_count": 3,
   "id": "de89439a-f646-47b8-a61e-849a15f5dc6b",
   "metadata": {},
   "outputs": [],
   "source": [
    "# configure\n",
    "base_dir = \"data/\"\n",
    "filename = 'all_recipes_one.json'"
   ]
  },
  {
   "cell_type": "code",
   "execution_count": 4,
   "id": "0dc6a314-ecaf-4a1e-bc93-45c92650be40",
   "metadata": {},
   "outputs": [],
   "source": [
    "def print_nodes(nodes):\n",
    "    for ix, node in enumerate(nodes):\n",
    "        print(f\"\\n\\n>>> Node {ix} length={len(node.text)}\\n\")\n",
    "        print(f\">>>{ix} {node.id_}\")\n",
    "        print(\"Metadata\", node.metadata)\n",
    "        print(\"Text\", node.text[:200])\n",
    "        print(\"\\n\\n\")\n"
   ]
  },
  {
   "cell_type": "markdown",
   "id": "6dec6742-d32b-452d-b836-354f493d0cd1",
   "metadata": {},
   "source": [
    "## Load Document"
   ]
  },
  {
   "cell_type": "code",
   "execution_count": 5,
   "id": "08508dd6-7efb-486b-81e6-54895f355bec",
   "metadata": {},
   "outputs": [
    {
     "name": "stdout",
     "output_type": "stream",
     "text": [
      "2495526\n"
     ]
    }
   ],
   "source": [
    "import json\n",
    "with open(f'{base_dir}{filename}', 'r', encoding='utf-8') as file:\n",
    "    document = Document(\n",
    "        text = file.read(),\n",
    "        metadata = {\"filename\": filename},\n",
    "    )\n",
    "print(len(document.text))"
   ]
  },
  {
   "cell_type": "code",
   "execution_count": 6,
   "id": "5a652410-a63c-412f-b384-807e7afe5d8c",
   "metadata": {},
   "outputs": [
    {
     "name": "stdout",
     "output_type": "stream",
     "text": [
      "[\n",
      "  {\n",
      "    \"general_info\": {\n",
      "      \"link\": \"https://www.bbcgoodfood.com/recipes/bloody-mary-mussels\",\n",
      "      \"title\": \"Bloody mary mussels\",\n",
      "      \"prep_time\": \"30 mins\",\n",
      "      \"cook_time\": \"20 mins\",\n",
      "      \"difficulty\": \"Easy\",\n",
      "      \"serves\": \"Serves 4\",\n",
      "      \"description\": \"The mussels get a little kick from the vodka in this bloody mary mussels recipe. Serve with garlic bread or fries to mop up the sauce\",\n",
      "      \"diet_type\": \"Low fat\"\n",
      "    },\n",
      "    \"nutrition_info\": {\n",
      "      \"kcal\": \"228\",\n",
      "      \"fat\": \"6g\",\n",
      "      \"saturates\": \"1g\",\n",
      "      \"carbs\": \"6g\",\n",
      "      \"sugars\": \"5g\",\n",
      "      \"fibre\": \"2g\",\n",
      "      \"protein\": \"26g\",\n",
      "      \"salt\": \"3.2g\"\n",
      "    },\n",
      "    \"ingredients\": [\n",
      "      \"1 tbspolive oil\",\n",
      "      \"2celery sticks,finely chopped\",\n",
      "      \"1red chilli,finely chopped\",\n",
      "      \"1onion,finely chopped\",\n",
      "      \"1lemon,zest peeled into strips, juiced\",\n",
      "      \"75mlvodka\",\n",
      "      \"250mltomato juice\",\n",
      "      \"5gdashi powder(see tip, below)\",\n",
      "      \"½ tspcelery salt\",\n",
      "      \"2 tspWorcestershire sauce\",\n",
      "      \"a few dashes of hot sauce\",\n",
      "      \"1tspsherry vinegar\",\n",
      "      \"ground white pepper,for seasoning\",\n",
      "      \"2kgmussels,debearded and cleaned\",\n",
      "      \"small handful of parsley,finely chopped\",\n",
      "      \"garlic breador fries, to serve\"\n",
      "    ],\n",
      "    \"instructions\": [\n",
      "      \"Heat the oil in a large, deepsaucepanover a medium heat and fry the celery, chilli, onion and lemon zest strips for 8-10 mins until slightly softened, but not coloured. Pour in the vodka, tomato juice, dashi powder, celery salt, Worcestershire sauce, hot sauce, sherry vinegar and 150ml water. Bring to a gentle simmer and bubble for a few minutes until slightly thickened. Season well with white pepper and a dash more hot sauce and Worcestershire sauce, if you like.\",\n",
      "      \"Turn the heat up to high and tip in the cleaned mussels. Put a lid on and steam for 3-4 mins, giving the pan a few vigorous shakes to cook evenly. The shells should be open when cooked; discard any unopened mussels. Sprinkle over the parsley and serve with garlic bread or fries for mopping up the sauce.\"\n",
      "    ]\n",
      "  },\n",
      "  {\n",
      "    \"general_info\": {\n",
      "      \n"
     ]
    }
   ],
   "source": [
    "cutoff = 2100\n",
    "print(document.text[:cutoff])"
   ]
  },
  {
   "cell_type": "markdown",
   "id": "ef95e9a4-79af-4de2-80a8-a08c09301436",
   "metadata": {},
   "source": [
    "## Sentence Splitter"
   ]
  },
  {
   "cell_type": "code",
   "execution_count": 7,
   "id": "2439d886-9bbe-4927-9d2e-11ec37d62293",
   "metadata": {},
   "outputs": [],
   "source": [
    "chunk_size = 2050\n",
    "chunk_overlap = 50"
   ]
  },
  {
   "cell_type": "code",
   "execution_count": 8,
   "id": "24ccffab-bf53-4cc5-83b5-cdb6a245d262",
   "metadata": {},
   "outputs": [
    {
     "name": "stdout",
     "output_type": "stream",
     "text": [
      "1118\n"
     ]
    }
   ],
   "source": [
    "from llama_index.core.node_parser import JSONNodeParser\n",
    "\n",
    "parser = JSONNodeParser()\n",
    "\n",
    "nodes = parser.get_nodes_from_documents([document], show_progress=False)\n",
    "print(len(nodes))"
   ]
  },
  {
   "cell_type": "code",
   "execution_count": 9,
   "id": "c6b7143b-e7c0-4971-a21f-eeb6f1da5a89",
   "metadata": {},
   "outputs": [
    {
     "name": "stdout",
     "output_type": "stream",
     "text": [
      "\n",
      "\n",
      ">>> Node 0 length=2032\n",
      "\n",
      ">>>0 f2ee1305-fe90-47cd-8f55-b1de5401cab1\n",
      "Metadata {'filename': 'all_recipes_one.json'}\n",
      "Text general_info link https://www.bbcgoodfood.com/recipes/bloody-mary-mussels\n",
      "general_info title Bloody mary mussels\n",
      "general_info prep_time 30 mins\n",
      "general_info cook_time 20 mins\n",
      "general_info difficulty E\n",
      "\n",
      "\n",
      "\n",
      "\n",
      "\n",
      ">>> Node 1 length=2801\n",
      "\n",
      ">>>1 11c389a1-98b6-4bf9-9a01-08acd3cab484\n",
      "Metadata {'filename': 'all_recipes_one.json'}\n",
      "Text general_info link https://www.bbcgoodfood.com/recipes/spelt-pancakes-with-rhubarb\n",
      "general_info title Spelt pancakes with rhubarb\n",
      "general_info prep_time 15 mins\n",
      "general_info cook_time 50 mins\n",
      "general_i\n",
      "\n",
      "\n",
      "\n"
     ]
    }
   ],
   "source": [
    "print_nodes(nodes[:2])"
   ]
  },
  {
   "cell_type": "code",
   "execution_count": 10,
   "id": "c1dcadd5-c1d8-4378-819b-f21e3d3a549d",
   "metadata": {},
   "outputs": [
    {
     "name": "stdout",
     "output_type": "stream",
     "text": [
      "<class 'list'>\n"
     ]
    }
   ],
   "source": [
    "print(type(nodes))"
   ]
  },
  {
   "cell_type": "markdown",
   "id": "385fbc92-1567-4c80-adce-c5555b90e1ea",
   "metadata": {},
   "source": [
    "## Embeddings"
   ]
  },
  {
   "cell_type": "code",
   "execution_count": 18,
   "id": "393f088a-3e26-4cf8-8aa0-c91e7c59539c",
   "metadata": {},
   "outputs": [],
   "source": [
    "import re\n",
    "import os\n",
    "from dotenv import load_dotenv\n",
    "from pinecone import Pinecone, ServerlessSpec"
   ]
  },
  {
   "cell_type": "code",
   "execution_count": 20,
   "id": "4dcb3e31-3671-4fd8-aed1-d73852c4fa9f",
   "metadata": {},
   "outputs": [],
   "source": [
    "load_dotenv()\n",
    "\n",
    "api_key = os.getenv(\"PINECONE_API_KEY\")\n",
    "openai_key = os.getenv(\"OPENAI_API_KEY\")\n",
    "\n",
    "pc = Pinecone(api_key=api_key)"
   ]
  },
  {
   "cell_type": "markdown",
   "id": "250c3b6d-4cc8-4ca4-80cf-076a3f1def69",
   "metadata": {},
   "source": [
    "## Creating a Pinecone Index"
   ]
  },
  {
   "cell_type": "code",
   "execution_count": 33,
   "id": "c88c3c53-b792-4089-8225-44d81666070b",
   "metadata": {},
   "outputs": [],
   "source": [
    "from llama_index.core import VectorStoreIndex, SimpleDirectoryReader\n",
    "from llama_index.vector_stores.pinecone import PineconeVectorStore\n",
    "from IPython.display import Markdown, display\n",
    "from llama_index.core import StorageContext"
   ]
  },
  {
   "cell_type": "code",
   "execution_count": null,
   "id": "1dd2a071-039d-4bf1-99f7-a7d3c047471e",
   "metadata": {},
   "outputs": [],
   "source": [
    "pc.delete_index(\"recipes\")"
   ]
  },
  {
   "cell_type": "code",
   "execution_count": null,
   "id": "695ad879-a2b7-4518-acbf-ae8306b78b68",
   "metadata": {},
   "outputs": [],
   "source": [
    "# dimensions are for text-embedding-ada-002\n",
    "\n",
    "pc.create_index(\n",
    "    name=\"recipes\",\n",
    "    dimension=1536,\n",
    "    metric=\"euclidean\",\n",
    "    spec=ServerlessSpec(cloud=\"aws\", region=\"us-west-2\"),\n",
    ")"
   ]
  },
  {
   "cell_type": "code",
   "execution_count": null,
   "id": "d27e6e8c-084e-4ceb-aedf-9dc85227aa07",
   "metadata": {},
   "outputs": [],
   "source": [
    "pinecone_index = pc.Index(\"recipes\")"
   ]
  },
  {
   "cell_type": "code",
   "execution_count": 30,
   "id": "f0f0f783-76ac-4bad-9779-23527320fe4b",
   "metadata": {},
   "outputs": [
    {
     "ename": "AttributeError",
     "evalue": "'TextNode' object has no attribute 'get_doc_id'",
     "output_type": "error",
     "traceback": [
      "\u001b[0;31m---------------------------------------------------------------------------\u001b[0m",
      "\u001b[0;31mAttributeError\u001b[0m                            Traceback (most recent call last)",
      "Cell \u001b[0;32mIn[30], line 3\u001b[0m\n\u001b[1;32m      1\u001b[0m vector_store \u001b[38;5;241m=\u001b[39m PineconeVectorStore(pinecone_index\u001b[38;5;241m=\u001b[39mpinecone_index)\n\u001b[1;32m      2\u001b[0m storage_context \u001b[38;5;241m=\u001b[39m StorageContext\u001b[38;5;241m.\u001b[39mfrom_defaults(vector_store\u001b[38;5;241m=\u001b[39mvector_store)\n\u001b[0;32m----> 3\u001b[0m index \u001b[38;5;241m=\u001b[39m \u001b[43mVectorStoreIndex\u001b[49m\u001b[38;5;241;43m.\u001b[39;49m\u001b[43mfrom_documents\u001b[49m\u001b[43m(\u001b[49m\n\u001b[1;32m      4\u001b[0m \u001b[43m    \u001b[49m\u001b[43mnodes\u001b[49m\u001b[43m,\u001b[49m\u001b[43m \u001b[49m\u001b[43mstorage_context\u001b[49m\u001b[38;5;241;43m=\u001b[39;49m\u001b[43mstorage_context\u001b[49m\n\u001b[1;32m      5\u001b[0m \u001b[43m)\u001b[49m\n",
      "File \u001b[0;32m~/recipes_rag/.venv/lib/python3.12/site-packages/llama_index/core/indices/base.py:136\u001b[0m, in \u001b[0;36mBaseIndex.from_documents\u001b[0;34m(cls, documents, storage_context, show_progress, callback_manager, transformations, service_context, **kwargs)\u001b[0m\n\u001b[1;32m    134\u001b[0m \u001b[38;5;28;01mwith\u001b[39;00m callback_manager\u001b[38;5;241m.\u001b[39mas_trace(\u001b[38;5;124m\"\u001b[39m\u001b[38;5;124mindex_construction\u001b[39m\u001b[38;5;124m\"\u001b[39m):\n\u001b[1;32m    135\u001b[0m     \u001b[38;5;28;01mfor\u001b[39;00m doc \u001b[38;5;129;01min\u001b[39;00m documents:\n\u001b[0;32m--> 136\u001b[0m         docstore\u001b[38;5;241m.\u001b[39mset_document_hash(\u001b[43mdoc\u001b[49m\u001b[38;5;241;43m.\u001b[39;49m\u001b[43mget_doc_id\u001b[49m(), doc\u001b[38;5;241m.\u001b[39mhash)\n\u001b[1;32m    138\u001b[0m     nodes \u001b[38;5;241m=\u001b[39m run_transformations(\n\u001b[1;32m    139\u001b[0m         documents,  \u001b[38;5;66;03m# type: ignore\u001b[39;00m\n\u001b[1;32m    140\u001b[0m         transformations,\n\u001b[1;32m    141\u001b[0m         show_progress\u001b[38;5;241m=\u001b[39mshow_progress,\n\u001b[1;32m    142\u001b[0m         \u001b[38;5;241m*\u001b[39m\u001b[38;5;241m*\u001b[39mkwargs,\n\u001b[1;32m    143\u001b[0m     )\n\u001b[1;32m    145\u001b[0m     \u001b[38;5;28;01mreturn\u001b[39;00m \u001b[38;5;28mcls\u001b[39m(\n\u001b[1;32m    146\u001b[0m         nodes\u001b[38;5;241m=\u001b[39mnodes,\n\u001b[1;32m    147\u001b[0m         storage_context\u001b[38;5;241m=\u001b[39mstorage_context,\n\u001b[0;32m   (...)\u001b[0m\n\u001b[1;32m    152\u001b[0m         \u001b[38;5;241m*\u001b[39m\u001b[38;5;241m*\u001b[39mkwargs,\n\u001b[1;32m    153\u001b[0m     )\n",
      "\u001b[0;31mAttributeError\u001b[0m: 'TextNode' object has no attribute 'get_doc_id'"
     ]
    }
   ],
   "source": [
    "vector_store = PineconeVectorStore(pinecone_index=pinecone_index)\n",
    "storage_context = StorageContext.from_defaults(vector_store=vector_store)\n",
    "index = VectorStoreIndex.from_documents(\n",
    "    nodes, storage_context=storage_context\n",
    ")"
   ]
  },
  {
   "cell_type": "code",
   "execution_count": null,
   "id": "061e0c15-7664-469f-9772-e8ac0b9f6827",
   "metadata": {},
   "outputs": [],
   "source": [
    "# create client and a new collection\n",
    "chroma_client = chromadb.PersistentClient(path=\"./data/chroma\")\n",
    "chroma_collection = chroma_client.create_collection(\"recipes\")\n",
    "\n",
    "# define embedding function\n",
    "embed_model = HuggingFaceEmbedding(model_name=\"BAAI/bge-base-en-v1.5\")\n",
    "\n",
    "vector_store = ChromaVectorStore(chroma_collection=chroma_collection)\n",
    "storage_context = StorageContext.from_defaults(vector_store=vector_store)\n",
    "\n",
    "index = VectorStoreIndex(nodes, storage_context=storage_context)"
   ]
  },
  {
   "cell_type": "code",
   "execution_count": null,
   "id": "eab6c2ce-facf-4de8-b0cd-57db18e68466",
   "metadata": {},
   "outputs": [],
   "source": [
    "vector_store_info = VectorStoreInfo(\n",
    "    content_info=\"How to play the board game Sleeping Gods\",\n",
    "    metadata_info=[\n",
    "        MetadataInfo(\n",
    "            name=\"Header_2\",\n",
    "            type=\"str\",\n",
    "            description=(\n",
    "                \"Board game manual topic, one of [Basics, Challenges, Combat, Icons, Other Rules, Overview, Player Turn, Setup, Spending Command, Turn Overview]\"\n",
    "            ),\n",
    "        ),\n",
    "    ],\n",
    ")\n",
    "retriever = VectorIndexAutoRetriever(\n",
    "    index, vector_store_info=vector_store_info\n",
    ")"
   ]
  },
  {
   "cell_type": "code",
   "execution_count": null,
   "id": "ed900989-87fa-4b53-8dc3-7754d2aec624",
   "metadata": {},
   "outputs": [],
   "source": []
  },
  {
   "cell_type": "markdown",
   "id": "9c9fd2a5-d0ff-4cb3-a2a9-7b42525d592d",
   "metadata": {},
   "source": [
    "## Pass data to pandas Dataframe"
   ]
  },
  {
   "cell_type": "code",
   "execution_count": null,
   "id": "f6b973da-bcd7-4a1c-9609-121f3fa1c6bd",
   "metadata": {},
   "outputs": [],
   "source": [
    "import pandas as pd"
   ]
  },
  {
   "cell_type": "code",
   "execution_count": null,
   "id": "40383390-7464-4937-bc26-87e84859ebe9",
   "metadata": {},
   "outputs": [],
   "source": [
    "file_path = f'{base_dir}{filename}'\n",
    "\n",
    "with open(file_path, 'r') as f:\n",
    "    json_data = json.load(f)\n",
    "\n",
    "recipes_df = pd.json_normalize(json_data)\n",
    "\n",
    "# Define desired column order (excluding ingredients and instructions)\n",
    "desired_order = [col for col in recipes_df.columns if col not in [\"ingredients\", \"instructions\"]]\n",
    "\n",
    "# Reorder columns\n",
    "recipes_df = recipes_df[desired_order + [\"ingredients\", \"instructions\"]]\n",
    "\n",
    "df.head(10)"
   ]
  },
  {
   "cell_type": "code",
   "execution_count": null,
   "id": "b3a7f6bf-7ab9-4458-b951-64ade3209f7b",
   "metadata": {},
   "outputs": [],
   "source": []
  }
 ],
 "metadata": {
  "kernelspec": {
   "display_name": "venv_recipes",
   "language": "python",
   "name": "venv_recipes"
  },
  "language_info": {
   "codemirror_mode": {
    "name": "ipython",
    "version": 3
   },
   "file_extension": ".py",
   "mimetype": "text/x-python",
   "name": "python",
   "nbconvert_exporter": "python",
   "pygments_lexer": "ipython3",
   "version": "3.12.4"
  }
 },
 "nbformat": 4,
 "nbformat_minor": 5
}
