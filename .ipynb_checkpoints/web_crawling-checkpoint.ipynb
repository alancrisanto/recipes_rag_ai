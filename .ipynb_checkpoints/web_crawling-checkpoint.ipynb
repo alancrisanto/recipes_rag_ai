{
 "cells": [
  {
   "cell_type": "code",
   "execution_count": 1,
   "id": "be9b6e30-1726-4777-b532-17af7b916292",
   "metadata": {},
   "outputs": [],
   "source": [
    "%load_ext autoreload\n",
    "%autoreload 2\n",
    "%load_ext dotenv\n",
    "%dotenv"
   ]
  },
  {
   "cell_type": "code",
   "execution_count": 2,
   "id": "3284c23f-ee30-4d94-808f-a1f29e359af4",
   "metadata": {},
   "outputs": [],
   "source": [
    "import os\n",
    "import json\n",
    "import time\n",
    "from urllib.parse import urljoin, urlparse\n",
    "\n",
    "from playwright.async_api import async_playwright"
   ]
  },
  {
   "cell_type": "code",
   "execution_count": 3,
   "id": "8de1b7c4-b17d-4f03-9f81-6a0c7dfb1936",
   "metadata": {},
   "outputs": [],
   "source": [
    "url = \"https://www.bbcgoodfood.com\"\n",
    "base_dir = 'data/raw'\n",
    "delay_seconds = 5\n",
    "\n",
    "if not os.path.exists(base_dir):\n",
    "    os.makedirs(base_dir)"
   ]
  },
  {
   "cell_type": "code",
   "execution_count": 4,
   "id": "565cb9d9-7879-46ee-9313-d3fde644cc43",
   "metadata": {},
   "outputs": [],
   "source": [
    "playwright = await async_playwright().start()\n",
    "browser = await playwright.chromium.launch(headless=False)\n",
    "page = await browser.new_page()"
   ]
  },
  {
   "cell_type": "code",
   "execution_count": 5,
   "id": "b36c1bdb-034e-4890-8a92-d9a75a605df6",
   "metadata": {},
   "outputs": [],
   "source": [
    "# Obtain xpath from inspect website\n",
    "post_xpath = \"/html/body/div/div[4]/main/div[2]/div/div[5]/div/div[1]/div/div[1]/div/article/div[2]/a\""
   ]
  },
  {
   "cell_type": "code",
   "execution_count": 6,
   "id": "366ca93d-e3d1-4d4e-bd38-c5a7b56c2738",
   "metadata": {
    "scrolled": true
   },
   "outputs": [
    {
     "name": "stdout",
     "output_type": "stream",
     "text": [
      "39 pages added to recipes_links\n",
      "986 986\n"
     ]
    }
   ],
   "source": [
    "recipes_links = []\n",
    "page_id = 1\n",
    "page_url = page.url\n",
    "while page_id < 45:\n",
    "    page_url = f'{url}/search?page={page_id}'\n",
    "    # print(page_url)\n",
    "    await page.goto(page_url)\n",
    "    await page.wait_for_load_state()\n",
    "    time.sleep(delay_seconds)\n",
    "    if page.url != page_url:\n",
    "        break\n",
    "    for elm in await page.locator(\"xpath=\" + post_xpath).element_handles():\n",
    "        post_url = urljoin(page_url, await elm.get_attribute(\"href\"))\n",
    "        if \"premium\" not in post_url:\n",
    "            recipes_links.append(post_url)\n",
    "    page_id += 1\n",
    "print(f'{page_id - 1} pages added to recipes_links')\n",
    "print(len(recipes_links), len(set(recipes_links)))"
   ]
  },
  {
   "cell_type": "code",
   "execution_count": 7,
   "id": "8636dd77-d7cc-4e95-865c-64766ba1f06f",
   "metadata": {
    "scrolled": true
   },
   "outputs": [
    {
     "data": {
      "text/plain": [
       "['https://www.bbcgoodfood.com/recipes/medal-cookies',\n",
       " 'https://www.bbcgoodfood.com/recipes/next-level-moussaka',\n",
       " 'https://www.bbcgoodfood.com/recipes/crispy-chipotle-chicken-fajitas',\n",
       " 'https://www.bbcgoodfood.com/recipes/mango-sgroppino',\n",
       " 'https://www.bbcgoodfood.com/recipes/green-chicken-salad',\n",
       " 'https://www.bbcgoodfood.com/recipes/spicy-cucumber-watermelon-salad',\n",
       " 'https://www.bbcgoodfood.com/recipes/mediterranean-salad-with-hummus-dressing',\n",
       " 'https://www.bbcgoodfood.com/recipes/summer-tomato-cheese-toastie',\n",
       " 'https://www.bbcgoodfood.com/recipes/beef-red-chimichurri-quinoa',\n",
       " 'https://www.bbcgoodfood.com/recipes/beef-sandwich-with-pink-pickled-onions']"
      ]
     },
     "execution_count": 7,
     "metadata": {},
     "output_type": "execute_result"
    }
   ],
   "source": [
    "recipes_links[:10]"
   ]
  },
  {
   "cell_type": "code",
   "execution_count": 8,
   "id": "c57d95ab-58a8-452a-acce-6b4abe4932ec",
   "metadata": {},
   "outputs": [],
   "source": [
    "def formatTitle(txt):\n",
    "    return txt.replace(\"-\", \" \").lower()"
   ]
  },
  {
   "cell_type": "code",
   "execution_count": 9,
   "id": "ae7e5dc7-a24d-425a-ac0a-a6e8b31bb71d",
   "metadata": {},
   "outputs": [],
   "source": [
    "def save_page(data, path: str, encoding: str = \"utf-8\") -> None:\n",
    "    \"\"\"Save recipes array in one file.\"\"\"\n",
    "    \n",
    "    with open(path, \"w\", encoding=\"utf-8\") as f:\n",
    "        json.dump(data, f, ensure_ascii=False, indent=2)"
   ]
  },
  {
   "cell_type": "markdown",
   "id": "9fa607a8-8581-41da-a598-6819cb49aa2e",
   "metadata": {},
   "source": [
    "### Create new function to save recipes in files of 30"
   ]
  },
  {
   "cell_type": "code",
   "execution_count": 10,
   "id": "f9d76e17-e81c-4198-bff3-074ca2aebc8a",
   "metadata": {},
   "outputs": [],
   "source": [
    "def save_recipes_in_batches(recipes, base_path, batch_size=30):\n",
    "    \"\"\"Save recipes in batches of a specified size.\"\"\"\n",
    "    for i in range(0, len(recipes), batch_size):\n",
    "        batch = recipes[i:i + batch_size]\n",
    "        batch_path = f'{base_path}/recipes_batch_{i // batch_size + 1}.json'\n",
    "        save_page(batch, batch_path)"
   ]
  },
  {
   "cell_type": "code",
   "execution_count": 11,
   "id": "e3e4e546-1da5-4bbb-94ff-72852c140ad0",
   "metadata": {},
   "outputs": [],
   "source": [
    "def get_title(url):\n",
    "    \"\"\"Return the file path for saving the forum post.\"\"\"\n",
    "    path_components = urlparse(url).path.split('/')\n",
    "    title = formatTitle(path_components[2])\n",
    "    return title\n"
   ]
  },
  {
   "cell_type": "markdown",
   "id": "fff0a758-1e00-4e30-972a-92052d4352af",
   "metadata": {},
   "source": [
    "### Get the html for each post"
   ]
  },
  {
   "cell_type": "code",
   "execution_count": 12,
   "id": "7fe145be-2d33-4bb9-b23c-38e19daf4d2f",
   "metadata": {},
   "outputs": [
    {
     "name": "stdout",
     "output_type": "stream",
     "text": [
      "529477\n",
      "518531\n",
      "521781\n",
      "484135\n",
      "499590\n",
      "515973\n",
      "512581\n",
      "502337\n",
      "502873\n",
      "495872\n",
      "495877\n",
      "510422\n",
      "514267\n",
      "497503\n",
      "499451\n",
      "490680\n",
      "490347\n",
      "491328\n",
      "510064\n",
      "509430\n"
     ]
    },
    {
     "ename": "CancelledError",
     "evalue": "",
     "output_type": "error",
     "traceback": [
      "\u001b[0;31m---------------------------------------------------------------------------\u001b[0m",
      "\u001b[0;31mCancelledError\u001b[0m                            Traceback (most recent call last)",
      "Cell \u001b[0;32mIn[12], line 13\u001b[0m\n\u001b[1;32m     11\u001b[0m     \u001b[38;5;28;01mcontinue\u001b[39;00m\n\u001b[1;32m     12\u001b[0m time\u001b[38;5;241m.\u001b[39msleep(delay_seconds)\n\u001b[0;32m---> 13\u001b[0m html \u001b[38;5;241m=\u001b[39m \u001b[38;5;28;01mawait\u001b[39;00m page\u001b[38;5;241m.\u001b[39mcontent()\n\u001b[1;32m     14\u001b[0m \u001b[38;5;28mprint\u001b[39m(\u001b[38;5;28mlen\u001b[39m(html))\n\u001b[1;32m     16\u001b[0m recipe_info \u001b[38;5;241m=\u001b[39m {\n\u001b[1;32m     17\u001b[0m     \u001b[38;5;124m\"\u001b[39m\u001b[38;5;124mid\u001b[39m\u001b[38;5;124m\"\u001b[39m: ix,\n\u001b[1;32m     18\u001b[0m     \u001b[38;5;124m\"\u001b[39m\u001b[38;5;124mtitle\u001b[39m\u001b[38;5;124m\"\u001b[39m: title,\n\u001b[1;32m     19\u001b[0m     \u001b[38;5;124m\"\u001b[39m\u001b[38;5;124murl\u001b[39m\u001b[38;5;124m\"\u001b[39m: recipe_link,\n\u001b[1;32m     20\u001b[0m     \u001b[38;5;124m\"\u001b[39m\u001b[38;5;124mhtml\u001b[39m\u001b[38;5;124m\"\u001b[39m: html,\n\u001b[1;32m     21\u001b[0m }\n",
      "File \u001b[0;32m~/recipes_rag/.venv/lib/python3.12/site-packages/playwright/async_api/_generated.py:8716\u001b[0m, in \u001b[0;36mPage.content\u001b[0;34m(self)\u001b[0m\n\u001b[1;32m   8706\u001b[0m \u001b[38;5;28;01masync\u001b[39;00m \u001b[38;5;28;01mdef\u001b[39;00m \u001b[38;5;21mcontent\u001b[39m(\u001b[38;5;28mself\u001b[39m) \u001b[38;5;241m-\u001b[39m\u001b[38;5;241m>\u001b[39m \u001b[38;5;28mstr\u001b[39m:\n\u001b[1;32m   8707\u001b[0m \u001b[38;5;250m    \u001b[39m\u001b[38;5;124;03m\"\"\"Page.content\u001b[39;00m\n\u001b[1;32m   8708\u001b[0m \n\u001b[1;32m   8709\u001b[0m \u001b[38;5;124;03m    Gets the full HTML contents of the page, including the doctype.\u001b[39;00m\n\u001b[0;32m   (...)\u001b[0m\n\u001b[1;32m   8713\u001b[0m \u001b[38;5;124;03m    str\u001b[39;00m\n\u001b[1;32m   8714\u001b[0m \u001b[38;5;124;03m    \"\"\"\u001b[39;00m\n\u001b[0;32m-> 8716\u001b[0m     \u001b[38;5;28;01mreturn\u001b[39;00m mapping\u001b[38;5;241m.\u001b[39mfrom_maybe_impl(\u001b[38;5;28;01mawait\u001b[39;00m \u001b[38;5;28mself\u001b[39m\u001b[38;5;241m.\u001b[39m_impl_obj\u001b[38;5;241m.\u001b[39mcontent())\n",
      "File \u001b[0;32m~/recipes_rag/.venv/lib/python3.12/site-packages/playwright/_impl/_page.py:507\u001b[0m, in \u001b[0;36mPage.content\u001b[0;34m(self)\u001b[0m\n\u001b[1;32m    506\u001b[0m \u001b[38;5;28;01masync\u001b[39;00m \u001b[38;5;28;01mdef\u001b[39;00m \u001b[38;5;21mcontent\u001b[39m(\u001b[38;5;28mself\u001b[39m) \u001b[38;5;241m-\u001b[39m\u001b[38;5;241m>\u001b[39m \u001b[38;5;28mstr\u001b[39m:\n\u001b[0;32m--> 507\u001b[0m     \u001b[38;5;28;01mreturn\u001b[39;00m \u001b[38;5;28;01mawait\u001b[39;00m \u001b[38;5;28mself\u001b[39m\u001b[38;5;241m.\u001b[39m_main_frame\u001b[38;5;241m.\u001b[39mcontent()\n",
      "File \u001b[0;32m~/recipes_rag/.venv/lib/python3.12/site-packages/playwright/_impl/_frame.py:416\u001b[0m, in \u001b[0;36mFrame.content\u001b[0;34m(self)\u001b[0m\n\u001b[1;32m    415\u001b[0m \u001b[38;5;28;01masync\u001b[39;00m \u001b[38;5;28;01mdef\u001b[39;00m \u001b[38;5;21mcontent\u001b[39m(\u001b[38;5;28mself\u001b[39m) \u001b[38;5;241m-\u001b[39m\u001b[38;5;241m>\u001b[39m \u001b[38;5;28mstr\u001b[39m:\n\u001b[0;32m--> 416\u001b[0m     \u001b[38;5;28;01mreturn\u001b[39;00m \u001b[38;5;28;01mawait\u001b[39;00m \u001b[38;5;28mself\u001b[39m\u001b[38;5;241m.\u001b[39m_channel\u001b[38;5;241m.\u001b[39msend(\u001b[38;5;124m\"\u001b[39m\u001b[38;5;124mcontent\u001b[39m\u001b[38;5;124m\"\u001b[39m)\n",
      "File \u001b[0;32m~/recipes_rag/.venv/lib/python3.12/site-packages/playwright/_impl/_connection.py:59\u001b[0m, in \u001b[0;36mChannel.send\u001b[0;34m(self, method, params)\u001b[0m\n\u001b[1;32m     58\u001b[0m \u001b[38;5;28;01masync\u001b[39;00m \u001b[38;5;28;01mdef\u001b[39;00m \u001b[38;5;21msend\u001b[39m(\u001b[38;5;28mself\u001b[39m, method: \u001b[38;5;28mstr\u001b[39m, params: Dict \u001b[38;5;241m=\u001b[39m \u001b[38;5;28;01mNone\u001b[39;00m) \u001b[38;5;241m-\u001b[39m\u001b[38;5;241m>\u001b[39m Any:\n\u001b[0;32m---> 59\u001b[0m     \u001b[38;5;28;01mreturn\u001b[39;00m \u001b[38;5;28;01mawait\u001b[39;00m \u001b[38;5;28mself\u001b[39m\u001b[38;5;241m.\u001b[39m_connection\u001b[38;5;241m.\u001b[39mwrap_api_call(\n\u001b[1;32m     60\u001b[0m         \u001b[38;5;28;01mlambda\u001b[39;00m: \u001b[38;5;28mself\u001b[39m\u001b[38;5;241m.\u001b[39minner_send(method, params, \u001b[38;5;28;01mFalse\u001b[39;00m)\n\u001b[1;32m     61\u001b[0m     )\n",
      "File \u001b[0;32m~/recipes_rag/.venv/lib/python3.12/site-packages/playwright/_impl/_connection.py:512\u001b[0m, in \u001b[0;36mConnection.wrap_api_call\u001b[0;34m(self, cb, is_internal)\u001b[0m\n\u001b[1;32m    510\u001b[0m \u001b[38;5;28mself\u001b[39m\u001b[38;5;241m.\u001b[39m_api_zone\u001b[38;5;241m.\u001b[39mset(parsed_st)\n\u001b[1;32m    511\u001b[0m \u001b[38;5;28;01mtry\u001b[39;00m:\n\u001b[0;32m--> 512\u001b[0m     \u001b[38;5;28;01mreturn\u001b[39;00m \u001b[38;5;28;01mawait\u001b[39;00m cb()\n\u001b[1;32m    513\u001b[0m \u001b[38;5;28;01mexcept\u001b[39;00m \u001b[38;5;167;01mException\u001b[39;00m \u001b[38;5;28;01mas\u001b[39;00m error:\n\u001b[1;32m    514\u001b[0m     \u001b[38;5;28;01mraise\u001b[39;00m rewrite_error(error, \u001b[38;5;124mf\u001b[39m\u001b[38;5;124m\"\u001b[39m\u001b[38;5;132;01m{\u001b[39;00mparsed_st[\u001b[38;5;124m'\u001b[39m\u001b[38;5;124mapiName\u001b[39m\u001b[38;5;124m'\u001b[39m]\u001b[38;5;132;01m}\u001b[39;00m\u001b[38;5;124m: \u001b[39m\u001b[38;5;132;01m{\u001b[39;00merror\u001b[38;5;132;01m}\u001b[39;00m\u001b[38;5;124m\"\u001b[39m) \u001b[38;5;28;01mfrom\u001b[39;00m \u001b[38;5;28;01mNone\u001b[39;00m\n",
      "File \u001b[0;32m~/recipes_rag/.venv/lib/python3.12/site-packages/playwright/_impl/_connection.py:88\u001b[0m, in \u001b[0;36mChannel.inner_send\u001b[0;34m(self, method, params, return_as_dict)\u001b[0m\n\u001b[1;32m     84\u001b[0m     \u001b[38;5;28;01mraise\u001b[39;00m error\n\u001b[1;32m     85\u001b[0m callback \u001b[38;5;241m=\u001b[39m \u001b[38;5;28mself\u001b[39m\u001b[38;5;241m.\u001b[39m_connection\u001b[38;5;241m.\u001b[39m_send_message_to_server(\n\u001b[1;32m     86\u001b[0m     \u001b[38;5;28mself\u001b[39m\u001b[38;5;241m.\u001b[39m_object, method, _filter_none(params)\n\u001b[1;32m     87\u001b[0m )\n\u001b[0;32m---> 88\u001b[0m done, _ \u001b[38;5;241m=\u001b[39m \u001b[38;5;28;01mawait\u001b[39;00m asyncio\u001b[38;5;241m.\u001b[39mwait(\n\u001b[1;32m     89\u001b[0m     {\n\u001b[1;32m     90\u001b[0m         \u001b[38;5;28mself\u001b[39m\u001b[38;5;241m.\u001b[39m_connection\u001b[38;5;241m.\u001b[39m_transport\u001b[38;5;241m.\u001b[39mon_error_future,\n\u001b[1;32m     91\u001b[0m         callback\u001b[38;5;241m.\u001b[39mfuture,\n\u001b[1;32m     92\u001b[0m     },\n\u001b[1;32m     93\u001b[0m     return_when\u001b[38;5;241m=\u001b[39masyncio\u001b[38;5;241m.\u001b[39mFIRST_COMPLETED,\n\u001b[1;32m     94\u001b[0m )\n\u001b[1;32m     95\u001b[0m \u001b[38;5;28;01mif\u001b[39;00m \u001b[38;5;129;01mnot\u001b[39;00m callback\u001b[38;5;241m.\u001b[39mfuture\u001b[38;5;241m.\u001b[39mdone():\n\u001b[1;32m     96\u001b[0m     callback\u001b[38;5;241m.\u001b[39mfuture\u001b[38;5;241m.\u001b[39mcancel()\n",
      "File \u001b[0;32m/usr/lib/python3.12/asyncio/tasks.py:464\u001b[0m, in \u001b[0;36mwait\u001b[0;34m(fs, timeout, return_when)\u001b[0m\n\u001b[1;32m    461\u001b[0m     \u001b[38;5;28;01mraise\u001b[39;00m \u001b[38;5;167;01mTypeError\u001b[39;00m(\u001b[38;5;124m\"\u001b[39m\u001b[38;5;124mPassing coroutines is forbidden, use tasks explicitly.\u001b[39m\u001b[38;5;124m\"\u001b[39m)\n\u001b[1;32m    463\u001b[0m loop \u001b[38;5;241m=\u001b[39m events\u001b[38;5;241m.\u001b[39mget_running_loop()\n\u001b[0;32m--> 464\u001b[0m \u001b[38;5;28;01mreturn\u001b[39;00m \u001b[38;5;28;01mawait\u001b[39;00m _wait(fs, timeout, return_when, loop)\n",
      "File \u001b[0;32m/usr/lib/python3.12/asyncio/tasks.py:550\u001b[0m, in \u001b[0;36m_wait\u001b[0;34m(fs, timeout, return_when, loop)\u001b[0m\n\u001b[1;32m    547\u001b[0m     f\u001b[38;5;241m.\u001b[39madd_done_callback(_on_completion)\n\u001b[1;32m    549\u001b[0m \u001b[38;5;28;01mtry\u001b[39;00m:\n\u001b[0;32m--> 550\u001b[0m     \u001b[38;5;28;01mawait\u001b[39;00m waiter\n\u001b[1;32m    551\u001b[0m \u001b[38;5;28;01mfinally\u001b[39;00m:\n\u001b[1;32m    552\u001b[0m     \u001b[38;5;28;01mif\u001b[39;00m timeout_handle \u001b[38;5;129;01mis\u001b[39;00m \u001b[38;5;129;01mnot\u001b[39;00m \u001b[38;5;28;01mNone\u001b[39;00m:\n",
      "\u001b[0;31mCancelledError\u001b[0m: "
     ]
    }
   ],
   "source": [
    "all_recipes = []\n",
    "print(\"processing! getting html\")\n",
    "for ix, recipe_link in enumerate(recipes_links):\n",
    "    # print(ix, recipe_link)\n",
    "    title = get_title(recipe_link)\n",
    "    try:\n",
    "        await page.goto(recipe_link)\n",
    "        await page.wait_for_load_state()\n",
    "    except Exception as e:\n",
    "        print(f\"Error loading {recipe_link}: {e}\")\n",
    "        continue\n",
    "    time.sleep(delay_seconds)\n",
    "    html = await page.content()\n",
    "    # print(len(html))\n",
    "    \n",
    "    recipe_info = {\n",
    "        \"id\": ix,\n",
    "        \"title\": title,\n",
    "        \"url\": recipe_link,\n",
    "        \"html\": html,\n",
    "    }\n",
    "    \n",
    "    all_recipes.append(recipe_info)\n",
    "\n",
    "save_recipes_in_batches(all_recipes, base_dir)\n",
    "print(\"Dne!, recipes saved to json files\")"
   ]
  },
  {
   "cell_type": "code",
   "execution_count": null,
   "id": "52bc2b43-91fb-45a1-be93-8c79f4bcd818",
   "metadata": {},
   "outputs": [],
   "source": [
    "await browser.close()\n",
    "await playwright.stop()"
   ]
  },
  {
   "cell_type": "code",
   "execution_count": null,
   "id": "591e7e13-1c03-483c-bbe8-a6cccd58b322",
   "metadata": {},
   "outputs": [],
   "source": []
  }
 ],
 "metadata": {
  "kernelspec": {
   "display_name": "venv_recipes",
   "language": "python",
   "name": "venv_recipes"
  },
  "language_info": {
   "codemirror_mode": {
    "name": "ipython",
    "version": 3
   },
   "file_extension": ".py",
   "mimetype": "text/x-python",
   "name": "python",
   "nbconvert_exporter": "python",
   "pygments_lexer": "ipython3",
   "version": "3.12.4"
  }
 },
 "nbformat": 4,
 "nbformat_minor": 5
}
