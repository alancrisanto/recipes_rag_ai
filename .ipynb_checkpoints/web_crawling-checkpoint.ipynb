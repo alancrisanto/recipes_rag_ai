{
 "cells": [
  {
   "cell_type": "code",
   "execution_count": 1,
   "id": "be9b6e30-1726-4777-b532-17af7b916292",
   "metadata": {},
   "outputs": [],
   "source": [
    "%load_ext autoreload\n",
    "%autoreload 2\n",
    "%load_ext dotenv\n",
    "%dotenv"
   ]
  },
  {
   "cell_type": "code",
   "execution_count": 2,
   "id": "3284c23f-ee30-4d94-808f-a1f29e359af4",
   "metadata": {},
   "outputs": [],
   "source": [
    "import os\n",
    "import json\n",
    "import time\n",
    "from urllib.parse import urljoin, urlparse\n",
    "\n",
    "from playwright.async_api import async_playwright"
   ]
  },
  {
   "cell_type": "code",
   "execution_count": 3,
   "id": "8de1b7c4-b17d-4f03-9f81-6a0c7dfb1936",
   "metadata": {},
   "outputs": [],
   "source": [
    "url = \"https://www.bbcgoodfood.com\"\n",
    "base_dir = 'data/raw'\n",
    "delay_seconds = 5\n",
    "\n",
    "if not os.path.exists(base_dir):\n",
    "    os.makedirs(base_dir)"
   ]
  },
  {
   "cell_type": "code",
   "execution_count": 4,
   "id": "565cb9d9-7879-46ee-9313-d3fde644cc43",
   "metadata": {},
   "outputs": [],
   "source": [
    "playwright = await async_playwright().start()\n",
    "browser = await playwright.chromium.launch(headless=False)\n",
    "page = await browser.new_page()"
   ]
  },
  {
   "cell_type": "code",
   "execution_count": 5,
   "id": "b36c1bdb-034e-4890-8a92-d9a75a605df6",
   "metadata": {},
   "outputs": [],
   "source": [
    "# Obtain xpath from inspect website\n",
    "post_xpath = \"/html/body/div/div[4]/main/div[2]/div/div[5]/div/div[1]/div/div[1]/div/article/div[2]/a\""
   ]
  },
  {
   "cell_type": "code",
   "execution_count": 6,
   "id": "366ca93d-e3d1-4d4e-bd38-c5a7b56c2738",
   "metadata": {
    "scrolled": true
   },
   "outputs": [
    {
     "name": "stdout",
     "output_type": "stream",
     "text": [
      "4 pages added to recipes_links\n",
      "87 87\n"
     ]
    }
   ],
   "source": [
    "recipes_links = []\n",
    "page_id = 1\n",
    "page_url = page.url\n",
    "while page_id < 40:\n",
    "    page_url = f'{url}/search?page={page_id}'\n",
    "    # print(page_url)\n",
    "    await page.goto(page_url)\n",
    "    await page.wait_for_load_state()\n",
    "    time.sleep(delay_seconds)\n",
    "    if page.url != page_url:\n",
    "        break\n",
    "    for elm in await page.locator(\"xpath=\" + post_xpath).element_handles():\n",
    "        post_url = urljoin(page_url, await elm.get_attribute(\"href\"))\n",
    "        if \"premium\" not in post_url:\n",
    "            recipes_links.append(post_url)\n",
    "    page_id += 1\n",
    "print(f'{page_id - 1} pages added to recipes_links')\n",
    "print(len(recipes_links), len(set(recipes_links)))"
   ]
  },
  {
   "cell_type": "code",
   "execution_count": 7,
   "id": "8636dd77-d7cc-4e95-865c-64766ba1f06f",
   "metadata": {
    "scrolled": true
   },
   "outputs": [
    {
     "data": {
      "text/plain": [
       "['https://www.bbcgoodfood.com/recipes/medal-cookies',\n",
       " 'https://www.bbcgoodfood.com/recipes/next-level-moussaka',\n",
       " 'https://www.bbcgoodfood.com/recipes/crispy-chipotle-chicken-fajitas',\n",
       " 'https://www.bbcgoodfood.com/recipes/mango-sgroppino',\n",
       " 'https://www.bbcgoodfood.com/recipes/green-chicken-salad',\n",
       " 'https://www.bbcgoodfood.com/recipes/spicy-cucumber-watermelon-salad',\n",
       " 'https://www.bbcgoodfood.com/recipes/mediterranean-salad-with-hummus-dressing',\n",
       " 'https://www.bbcgoodfood.com/recipes/summer-tomato-cheese-toastie',\n",
       " 'https://www.bbcgoodfood.com/recipes/beef-red-chimichurri-quinoa',\n",
       " 'https://www.bbcgoodfood.com/recipes/beef-sandwich-with-pink-pickled-onions']"
      ]
     },
     "execution_count": 7,
     "metadata": {},
     "output_type": "execute_result"
    }
   ],
   "source": [
    "recipes_links[:10]"
   ]
  },
  {
   "cell_type": "code",
   "execution_count": 8,
   "id": "c57d95ab-58a8-452a-acce-6b4abe4932ec",
   "metadata": {},
   "outputs": [],
   "source": [
    "def formatTitle(txt):\n",
    "    return txt.replace(\"-\", \" \").lower()"
   ]
  },
  {
   "cell_type": "code",
   "execution_count": 9,
   "id": "ae7e5dc7-a24d-425a-ac0a-a6e8b31bb71d",
   "metadata": {},
   "outputs": [],
   "source": [
    "def save_page(data, path: str, encoding: str = \"utf-8\") -> None:\n",
    "    \"\"\"Save recipes array in one file.\"\"\"\n",
    "    \n",
    "    with open(path, \"w\", encoding=\"utf-8\") as f:\n",
    "        json.dump(data, f, ensure_ascii=False, indent=2)"
   ]
  },
  {
   "cell_type": "markdown",
   "id": "9fa607a8-8581-41da-a598-6819cb49aa2e",
   "metadata": {},
   "source": [
    "### Create new function to save recipes in files of 30"
   ]
  },
  {
   "cell_type": "code",
   "execution_count": 10,
   "id": "f9d76e17-e81c-4198-bff3-074ca2aebc8a",
   "metadata": {},
   "outputs": [],
   "source": [
    "def save_recipes_in_batches(recipes, base_path, batch_size=30):\n",
    "    \"\"\"Save recipes in batches of a specified size.\"\"\"\n",
    "    for i in range(0, len(recipes), batch_size):\n",
    "        batch = recipes[i:i + batch_size]\n",
    "        batch_path = f'{base_path}/recipes_batch_{i // batch_size + 1}.json'\n",
    "        save_page(batch, batch_path)"
   ]
  },
  {
   "cell_type": "code",
   "execution_count": 11,
   "id": "e3e4e546-1da5-4bbb-94ff-72852c140ad0",
   "metadata": {},
   "outputs": [],
   "source": [
    "def get_title(url):\n",
    "    \"\"\"Return the file path for saving the forum post.\"\"\"\n",
    "    path_components = urlparse(url).path.split('/')\n",
    "    title = formatTitle(path_components[2])\n",
    "    return title\n"
   ]
  },
  {
   "cell_type": "markdown",
   "id": "fff0a758-1e00-4e30-972a-92052d4352af",
   "metadata": {},
   "source": [
    "### Get the html for each post"
   ]
  },
  {
   "cell_type": "code",
   "execution_count": 12,
   "id": "7fe145be-2d33-4bb9-b23c-38e19daf4d2f",
   "metadata": {},
   "outputs": [
    {
     "name": "stdout",
     "output_type": "stream",
     "text": [
      "0 https://www.bbcgoodfood.com/recipes/medal-cookies\n",
      "529746\n",
      "1 https://www.bbcgoodfood.com/recipes/next-level-moussaka\n",
      "518800\n",
      "2 https://www.bbcgoodfood.com/recipes/crispy-chipotle-chicken-fajitas\n",
      "521748\n",
      "3 https://www.bbcgoodfood.com/recipes/mango-sgroppino\n",
      "484412\n",
      "4 https://www.bbcgoodfood.com/recipes/green-chicken-salad\n",
      "499557\n",
      "5 https://www.bbcgoodfood.com/recipes/spicy-cucumber-watermelon-salad\n",
      "515941\n",
      "6 https://www.bbcgoodfood.com/recipes/mediterranean-salad-with-hummus-dressing\n",
      "512547\n",
      "7 https://www.bbcgoodfood.com/recipes/summer-tomato-cheese-toastie\n",
      "502304\n",
      "8 https://www.bbcgoodfood.com/recipes/beef-red-chimichurri-quinoa\n",
      "502839\n",
      "9 https://www.bbcgoodfood.com/recipes/beef-sandwich-with-pink-pickled-onions\n",
      "495840\n",
      "10 https://www.bbcgoodfood.com/recipes/vermicelli-noodle-beef-salad\n",
      "495843\n",
      "11 https://www.bbcgoodfood.com/recipes/chocolate-chip-pecan-butternut-bread\n",
      "Error loading https://www.bbcgoodfood.com/recipes/chocolate-chip-pecan-butternut-bread: Page.goto: Timeout 30000ms exceeded.\n",
      "Call log:\n",
      "navigating to \"https://www.bbcgoodfood.com/recipes/chocolate-chip-pecan-butternut-bread\", waiting until \"load\"\n",
      "\n",
      "12 https://www.bbcgoodfood.com/recipes/warm-trout-melon-salad-with-lime-chilli-dressing\n",
      "426311\n",
      "13 https://www.bbcgoodfood.com/recipes/spaghetti-aglio-e-olio-with-crispy-bacon\n",
      "497419\n",
      "14 https://www.bbcgoodfood.com/recipes/chicken-elote-style-corn-wrap\n",
      "499711\n",
      "15 https://www.bbcgoodfood.com/recipes/chicken-bagel\n",
      "491453\n",
      "16 https://www.bbcgoodfood.com/recipes/peanut-butter-maple-syrup-flapjacks\n",
      "491176\n",
      "17 https://www.bbcgoodfood.com/recipes/sardines-on-toast\n",
      "492622\n",
      "18 https://www.bbcgoodfood.com/recipes/turmeric-lemon-cauliflower-bowl\n",
      "510031\n",
      "19 https://www.bbcgoodfood.com/recipes/smoky-vegan-chicken-chickpea-wraps\n",
      "510275\n",
      "20 https://www.bbcgoodfood.com/recipes/katsu-aubergine-noodles\n",
      "514762\n",
      "21 https://www.bbcgoodfood.com/recipes/super-green-tofu-curry\n",
      "515806\n",
      "22 https://www.bbcgoodfood.com/recipes/peach-raspberry-almond-crumble-cake\n",
      "510497\n",
      "23 https://www.bbcgoodfood.com/recipes/blackberry-queen-of-puddings\n",
      "512214\n",
      "24 https://www.bbcgoodfood.com/recipes/sticky-five-spice-pork-belly-with-ginger-plums\n",
      "510426\n",
      "25 https://www.bbcgoodfood.com/recipes/sweetcorn-pancetta-orzotto\n",
      "499903\n",
      "26 https://www.bbcgoodfood.com/recipes/tikka-cauliflower-skewers-with-makhani-sauce\n",
      "521722\n",
      "27 https://www.bbcgoodfood.com/recipes/duck-in-plum-sauce-chinese-style\n",
      "521381\n",
      "28 https://www.bbcgoodfood.com/recipes/homemade-yakisoba-sauce\n",
      "502373\n",
      "29 https://www.bbcgoodfood.com/recipes/homemade-tonkatsu-sauce\n",
      "510992\n",
      "30 https://www.bbcgoodfood.com/recipes/fluffy-japanese-pancakes-2\n",
      "505206\n",
      "31 https://www.bbcgoodfood.com/recipes/pain-au-chocolat\n",
      "502100\n",
      "32 https://www.bbcgoodfood.com/recipes/mushroom-bhaji\n",
      "529763\n",
      "33 https://www.bbcgoodfood.com/recipes/pasilla-mole\n",
      "508710\n",
      "34 https://www.bbcgoodfood.com/recipes/flan\n",
      "494791\n",
      "35 https://www.bbcgoodfood.com/recipes/sichuan-chicken\n",
      "530210\n",
      "36 https://www.bbcgoodfood.com/recipes/double-fried-karaage-chicken\n",
      "522865\n",
      "37 https://www.bbcgoodfood.com/recipes/manchurian-chicken\n",
      "523502\n",
      "38 https://www.bbcgoodfood.com/recipes/banana-chocolate-tahini-cheats-ice-cream\n",
      "509516\n",
      "39 https://www.bbcgoodfood.com/recipes/bahama-mama\n",
      "493342\n",
      "40 https://www.bbcgoodfood.com/recipes/next-level-chicken-burgers\n",
      "527354\n",
      "41 https://www.bbcgoodfood.com/recipes/three-ingredient-strawberry-palmier-tarte-tatin\n",
      "518189\n",
      "42 https://www.bbcgoodfood.com/recipes/peach-pie\n",
      "522959\n",
      "43 https://www.bbcgoodfood.com/recipes/shaved-kohlrabi-salad-with-pickled-jalapeno-dressing\n",
      "521784\n",
      "44 https://www.bbcgoodfood.com/recipes/cherry-pistachio-no-churn-ice-cream\n",
      "514828\n",
      "45 https://www.bbcgoodfood.com/recipes/cookies-cream-no-churn-ice-cream\n",
      "514037\n",
      "46 https://www.bbcgoodfood.com/recipes/air-fryer-courgette-feta-fritters\n",
      "525312\n",
      "47 https://www.bbcgoodfood.com/recipes/air-fryer-scotch-eggs\n",
      "519951\n",
      "48 https://www.bbcgoodfood.com/recipes/air-fryer-chicken-tikka-kebabs\n",
      "523928\n",
      "49 https://www.bbcgoodfood.com/recipes/smoky-white-bean-ricotta-traybake\n",
      "511751\n",
      "50 https://www.bbcgoodfood.com/recipes/peanut-coconut-curry\n",
      "521594\n",
      "51 https://www.bbcgoodfood.com/recipes/summery-orzo-soup\n",
      "521097\n",
      "52 https://www.bbcgoodfood.com/recipes/roasted-summer-vegetable-traybake\n",
      "518046\n",
      "53 https://www.bbcgoodfood.com/recipes/zesty-prawn-green-chilli-ceviche\n",
      "525755\n",
      "54 https://www.bbcgoodfood.com/recipes/roasted-tomato-sweetcorn-thyme-feta-cornbread\n",
      "516653\n",
      "55 https://www.bbcgoodfood.com/recipes/tuna-pasta-aubergine-bake\n",
      "525765\n",
      "56 https://www.bbcgoodfood.com/recipes/roasted-summer-veg-chicken-pasta\n",
      "517052\n",
      "57 https://www.bbcgoodfood.com/recipes/tuna-bean-olive-salad\n",
      "519806\n",
      "58 https://www.bbcgoodfood.com/recipes/berry-protein-smoothie\n",
      "501984\n",
      "59 https://www.bbcgoodfood.com/recipes/hot-smoked-trout-scramble-with-rocket-salad\n",
      "521967\n",
      "60 https://www.bbcgoodfood.com/recipes/chipotle-turkey-avocado-grain-bowl\n",
      "513576\n",
      "61 https://www.bbcgoodfood.com/recipes/mozzarella-with-spicy-tomatoes-garlicky-toast\n",
      "518472\n",
      "62 https://www.bbcgoodfood.com/recipes/sichuan-smacked-cucumber-noodles\n",
      "521057\n",
      "63 https://www.bbcgoodfood.com/recipes/rainbow-hummus-plate\n",
      "511217\n",
      "64 https://www.bbcgoodfood.com/recipes/charred-cabbage-skewers-with-harissa-butter\n",
      "515956\n",
      "65 https://www.bbcgoodfood.com/recipes/honey-sesame-halloumi-skewers\n",
      "515609\n",
      "66 https://www.bbcgoodfood.com/recipes/sunny-side-up-blt-brunch\n",
      "531419\n",
      "67 https://www.bbcgoodfood.com/recipes/noodle-salad-with-lemongrass-pork-patties\n",
      "533635\n",
      "68 https://www.bbcgoodfood.com/recipes/strawberries-cream-blondies\n",
      "509996\n",
      "69 https://www.bbcgoodfood.com/recipes/healthier-burritos\n",
      "533224\n",
      "70 https://www.bbcgoodfood.com/recipes/marry-me-chicken\n",
      "526944\n",
      "71 https://www.bbcgoodfood.com/recipes/slow-cooker-coconut-chicken-curry\n",
      "519814\n",
      "72 https://www.bbcgoodfood.com/recipes/protein-pancakes-with-banana\n",
      "515104\n",
      "73 https://www.bbcgoodfood.com/recipes/melting-moments\n",
      "492098\n",
      "74 https://www.bbcgoodfood.com/recipes/fork-biscuits\n",
      "504052\n",
      "75 https://www.bbcgoodfood.com/recipes/digestive-biscuits\n",
      "514127\n",
      "76 https://www.bbcgoodfood.com/recipes/elderflower-posset-with-gooseberries\n",
      "516041\n",
      "77 https://www.bbcgoodfood.com/recipes/next-level-focaccia\n",
      "524748\n",
      "78 https://www.bbcgoodfood.com/recipes/popcorn-prawn-po-boys\n",
      "522784\n",
      "79 https://www.bbcgoodfood.com/recipes/roasted-courgette-flatbreads-with-fennel-seeds\n",
      "524134\n",
      "80 https://www.bbcgoodfood.com/recipes/pizza-salad-flatbreads\n",
      "521243\n",
      "81 https://www.bbcgoodfood.com/recipes/air-fryer-scones\n",
      "518067\n",
      "82 https://www.bbcgoodfood.com/recipes/spiced-lamb-flatbreads\n",
      "516458\n",
      "83 https://www.bbcgoodfood.com/recipes/air-fryer-pavlova\n",
      "519900\n",
      "84 https://www.bbcgoodfood.com/recipes/air-fryer-ice-cream-cookie-sandwich\n",
      "497932\n",
      "85 https://www.bbcgoodfood.com/recipes/prawn-chilli-frittata\n",
      "513103\n",
      "86 https://www.bbcgoodfood.com/recipes/prawn-sugar-snap-pea-feta-salad\n",
      "514050\n"
     ]
    }
   ],
   "source": [
    "all_recipes = []\n",
    "\n",
    "for ix, recipe_link in enumerate(recipes_links):\n",
    "    # print(ix, recipe_link)\n",
    "    title = get_title(recipe_link)\n",
    "    try:\n",
    "        await page.goto(recipe_link)\n",
    "        await page.wait_for_load_state()\n",
    "    except Exception as e:\n",
    "        print(f\"Error loading {recipe_link}: {e}\")\n",
    "        continue\n",
    "    time.sleep(delay_seconds)\n",
    "    html = await page.content()\n",
    "    print(len(html))\n",
    "    \n",
    "    recipe_info = {\n",
    "        \"id\": ix,\n",
    "        \"title\": title,\n",
    "        \"url\": recipe_link,\n",
    "        \"html\": html,\n",
    "    }\n",
    "    \n",
    "    all_recipes.append(recipe_info)\n",
    "\n",
    "save_recipes_in_batches(all_recipes, base_dir)\n",
    "print(\"Dne!, recipes saved to json files\")"
   ]
  },
  {
   "cell_type": "code",
   "execution_count": 13,
   "id": "52bc2b43-91fb-45a1-be93-8c79f4bcd818",
   "metadata": {},
   "outputs": [],
   "source": [
    "await browser.close()\n",
    "await playwright.stop()"
   ]
  },
  {
   "cell_type": "code",
   "execution_count": null,
   "id": "591e7e13-1c03-483c-bbe8-a6cccd58b322",
   "metadata": {},
   "outputs": [],
   "source": []
  }
 ],
 "metadata": {
  "kernelspec": {
   "display_name": "venv_recipes",
   "language": "python",
   "name": "venv_recipes"
  },
  "language_info": {
   "codemirror_mode": {
    "name": "ipython",
    "version": 3
   },
   "file_extension": ".py",
   "mimetype": "text/x-python",
   "name": "python",
   "nbconvert_exporter": "python",
   "pygments_lexer": "ipython3",
   "version": "3.12.4"
  }
 },
 "nbformat": 4,
 "nbformat_minor": 5
}
