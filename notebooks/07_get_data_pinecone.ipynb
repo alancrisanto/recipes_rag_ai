{
 "cells": [
  {
   "cell_type": "code",
   "execution_count": 1,
   "metadata": {},
   "outputs": [],
   "source": [
    "%load_ext autoreload\n",
    "%autoreload 2\n",
    "%load_ext dotenv\n",
    "%dotenv"
   ]
  },
  {
   "cell_type": "code",
   "execution_count": 2,
   "metadata": {},
   "outputs": [
    {
     "name": "stderr",
     "output_type": "stream",
     "text": [
      "/home/acrisvall/recipes_rag/.venv/lib/python3.12/site-packages/pinecone/data/index.py:1: TqdmWarning: IProgress not found. Please update jupyter and ipywidgets. See https://ipywidgets.readthedocs.io/en/stable/user_install.html\n",
      "  from tqdm.autonotebook import tqdm\n"
     ]
    }
   ],
   "source": [
    "import os\n",
    "from pinecone import Pinecone as pcn\n",
    "from langchain_openai import OpenAIEmbeddings\n",
    "from langchain_pinecone import PineconeVectorStore\n",
    "from IPython.display import Markdown\n",
    "import gradio as gr\n",
    "from langchain_core.prompts import ChatPromptTemplate\n",
    "from langchain.chains.combine_documents import create_stuff_documents_chain\n",
    "from langchain.chains import create_retrieval_chain\n",
    "from langchain_openai import ChatOpenAI "
   ]
  },
  {
   "cell_type": "markdown",
   "metadata": {},
   "source": [
    "### 01 Get API Keys"
   ]
  },
  {
   "cell_type": "code",
   "execution_count": 3,
   "metadata": {},
   "outputs": [],
   "source": [
    "api_key = os.environ.get(\"PINECONE_API_KEY\")\n",
    "openai_api_key = os.getenv('OPENAI_API_KEY')"
   ]
  },
  {
   "cell_type": "code",
   "execution_count": 4,
   "metadata": {},
   "outputs": [
    {
     "data": {
      "text/plain": [
       "{'dimension': 1536,\n",
       " 'index_fullness': 0.0,\n",
       " 'namespaces': {'': {'vector_count': 1106}},\n",
       " 'total_vector_count': 1106}"
      ]
     },
     "execution_count": 4,
     "metadata": {},
     "output_type": "execute_result"
    }
   ],
   "source": [
    "# configure client\n",
    "pc = pcn(api_key=api_key)\n",
    "index_name = 'recipes-index'\n",
    "index = pc.Index(index_name)\n",
    "index.describe_index_stats()"
   ]
  },
  {
   "cell_type": "markdown",
   "metadata": {},
   "source": [
    "### 02 Set Embedding Model"
   ]
  },
  {
   "cell_type": "code",
   "execution_count": 5,
   "metadata": {},
   "outputs": [],
   "source": [
    "embed_model = \"text-embedding-3-small\"\n",
    "embed = OpenAIEmbeddings(model=embed_model)"
   ]
  },
  {
   "cell_type": "code",
   "execution_count": 6,
   "metadata": {},
   "outputs": [],
   "source": [
    "text_field = \"description\"\n",
    "\n",
    "vectorStore = PineconeVectorStore(\n",
    "  index, embed, text_field\n",
    ")"
   ]
  },
  {
   "cell_type": "code",
   "execution_count": 15,
   "metadata": {},
   "outputs": [],
   "source": [
    "def get_recipe(query, history=None):# completion llm  \n",
    "    llm = ChatOpenAI(  \n",
    "        model_name='gpt-4o-mini',  \n",
    "        temperature=0.0  \n",
    "    ) \n",
    "\n",
    "    retriever = vectorStore.as_retriever(search_type=\"similarity\", search_kwargs={\"k\": 3})\n",
    "    # we can set a similarity score threshold and only return documents with a score above that threshold.\n",
    "    # search_kwargs={\"score_threshold\": 0.5}\n",
    "    # We can also limit the number of documents k returned by the retriever.\n",
    "    # retriever = vectorstore.as_retriever(search_kwargs={\"k\": 1})\n",
    "\n",
    "    # 2. Incorporate the retriever into a question-answering chain.\n",
    "    system_prompt = (\n",
    "    \"\"\"\n",
    "        Always add a kind and friendly message according to the context at the beginning of the response.\n",
    "        Take the information from context[0][\"metadata\"]\n",
    "        Then follow this format\n",
    "        Title: [Title of the Recipe]\n",
    "        Description: [Short Description of the Recipe]\n",
    "        Preparation Time: [Preparation Time]\n",
    "        Cooking Time: [Cooking Time]\n",
    "        Difficulty: [Difficulty Level]\n",
    "        Serves: [Number of Servings]\n",
    "        Diet Type: [Diet Type]\n",
    "        Nutrition: calories context[0][\"metadata\"][\"calories\"] | fat context[0][\"metadata\"][\"fat\"] | protein context[0][\"metadata\"][\"protein\"] | fiber context[0][\"metadata\"][\"fibre\"]\n",
    "        Ingredients: [List of Ingredients]\n",
    "        Instructions: [Step-by-step Cooking Instructions]\n",
    "\n",
    "        If you don't have any general information, just respond with \"I don't know!\"\n",
    "\n",
    "        {context}\n",
    "        {{metadata}}\n",
    "        \"\"\"\n",
    "    )\n",
    "\n",
    "    prompt = ChatPromptTemplate.from_messages(\n",
    "        [\n",
    "            (\"system\", system_prompt),\n",
    "            (\"human\", \"{input}\"),\n",
    "        ]\n",
    "    )\n",
    "\n",
    "    question_answer_chain = create_stuff_documents_chain(llm, prompt)\n",
    "    rag_chain = create_retrieval_chain(retriever, question_answer_chain)\n",
    "\n",
    "    response = rag_chain.invoke({\"input\": query})\n",
    "    print(response)\n",
    "    return response[\"answer\"]"
   ]
  },
  {
   "cell_type": "markdown",
   "metadata": {},
   "source": [
    "## Gradio App"
   ]
  },
  {
   "cell_type": "code",
   "execution_count": 16,
   "metadata": {},
   "outputs": [
    {
     "name": "stdout",
     "output_type": "stream",
     "text": [
      "Running on local URL:  http://127.0.0.1:7864\n",
      "\n",
      "To create a public link, set `share=True` in `launch()`.\n"
     ]
    },
    {
     "data": {
      "text/html": [
       "<div><iframe src=\"http://127.0.0.1:7864/\" width=\"100%\" height=\"500\" allow=\"autoplay; camera; microphone; clipboard-read; clipboard-write;\" frameborder=\"0\" allowfullscreen></iframe></div>"
      ],
      "text/plain": [
       "<IPython.core.display.HTML object>"
      ]
     },
     "metadata": {},
     "output_type": "display_data"
    },
    {
     "data": {
      "text/plain": []
     },
     "execution_count": 16,
     "metadata": {},
     "output_type": "execute_result"
    },
    {
     "name": "stdout",
     "output_type": "stream",
     "text": [
      "{'input': 'Recommend a recipe with chicken', 'context': [Document(id='982', metadata={'calories': '502', 'carbs': '9g', 'cook_time': '40 mins', 'diet_type': 'Egg-free', 'difficulty': 'Easy', 'fat': '30g', 'fibre': '1g', 'id': '982', 'ingredients': '4chicken breasts, skin left on, 2-3 tbspolive or rapeseed oil, 1onion, finely chopped, 3garlic cloves, crushed or finely grated, 1 tbspdried mixed herbs, 1 tbspplain flour, 200mlwhite wine, 250mlchicken stock, 125mldouble cream, choppedparsley, to serve (optional)', 'instructions': 'Season the chicken all over with salt and freshly ground black pepper. Heat 2 tbsp of the oil in a large lidded frying pan over a medium heat and fry the chicken, skin-side down, for 8-10 mins until the skin is golden. Turn the chicken over and cook for 6-8 mins more until golden all over. Remove to a plate and set aside. If the pan is dry, drizzle in another 1 tbsp oil, then reduce the heat to medium-low and fry the onions for 8-10 mins until softened but not golden. Stir in the garlic and cook for 1 min more, then add the herbs and cook for another minute. Stir in the flour, then pour in the wine and simmer for 2-3 mins until the alcohol has evaporated. Stir in the stock until everything is combined, then bring the mixture to a simmer and return the chicken breasts to the pan, skin-side up. Cover and simmer for 15-20 mins until the sauce has thickened slightly and the chicken is cooked through. Stir in the cream, return to a simmer, then remove from the heat and scatter over the parsley, if using.', 'prep_time': '20 mins', 'protein': '39g', 'salt': '0.58g', 'saturates': '12g', 'serves': 'Serves 4', 'sugars': '4g', 'title': 'Chicken in white wine sauce'}, page_content='Serve tender chicken in a creamy wine sauce alongside rice or potatoes and your favourite veg – a perfect midweek meal for the whole family'), Document(id='107', metadata={'calories': '506', 'carbs': '40g', 'cook_time': '20 mins', 'diet_type': 'Dairy-free', 'difficulty': 'Easy', 'fat': '19g', 'fibre': '4g', 'id': '107', 'ingredients': '320g packchicken mini breast fillets, 2½ tbsplight soy sauce, vegetable oil,for frying, 1red pepper,deseeded and thinly sliced, 1green pepper,deseeded and thinly sliced, 3 tbspcornflour, 3 tbspsweet chilli sauce, 1 tbspgarlic and ginger paste, 1 tbspsesame oil, 2spring onions,trimmed and finely sliced', 'instructions': 'Slice the chicken into thin strips. Pour over 2 tbsp of the soy and marinate in the fridge, covered, for 1 hr. Meanwhile, heat 1 tbsp of the oil in awokor deep frying pan over a medium heat and cook the peppers for 3-4 mins until just beginning to soften. Remove with a slotted spoon and set aside. Spread the cornflour out in a shallow bowl. Season, then add the marinated chicken strips and toss to coat well. Fill a wok or deep frying pan with the oil so it’s about ½cm deep, then heat to medium-high. Carefully add the chicken in batches, cooking for 3-4 mins, using tongs to turn regularly until golden and crispy. Remove with a slotted spoon and place on a plate lined with kitchen paper to drain. Mix together the remaining soy, sweet chilli, garlic paste and sesame oil in a large bowl. Add the cooked peppers, crispy chicken and toss together until coated all over and sticky. Serve sprinkled with the spring onions.', 'prep_time': '10 mins', 'protein': '42g', 'salt': '3.66g', 'saturates': '1g', 'serves': 'Serves 2 as a main, 4 as a sharer', 'sugars': '18g', 'title': 'Crispy shredded chicken'}, page_content='Try this takeaway favourite served with rice, or simply on its own as part of a buffet-style meal. It can work as a main course or starter to share'), Document(id='337', metadata={'calories': '332', 'carbs': '21g', 'cook_time': '40 mins', 'diet_type': 'Egg-free', 'difficulty': 'Easy', 'fat': '13g', 'fibre': '1g', 'id': '337', 'ingredients': '8skinless chicken thighs, 8skinless chicken drumsticks, 200mlmilk, hot sauce, optional, 200gself-raising flour, 2 tsponion granules, 2 tspgarlic granules, ½ tspturmeric, 1 tsppaprika, 1 tspground white pepper, 1 tspcayenne pepper, 6-8 tbspgroundnut oil, mustardslaw and paprika wedges, to serve (see recipes below)', 'instructions': 'Heat oven to 200C/180C fan/gas 6. Put the chicken in a bowl and pour over the milk adding the hot sauce if you choose to use it. Season the milk with salt. Tip the flour and spices into a large plastic bag and add a tsp of salt and a good grinding of pepper. Heat half the oil in a large frying pan. Take half of the chicken out of the milk, shake off any excess and put in the bag of seasoned flour. Hold the top closed and shake well. Lift the pieces out and shake off any excess, but don’t do this too hard or you’ll end up with no coating. Lower the pieces into the oil and fry for a few minutes on each side until golden and crisp – don’t overdo it as the chicken is being baked next and will brown further. Use tongs to turn the chicken and try not to tear the coating. Transfer to a rack set in a roasting tin. Repeat with the rest of the chicken. Bake for 30 mins until cooked – check one drumstick and one thigh with a skewer – cook for longer if you need to.', 'prep_time': '10 mins', 'protein': '30g', 'salt': '1.21g', 'saturates': '3g', 'serves': 'Serves 8', 'sugars': '2g', 'title': 'Southern fried chicken'}, page_content='Great for feeding a crowd, serve this American-style classic with homemade slaw')], 'answer': \"Hello! I hope you're having a wonderful day. Here's a delicious chicken recipe you might enjoy:\\n\\nTitle: Creamy Chicken in Wine Sauce  \\nDescription: Serve tender chicken in a creamy wine sauce alongside rice or potatoes and your favourite veg – a perfect midweek meal for the whole family.  \\nPreparation Time: 15 minutes  \\nCooking Time: 30 minutes  \\nDifficulty: Easy  \\nServes: 4  \\nDiet Type: Non-Vegetarian  \\nNutrition: calories 450 | fat 20g | protein 30g | fiber 2g  \\nIngredients:  \\n- 4 chicken breasts  \\n- 1 cup white wine  \\n- 1 cup heavy cream  \\n- 2 tablespoons olive oil  \\n- 1 onion, chopped  \\n- 2 cloves garlic, minced  \\n- Salt and pepper to taste  \\n- Fresh parsley for garnish  \\n\\nInstructions:  \\n1. Heat olive oil in a large skillet over medium heat.  \\n2. Add the chopped onion and minced garlic, sauté until softened.  \\n3. Season the chicken breasts with salt and pepper, then add them to the skillet.  \\n4. Cook the chicken for about 5-7 minutes on each side until golden brown.  \\n5. Pour in the white wine and let it simmer for 5 minutes.  \\n6. Reduce the heat and stir in the heavy cream, cooking until the sauce thickens.  \\n7. Garnish with fresh parsley before serving.  \\n8. Serve with rice or potatoes and your favourite vegetables.  \\n\\nEnjoy your cooking!\"}\n"
     ]
    }
   ],
   "source": [
    "demo = gr.ChatInterface(\n",
    "  get_recipe,\n",
    "  title=\"Recipes Generator\",\n",
    "  description=\"Ask recipes recommendations based on ingredients and instructions\",\n",
    "  examples=[\"Recommend a recipe with chicken\", \"A low-calorie chicken recipe\", \"What can I do with brocolli\"],\n",
    ")\n",
    "\n",
    "demo.launch()"
   ]
  },
  {
   "cell_type": "markdown",
   "metadata": {},
   "source": [
    "## Test History"
   ]
  },
  {
   "cell_type": "code",
   "execution_count": 37,
   "metadata": {},
   "outputs": [],
   "source": [
    "from langchain.chains import create_history_aware_retriever\n",
    "from langchain_core.prompts import MessagesPlaceholder\n",
    "\n",
    "# Inicializando el modelo y el retriever\n",
    "llm = ChatOpenAI(  \n",
    "    model_name='gpt-4o-mini',  \n",
    "    temperature=0.0  \n",
    ")\n",
    "\n",
    "retriever = vectorStore.as_retriever(search_type=\"similarity\")\n",
    "\n",
    "# Prompt para contextualizar la pregunta\n",
    "contextualize_q_system_prompt = (\n",
    "    \"Given a chat history and the latest user question \"\n",
    "    \"which might reference context in the chat history, \"\n",
    "    \"formulate a standalone question which can be understood \"\n",
    "    \"without the chat history. Do NOT answer the question, \"\n",
    "    \"just reformulate it if needed and otherwise return it as is.\"\n",
    ")\n",
    "\n",
    "contextualize_q_prompt = ChatPromptTemplate.from_messages(\n",
    "    [\n",
    "        (\"system\", contextualize_q_system_prompt),\n",
    "        MessagesPlaceholder(\"chat_history\"),\n",
    "        (\"human\", \"{input}\"),\n",
    "    ]\n",
    ")\n",
    "\n",
    "history_aware_retriever = create_history_aware_retriever(\n",
    "    llm, retriever, contextualize_q_prompt\n",
    ")"
   ]
  },
  {
   "cell_type": "code",
   "execution_count": 52,
   "metadata": {},
   "outputs": [],
   "source": [
    "from langchain.chains import create_retrieval_chain\n",
    "from langchain.chains.combine_documents import create_stuff_documents_chain\n",
    "from langchain_core.messages import AIMessage, HumanMessage\n",
    "\n",
    "\n",
    "def get_recipe(query, history=None):\n",
    "    # Inicializa el historial de chat si es la primera vez\n",
    "    history = []    # Prompt del sistema que guía cómo generar la respuesta\n",
    "    \n",
    "    system_prompt = (\n",
    "        \"\"\"\n",
    "        Always add a kind and friendly message according to the context at the beginning of the response.\n",
    "        Take the information from context[0][\"metadata\"]\n",
    "        Then follow this format\n",
    "        Title: [Title of the Recipe]\n",
    "        Description: [Short Description of the Recipe]\n",
    "        Preparation Time: [Preparation Time]\n",
    "        Cooking Time: [Cooking Time]\n",
    "        Difficulty: [Difficulty Level]\n",
    "        Serves: [Number of Servings]\n",
    "        Diet Type: [Diet Type]\n",
    "        Nutrition: calories context[0][\"metadata\"][\"calories\"] | fat context[0][\"metadata\"][\"fat\"] | protein context[0][\"metadata\"][\"protein\"] | fiber context[0][\"metadata\"][\"fibre\"]\n",
    "        Ingredients: [List of Ingredients]\n",
    "        Instructions: [Step-by-step Cooking Instructions]\n",
    "\n",
    "        If you don't have any general information, just respond with \"I don't know!\"\n",
    "\n",
    "        {context}\n",
    "        {{metadata}}\n",
    "        \"\"\"\n",
    "    )\n",
    "\n",
    "    # Configura el prompt del QA (sistema y humano)\n",
    "    qa_prompt = ChatPromptTemplate.from_messages(\n",
    "        [\n",
    "            (\"system\", system_prompt),\n",
    "            MessagesPlaceholder(\"chat_history\"),\n",
    "            (\"human\", \"{input}\"),\n",
    "        ]\n",
    "    )\n",
    "\n",
    "    # Crear las cadenas para el QA y el RAG (retrieval-augmented generation)\n",
    "    question_answer_chain = create_stuff_documents_chain(llm, qa_prompt)\n",
    "    rag_chain = create_retrieval_chain(history_aware_retriever, question_answer_chain)\n",
    "\n",
    "    # Invoca la cadena con la pregunta y el historial de chat\n",
    "    response = rag_chain.invoke({\"input\": query, \"chat_history\": history})\n",
    "\n",
    "    # Actualiza el historial de chat con los nuevos mensajes\n",
    "    history.extend(\n",
    "        [\n",
    "            HumanMessage(content=query),\n",
    "            AIMessage(content=response[\"answer\"]),\n",
    "        ]\n",
    "    )\n",
    "\n",
    "    # Imprimir el mensaje generado por la IA\n",
    "    print(\"####### ai_msg_1:\", response)\n",
    "\n",
    "    # Devolver el contenido del mensaje de la IA\n",
    "    return response[\"answer\"]"
   ]
  },
  {
   "cell_type": "code",
   "execution_count": 53,
   "metadata": {},
   "outputs": [
    {
     "name": "stdout",
     "output_type": "stream",
     "text": [
      "Running on local URL:  http://127.0.0.1:7881\n",
      "\n",
      "To create a public link, set `share=True` in `launch()`.\n"
     ]
    },
    {
     "data": {
      "text/html": [
       "<div><iframe src=\"http://127.0.0.1:7881/\" width=\"100%\" height=\"500\" allow=\"autoplay; camera; microphone; clipboard-read; clipboard-write;\" frameborder=\"0\" allowfullscreen></iframe></div>"
      ],
      "text/plain": [
       "<IPython.core.display.HTML object>"
      ]
     },
     "metadata": {},
     "output_type": "display_data"
    },
    {
     "data": {
      "text/plain": []
     },
     "execution_count": 53,
     "metadata": {},
     "output_type": "execute_result"
    },
    {
     "name": "stdout",
     "output_type": "stream",
     "text": [
      "####### ai_msg_1: {'input': 'What can I do with brocolli', 'chat_history': [HumanMessage(content='What can I do with brocolli'), AIMessage(content='Hello! Broccoli is such a versatile vegetable, and there are many delicious ways to prepare it. Here are a few ideas:\\n\\n1. **Cheesy Broccoli Soup**: Use frozen cauliflower and broccoli to make a creamy soup topped with a cheesy, seedy crumble for added texture.\\n\\n2. **Purple Sprouting Broccoli Salad**: Make a vibrant salad with purple sprouting broccoli, dressed in a tangy vinaigrette made from capers, parsley, mustard, and honey.\\n\\n3. **Broccoli Stalk Falafel**: Reduce food waste by using broccoli stalks in a falafel recipe, blending them with chickpeas for a tasty and sustainable dish.\\n\\n4. **Umami Broccoli Noodles**: Create a bowl of noodles featuring broccoli, enhanced with a crispy chili oil topping for an extra kick.\\n\\nIf you need specific recipes for any of these ideas, feel free to ask!')], 'context': [Document(id='1102', metadata={'calories': '161', 'carbs': '12g', 'cook_time': '25 mins', 'diet_type': 'Healthy', 'difficulty': 'Easy', 'fat': '8g', 'fibre': '6g', 'id': '1102', 'ingredients': '1cauliflower(about 700g), 1broccoli(about 450g), 2 tbspvegetable or other flavourless oil, 1 largeonion, finely chopped, 2celery sticks, finely chopped, 2carrots, finely chopped, 3 largegarlic cloves, finely chopped, 2 tspground cumin, 1 tspground coriander, 1 litrevegetable stock, 2 tspvegetable or other flavourless oil, 50gfresh or dried breadcrumbs, 25gmixed seeds, pinch ofchilli flakes, 25gparmesanor vegetarian alternative, finely grated, For the crumble, 2 tspvegetable or other flavourless oil, 50gfresh or dried breadcrumbs, 25gmixed seeds, pinch ofchilli flakes, 25gparmesanor vegetarian alternative, finely grated', 'instructions': 'Remove any wilted or brown leaves from the cauliflower. Cut the cauliflower and broccoli into bite-size florets, then finely chop the stalks and remaining leaves. Heat the oil in a large, deepsaucepanover a medium heat and cook all the stalks and leaves, the onion, celery, carrot and garlic, partially covered with a lid, for 10 mins until everything is slightly softened. Remove the lid and stir in the spices and stock. Bring to a simmer, cook for 5 mins, then stir in the cauliflower and broccoli florets. Continue cooking, covered, for 10 mins more until everything is tender. Remove from the heat and blitz using ahand blenderuntil thick and creamy. Season to taste. Meanwhile, for the crumble, heat the oil in a small pan over a medium heat and toast the breadcrumbs, seeds and chilli flakes for 4-5 mins until golden and fragrant. Remove from the heat, season and stir in the cheese. Sprinkle the crumble over the soup to serve.', 'prep_time': '20 mins', 'protein': '7g', 'salt': '0.5g', 'saturates': '1g', 'serves': 'Serves 6 - 8', 'sugars': '7g', 'title': 'Cauliflower & broccoli soup with seedy crumble'}, page_content='Use frozen cauliflower and broccoli for this recipe, if you like. The cheesy, seedy crumble is a must-try – it takes this soup to the next level'), Document(id='2', metadata={'calories': '126', 'carbs': '5g', 'cook_time': '5 mins', 'diet_type': 'Gluten-free', 'difficulty': 'Easy', 'fat': '9g', 'fibre': '3g', 'id': '2', 'ingredients': '350gpurple sprouting broccoli(or use other broccoli or romesco cauliflower), 1heaped tbsp Dijon mustard, 1 tsphoney, 1-2 tbsp capers, 3 tbspextra virgin olive oil, 10gparsley,finely chopped, plus 2 tbsp to garnish, For the dressing, 1heaped tbsp Dijon mustard, 1 tsphoney, 1-2 tbsp capers, 3 tbspextra virgin olive oil, 10gparsley,finely chopped, plus 2 tbsp to garnish', 'instructions': 'Bring a large pan of salted water to the boil over a medium-high heat. Trim away any dry ends from the broccoli. Cut large stalks in half so they are all a similar size. Cook the broccoli for 4-6 mins until aknifecan easily pierce through the stalks. Combine the dressing ingredients in a large bowl with a pinch of salt and a few grinds of black pepper. Taste – it should be slightly over-seasoned and punchy, as the broccoli will absorb the dressing along with the seasoning. Drain the broccoli well and add to the dressing. Toss well to evenly coat.', 'prep_time': '10 mins', 'protein': '4g', 'salt': '0.7g', 'saturates': '1g', 'serves': 'Serves 4 as a side', 'sugars': '4g', 'title': 'Purple sprouting broccoli with vinaigrette'}, page_content=\"Make the most of purple sprouting broccoli, with a moreish vinaigrette made from capers, parsley, mustard and honey. It's a great veggie side\"), Document(id='1089', metadata={'calories': '766', 'carbs': '68g', 'cook_time': '20 mins', 'diet_type': 'Freezable (falafel only)', 'difficulty': 'Easy', 'fat': '39g', 'fibre': '17g', 'id': '1089', 'ingredients': '2pittas, cut into small triangles, 50gpumpkin or sunflower seeds, 1 tbspolive or rapeseed oil, pinch ofcumin seeds, pinch ofchilli flakes, 160gbaby spinachor other soft green salad leaves, 200gcooked grainsof your choice (we used quinoa), 2carrots, finely shredded or grated, 2baby cucumbers, sliced, or 1⁄4 large cucumber, chopped, 2 tsphoneyor maple syrup, 1raw broccoli stalk(about 100g), quartered lengthways and sliced, 400g canchickpeas, drained, ½ tspbaking powder, 2 tspground cumin, plus a pinch, 1 tspground coriander, 2garlic cloves, 1lemon, zested, small bunch ofparsley, roughly chopped, reserving a few whole leaves to serve, flavourless oil, for rolling and the baking tray, For the broccoli stalk falafel, 1raw broccoli stalk(about 100g), quartered lengthways and sliced, 400g canchickpeas, drained, ½ tspbaking powder, 2 tspground cumin, plus a pinch, 1 tspground coriander, 2garlic cloves, 1lemon, zested, small bunch ofparsley, roughly chopped, reserving a few whole leaves to serve, flavourless oil, for rolling and the baking tray, 400g canchickpeas, 100gcooked beetroot, drained, 1garlic clove, 2 tbsptahini, 2 tbspextra virgin olive oilor rapeseed oil, squeeze oflemon juice, For the beetroot hummus, 400g canchickpeas, 100gcooked beetroot, drained, 1garlic clove, 2 tbsptahini, 2 tbspextra virgin olive oilor rapeseed oil, squeeze oflemon juice, 1 tbsptahini, 2 tsphoneyor maple syrup, ½lemon, juiced, 3 tbspextra virgin olive oilor rapeseed oil, For the dressing, 1 tbsptahini, 2 tsphoneyor maple syrup, ½lemon, juiced, 3 tbspextra virgin olive oilor rapeseed oil', 'instructions': 'First, make the falafel. Put all the ingredients in afood processor, except the oil, and season well. Blitz to a paste, scraping down the sides of the bowl a couple of times until you have a smooth mixture. Lightly oil a dessertspoon and your hands. Scoop a little of the falafel mixture into your hands, then roll into a ball the size of a large cherry tomato. Flatten gently into a disc – the mixture will feel quite soft at this stage. Repeat to make 12 falafel in total, then put on a plate and keep chilled until you’re ready to serve.Will keep chilled for up to 24 hrs. To make the hummus, drain the chickpeas, reserving the liquid from the can, then tip into ablenderalong with a splash of the reserved liquid, the beetroot, garlic, tahini, oil, lemon juice and 1 tsp sea salt. Blitz to a smooth purée, adding more of the reserved chickpea liquid if the purée is too thick. Set aside in the fridge with the falafel.Will keep chilled for up to two days. Toss the pitta triangles and pumpkin seeds with the oil, cumin seeds and chilli flakes, then spread out on a baking tray and bake at 200C/180C fan/gas 6 for 8-10 mins until crisp and toasted. Or, do this in an air-fryer at 200C, tossing the mixture halfway through. Line abaking traywith parchment (or cut a piece to fit the basket of your air-fryer), brush the parchment with a little oil and arrange the falafel on the tray. Cook for 12-15 mins, turning halfway through, until crisp and golden.Once cool, the falafel will keep chilled or for up to two days – they will firm up as they cool. Reheat or eat cold. Mix all the ingredients for the dressing together. Divide the spinach between four shallow bowls or plates, and top with the grains (reheat these if you like, or serve cold), then the carrots, cucumbers, pitta chips and falafel. Generously spoon the hummus into the bowls, then drizzle over the dressing and sprinkle over the roasted pumpkin seeds and a few whole parsley to serve.', 'prep_time': '25 mins', 'protein': '26g', 'salt': '1.9g', 'saturates': '5g', 'serves': 'Serves 4', 'sugars': '14g', 'title': 'Broccoli stem falafel bowl'}, page_content='Reduce food waste and make the falafel in this dish using an ingredient that’s often discarded – broccoli stalks, which are blitzed into the chickpea base'), Document(id='222', metadata={'calories': '584', 'carbs': '45g', 'cook_time': '25 mins', 'diet_type': 'None', 'difficulty': 'Easy', 'fat': '29g', 'fibre': '15g', 'id': '222', 'ingredients': '3sausages, skins removed, 2 tspsoy sauce, 2 tspsugar, 8-10 spearsthin-stemmed broccoli, halved if long, or a small head of regular broccoli, cut into florets, 2 tspsesame oil, 1 tsptoasted sesame seeds, 1 largegarlic clove, crushed, 15gginger, peeled and grated, 4spring onions, finely sliced, white and green parts separated, 2 tspmiso paste, 2 tbsptahini, 200gcooked udon noodles, crispy chilli oil, to serve (optional)', 'instructions': 'Heat a frying pan over a medium heat and fry the sausagemeat for 8-10 mins, or until brown and crispy, breaking it up with a spoon. The sausagemeat will release fat as it cooks, so there’s no need for oil. Add 1 tsp of the soy sauce and 1 tsp of the sugar and cook for another minute, then use a slotted spoon to scoop the meat out of the pan and set aside on a plate. Heat the oven or anair-fryerto 180C/160C fan/gas 4. Toss the broccoli in the sesame oil, sesame seeds and a pinch of salt and pepper. Arrange on a baking tray or put in the basket of the air-fryer. Cook for 12-15 mins until crispy, turning the pieces over halfway through. Meanwhile, add the garlic, ginger, white parts of the spring onion, miso and remaining soy and sugar to the pan over a medium heat and cook for a few minutes, then add a splash of water to help deglaze the pan (lifting the sticky bits off the bottom). Add the tahini and 200ml water, and stir for a couple of minutes to bring the flavours together. If using ready-cooked noodles, heat them following pack instructions, then add to the sauce and simmer gently for 1-2 mins, adding a splash more water if needed – the sauce should be loose and soupy. Reheat the crispy sausage in amicrowaveor frying pan, if necessary. Transfer the noodles to shallow bowls and pour over the sauce. Top with the sausage, broccoli, spring onion greens and a little crispy chilli oil, if you like.', 'prep_time': '15 mins', 'protein': '29g', 'salt': '2.6g', 'saturates': '7g', 'serves': 'Serves 2', 'sugars': '12g', 'title': 'Tahini miso noodles with crispy broccoli & sausages'}, page_content='Do something different with broccoli with this umami bowl of noodles. A crispy chilli oil topping really enhances the dish – it’s well worth investing in a jar')], 'answer': 'Hello! Broccoli is such a versatile vegetable, and there are many delicious ways to prepare it. Here are a few ideas:\\n\\n1. **Cheesy Broccoli Soup**: Use frozen cauliflower and broccoli to make a creamy soup topped with a cheesy, seedy crumble for added texture.\\n\\n2. **Purple Sprouting Broccoli Salad**: Make a vibrant salad with purple sprouting broccoli, dressed in a tangy vinaigrette made from capers, parsley, mustard, and honey.\\n\\n3. **Broccoli Stalk Falafel**: Reduce food waste by using broccoli stalks in a falafel recipe, blending them with chickpeas for a tasty and sustainable dish.\\n\\n4. **Umami Broccoli Noodles**: Create a bowl of noodles featuring broccoli, enhanced with a crispy chili oil topping for an extra kick.\\n\\nIf you need specific recipes for any of these ideas, feel free to ask!'}\n",
      "####### ai_msg_1: {'input': 'please specify the Umami Broccoli Noodles recipe', 'chat_history': [HumanMessage(content='please specify the Umami Broccoli Noodles recipe'), AIMessage(content=\"Hello! I'm excited to share a delicious recipe with you. Here are the details for the Umami Broccoli Noodles:\\n\\nTitle: Umami Broccoli Noodles  \\nDescription: A delightful bowl of noodles featuring broccoli and a crispy chilli oil topping that enhances the umami flavors.  \\nPreparation Time: 10 minutes  \\nCooking Time: 15 minutes  \\nDifficulty: Easy  \\nServes: 2  \\nDiet Type: Plant-based  \\nNutrition: calories 400 | fat 15g | protein 10g | fiber 5g  \\n\\nIngredients:  \\n- 200g flat noodles  \\n- 200g broccoli, cut into florets  \\n- 2 spring onions, sliced  \\n- 2 tablespoons crispy chilli oil  \\n- 2 tablespoons sweet chilli sauce  \\n- Juice of 1 lime  \\n- 100g vegetable gyoza (optional)  \\n\\nInstructions:  \\n1. Cook the flat noodles according to package instructions. Drain and set aside.  \\n2. In a pot of boiling water, blanch the broccoli florets for 2-3 minutes until tender but still vibrant. Drain and set aside.  \\n3. In a large bowl, combine the cooked noodles, blanched broccoli, and sliced spring onions.  \\n4. Drizzle the crispy chilli oil and sweet chilli sauce over the noodle mixture. Toss gently to combine.  \\n5. Squeeze fresh lime juice over the top for added flavor.  \\n6. If using, cook the vegetable gyoza according to package instructions and serve alongside the noodles.  \\n7. Enjoy your umami-packed broccoli noodles!\\n\\nI hope you enjoy making and eating this delightful dish!\")], 'context': [Document(id='222', metadata={'calories': '584', 'carbs': '45g', 'cook_time': '25 mins', 'diet_type': 'None', 'difficulty': 'Easy', 'fat': '29g', 'fibre': '15g', 'id': '222', 'ingredients': '3sausages, skins removed, 2 tspsoy sauce, 2 tspsugar, 8-10 spearsthin-stemmed broccoli, halved if long, or a small head of regular broccoli, cut into florets, 2 tspsesame oil, 1 tsptoasted sesame seeds, 1 largegarlic clove, crushed, 15gginger, peeled and grated, 4spring onions, finely sliced, white and green parts separated, 2 tspmiso paste, 2 tbsptahini, 200gcooked udon noodles, crispy chilli oil, to serve (optional)', 'instructions': 'Heat a frying pan over a medium heat and fry the sausagemeat for 8-10 mins, or until brown and crispy, breaking it up with a spoon. The sausagemeat will release fat as it cooks, so there’s no need for oil. Add 1 tsp of the soy sauce and 1 tsp of the sugar and cook for another minute, then use a slotted spoon to scoop the meat out of the pan and set aside on a plate. Heat the oven or anair-fryerto 180C/160C fan/gas 4. Toss the broccoli in the sesame oil, sesame seeds and a pinch of salt and pepper. Arrange on a baking tray or put in the basket of the air-fryer. Cook for 12-15 mins until crispy, turning the pieces over halfway through. Meanwhile, add the garlic, ginger, white parts of the spring onion, miso and remaining soy and sugar to the pan over a medium heat and cook for a few minutes, then add a splash of water to help deglaze the pan (lifting the sticky bits off the bottom). Add the tahini and 200ml water, and stir for a couple of minutes to bring the flavours together. If using ready-cooked noodles, heat them following pack instructions, then add to the sauce and simmer gently for 1-2 mins, adding a splash more water if needed – the sauce should be loose and soupy. Reheat the crispy sausage in amicrowaveor frying pan, if necessary. Transfer the noodles to shallow bowls and pour over the sauce. Top with the sausage, broccoli, spring onion greens and a little crispy chilli oil, if you like.', 'prep_time': '15 mins', 'protein': '29g', 'salt': '2.6g', 'saturates': '7g', 'serves': 'Serves 2', 'sugars': '12g', 'title': 'Tahini miso noodles with crispy broccoli & sausages'}, page_content='Do something different with broccoli with this umami bowl of noodles. A crispy chilli oil topping really enhances the dish – it’s well worth investing in a jar'), Document(id='1003', metadata={'calories': '582', 'carbs': '98g', 'cook_time': '20 mins', 'diet_type': 'Dairy-free', 'difficulty': 'Easy', 'fat': '9g', 'fibre': '10g', 'id': '1003', 'ingredients': '200gflat ramen noodles, 125glong-stemmed broccoli, tips only, 500mlmiso broth, 8vegetable gyoza, 1carrot, cut into thick batons, 2 purple or greenspring onions, thinly sliced, 1chilli, thinly sliced, 2 tspchilli crisp, to serve, toasted sesame seeds, to serve', 'instructions': 'Cook the noodles and broccoli tips in a pan of boiling water for 5 mins until al dente. Drain, then rinse under cold running water and set aside. Bring the miso broth to a simmer in a pan over a medium heat. Tip in the gyoza and simmer gently for 6 mins. Divide the noodles between two deep bowls. Pour over the broth and top with the gyoza. Add the broccoli and carrots, then top with the spring onion and chilli. Drizzle over the chilli crisp and scatter over the sesame seeds.', 'prep_time': '20 mins', 'protein': '23g', 'salt': '5.43g', 'saturates': '1g', 'serves': 'Serves 2', 'sugars': '9g', 'title': 'Slurp it up miso ramen'}, page_content='Savour the rich flavours of miso ramen, featuring flat noodles, broccoli and spring onions. Elevate the experience with vegetable gyoza for a truly comforting dinner'), Document(id='308', metadata={'calories': '538', 'carbs': '98g', 'cook_time': '15 mins', 'diet_type': 'Dairy-free', 'difficulty': 'Easy', 'fat': '7g', 'fibre': '12g', 'id': '308', 'ingredients': '200gdried flat rice noodles, 1 tbspvegetable or other neutral-tasting oil, 1onion, finely sliced, 1carrot, cut into matchsticks, 200glong-stemmed broccoli, trimmed and cut into 3cm pieces, 2garlic cloves, finely sliced, 1red chilli, finely sliced (deseeded, if you like), 1 tbspdark soy sauce, 1 tbsplight soy sauce, 1½ tbspsweet chilli sauce, 1lime, zested and juiced, 1 tbspcrispy chilli oil, 2 tbspcashews, roughly chopped, To serve (optional), 1 tbspcrispy chilli oil, 2 tbspcashews, roughly chopped', 'instructions': 'Cook the noodles following pack instructions, then drain and rinse under cold running water to prevent them sticking. Heat the oil in a large frying pan orwokover a medium-high heat and cook the onion, carrot and broccoli for 4-5 mins until starting to brown. Add the garlic and chilli, and cook for 1-2 mins more. Mix the soy sauces, chilli sauce, lime zest and juice in small bowl, then add to the pan along with the noodles. Toss with tongs to coat everything, then serve topped with chilli oil and cashews, if you like.', 'prep_time': '10 mins', 'protein': '14g', 'salt': '3.6g', 'saturates': '1g', 'serves': 'Serves 2', 'sugars': '17g', 'title': 'Sweet & spicy broccoli noodles'}, page_content='Pep up this plant-based rice noodle bowl with sweet chilli sauce and fresh lime. It takes just 25 minutes to make – perfect for busy weeknights'), Document(id='810', metadata={'calories': '522', 'carbs': '55g', 'cook_time': '20 mins', 'diet_type': 'Vegetarian', 'difficulty': 'Easy', 'fat': '22g', 'fibre': '10g', 'id': '810', 'ingredients': '400gudon noodles, 1 tbspvegetable or other neutral-tasting oil, 300gmushrooms, finely sliced, 3 tbsptahini, 1 tbspsesame seeds, 1 tbspsoy sauce, 200mlvegetable stock, 3spring onions, finely chopped, 150gkimchi, roughly chopped, plus 1 tbsp liquid from the jar (ensure vegetarian, if needed), lime wedges, to serve', 'instructions': 'Cook the noodles following pack instructions. Drain. Heat the oil in a frying pan orwokover a medium-high heat and fry the mushrooms for 8-10 mins until browned. Mix the tahini, sesame seeds, soy, stock, most of the spring onions and the kimchi liquid in a small bowl. Remove the pan from the heat, pour in the tahini mixture and stir. If it splits, keep stirring – it will come back together. Stir in the cooked noodles and kimchi. Serve topped with the remaining spring onions, and the lime wedges on the side for squeezing over.', 'prep_time': '5 mins', 'protein': '21g', 'salt': '3.8g', 'saturates': '3g', 'serves': 'Serves 2', 'sugars': '7g', 'title': 'Kimchi & sesame noodles'}, page_content='Introduce umami flavour notes to veggie noodles with the help of spicy, tangy kimchi. Serve topped with spring onions, with lime wedges on the side')], 'answer': \"Hello! I'm excited to share a delicious recipe with you. Here are the details for the Umami Broccoli Noodles:\\n\\nTitle: Umami Broccoli Noodles  \\nDescription: A delightful bowl of noodles featuring broccoli and a crispy chilli oil topping that enhances the umami flavors.  \\nPreparation Time: 10 minutes  \\nCooking Time: 15 minutes  \\nDifficulty: Easy  \\nServes: 2  \\nDiet Type: Plant-based  \\nNutrition: calories 400 | fat 15g | protein 10g | fiber 5g  \\n\\nIngredients:  \\n- 200g flat noodles  \\n- 200g broccoli, cut into florets  \\n- 2 spring onions, sliced  \\n- 2 tablespoons crispy chilli oil  \\n- 2 tablespoons sweet chilli sauce  \\n- Juice of 1 lime  \\n- 100g vegetable gyoza (optional)  \\n\\nInstructions:  \\n1. Cook the flat noodles according to package instructions. Drain and set aside.  \\n2. In a pot of boiling water, blanch the broccoli florets for 2-3 minutes until tender but still vibrant. Drain and set aside.  \\n3. In a large bowl, combine the cooked noodles, blanched broccoli, and sliced spring onions.  \\n4. Drizzle the crispy chilli oil and sweet chilli sauce over the noodle mixture. Toss gently to combine.  \\n5. Squeeze fresh lime juice over the top for added flavor.  \\n6. If using, cook the vegetable gyoza according to package instructions and serve alongside the noodles.  \\n7. Enjoy your umami-packed broccoli noodles!\\n\\nI hope you enjoy making and eating this delightful dish!\"}\n",
      "####### ai_msg_1: {'input': 'how many serves has the Umami Broccoli Noodles', 'chat_history': [HumanMessage(content='how many serves has the Umami Broccoli Noodles'), AIMessage(content=\"I don't know!\")], 'context': [Document(id='222', metadata={'calories': '584', 'carbs': '45g', 'cook_time': '25 mins', 'diet_type': 'None', 'difficulty': 'Easy', 'fat': '29g', 'fibre': '15g', 'id': '222', 'ingredients': '3sausages, skins removed, 2 tspsoy sauce, 2 tspsugar, 8-10 spearsthin-stemmed broccoli, halved if long, or a small head of regular broccoli, cut into florets, 2 tspsesame oil, 1 tsptoasted sesame seeds, 1 largegarlic clove, crushed, 15gginger, peeled and grated, 4spring onions, finely sliced, white and green parts separated, 2 tspmiso paste, 2 tbsptahini, 200gcooked udon noodles, crispy chilli oil, to serve (optional)', 'instructions': 'Heat a frying pan over a medium heat and fry the sausagemeat for 8-10 mins, or until brown and crispy, breaking it up with a spoon. The sausagemeat will release fat as it cooks, so there’s no need for oil. Add 1 tsp of the soy sauce and 1 tsp of the sugar and cook for another minute, then use a slotted spoon to scoop the meat out of the pan and set aside on a plate. Heat the oven or anair-fryerto 180C/160C fan/gas 4. Toss the broccoli in the sesame oil, sesame seeds and a pinch of salt and pepper. Arrange on a baking tray or put in the basket of the air-fryer. Cook for 12-15 mins until crispy, turning the pieces over halfway through. Meanwhile, add the garlic, ginger, white parts of the spring onion, miso and remaining soy and sugar to the pan over a medium heat and cook for a few minutes, then add a splash of water to help deglaze the pan (lifting the sticky bits off the bottom). Add the tahini and 200ml water, and stir for a couple of minutes to bring the flavours together. If using ready-cooked noodles, heat them following pack instructions, then add to the sauce and simmer gently for 1-2 mins, adding a splash more water if needed – the sauce should be loose and soupy. Reheat the crispy sausage in amicrowaveor frying pan, if necessary. Transfer the noodles to shallow bowls and pour over the sauce. Top with the sausage, broccoli, spring onion greens and a little crispy chilli oil, if you like.', 'prep_time': '15 mins', 'protein': '29g', 'salt': '2.6g', 'saturates': '7g', 'serves': 'Serves 2', 'sugars': '12g', 'title': 'Tahini miso noodles with crispy broccoli & sausages'}, page_content='Do something different with broccoli with this umami bowl of noodles. A crispy chilli oil topping really enhances the dish – it’s well worth investing in a jar'), Document(id='1003', metadata={'calories': '582', 'carbs': '98g', 'cook_time': '20 mins', 'diet_type': 'Dairy-free', 'difficulty': 'Easy', 'fat': '9g', 'fibre': '10g', 'id': '1003', 'ingredients': '200gflat ramen noodles, 125glong-stemmed broccoli, tips only, 500mlmiso broth, 8vegetable gyoza, 1carrot, cut into thick batons, 2 purple or greenspring onions, thinly sliced, 1chilli, thinly sliced, 2 tspchilli crisp, to serve, toasted sesame seeds, to serve', 'instructions': 'Cook the noodles and broccoli tips in a pan of boiling water for 5 mins until al dente. Drain, then rinse under cold running water and set aside. Bring the miso broth to a simmer in a pan over a medium heat. Tip in the gyoza and simmer gently for 6 mins. Divide the noodles between two deep bowls. Pour over the broth and top with the gyoza. Add the broccoli and carrots, then top with the spring onion and chilli. Drizzle over the chilli crisp and scatter over the sesame seeds.', 'prep_time': '20 mins', 'protein': '23g', 'salt': '5.43g', 'saturates': '1g', 'serves': 'Serves 2', 'sugars': '9g', 'title': 'Slurp it up miso ramen'}, page_content='Savour the rich flavours of miso ramen, featuring flat noodles, broccoli and spring onions. Elevate the experience with vegetable gyoza for a truly comforting dinner'), Document(id='308', metadata={'calories': '538', 'carbs': '98g', 'cook_time': '15 mins', 'diet_type': 'Dairy-free', 'difficulty': 'Easy', 'fat': '7g', 'fibre': '12g', 'id': '308', 'ingredients': '200gdried flat rice noodles, 1 tbspvegetable or other neutral-tasting oil, 1onion, finely sliced, 1carrot, cut into matchsticks, 200glong-stemmed broccoli, trimmed and cut into 3cm pieces, 2garlic cloves, finely sliced, 1red chilli, finely sliced (deseeded, if you like), 1 tbspdark soy sauce, 1 tbsplight soy sauce, 1½ tbspsweet chilli sauce, 1lime, zested and juiced, 1 tbspcrispy chilli oil, 2 tbspcashews, roughly chopped, To serve (optional), 1 tbspcrispy chilli oil, 2 tbspcashews, roughly chopped', 'instructions': 'Cook the noodles following pack instructions, then drain and rinse under cold running water to prevent them sticking. Heat the oil in a large frying pan orwokover a medium-high heat and cook the onion, carrot and broccoli for 4-5 mins until starting to brown. Add the garlic and chilli, and cook for 1-2 mins more. Mix the soy sauces, chilli sauce, lime zest and juice in small bowl, then add to the pan along with the noodles. Toss with tongs to coat everything, then serve topped with chilli oil and cashews, if you like.', 'prep_time': '10 mins', 'protein': '14g', 'salt': '3.6g', 'saturates': '1g', 'serves': 'Serves 2', 'sugars': '17g', 'title': 'Sweet & spicy broccoli noodles'}, page_content='Pep up this plant-based rice noodle bowl with sweet chilli sauce and fresh lime. It takes just 25 minutes to make – perfect for busy weeknights'), Document(id='227', metadata={'calories': '500', 'carbs': '64g', 'cook_time': '25 mins', 'diet_type': 'Vegetarian', 'difficulty': 'Easy', 'fat': '13g', 'fibre': '13g', 'id': '227', 'ingredients': '300gfirm tofu,patted dry and sliced into 2cm cubes, 2 tbspcornflour, 250gmedium egg noodles, 1 tbspvegetable oil, 2spring onions,sliced, ½ - 1red chilli,finely chopped, 15gginger,finely grated, 3garlic cloves,finely grated, 1 ½ tspChinese five-spice powder, ½ large head ofbroccoli,finely chopped, 2red peppers,sliced, 200gfrozen peas, 2 tbsplight soy sauce, 1 tbspcrispy chilli oil,plus extra to serve (optional), 10gcoriander,chopped, 1lime,juiced', 'instructions': 'Heat the oven orair-fryerto 220C/200C fan/gas 7. Toss the tofu and cornflour together in a large bowl and season. Tip onto a lined baking tray and spread out to an even layer (or do this in the basket of your air-fryer) and cook for 15-20 mins until crisp and golden. Meanwhile, cook the noodles following pack instructions, then rinse well in cold water so they don’t clump together. While the noodles are cooking, add the oil to a large frying pan over high heat. Once shimmering, stir-fry the spring onions, chilli, ginger and garlic for 2-3mins. Sprinkle in the Chinese five-spice and stir to combine, then add the broccoli, peppers and peas. Cook for 10-12 mins, stirring regularly, until softened and charring at the edges. Stir in the cooked noodles, soy sauce, chilli oil, coriander and half the lime juice, tossing to combine (it’s easier to use two wooden spoons). Toss the crispy tofu with the other half of the lime juice. Divide the noodles between four bowls and top with the crispy tofu. Serve with extra crispy chilli oil, if you like.', 'prep_time': '15 mins', 'protein': '26g', 'salt': '1.7g', 'saturates': '2g', 'serves': 'Serves 4', 'sugars': '10g', 'title': 'Noodles with crispy tofu'}, page_content=\"Combine crispy tofu with noodles, broccoli, peas and plenty of spices for a flavour-packed dinner. It's a spicy, vibrant dish that's sure to be a weeknight favourite\")], 'answer': \"I don't know!\"}\n"
     ]
    }
   ],
   "source": [
    "demo = gr.ChatInterface(\n",
    "  get_recipe,\n",
    "  title=\"Recipes Generator\",\n",
    "  description=\"Ask recipes recommendations based on ingredients and instructions\",\n",
    "  examples=[\"Recommend a recipe with chicken\", \"A low-calorie chicken recipe\", \"What can I do with brocolli\", \"please recommend 3 recipes with rice\"],\n",
    ")\n",
    "\n",
    "demo.launch()"
   ]
  },
  {
   "cell_type": "code",
   "execution_count": null,
   "metadata": {},
   "outputs": [],
   "source": []
  }
 ],
 "metadata": {
  "kernelspec": {
   "display_name": "venv_recipes",
   "language": "python",
   "name": "venv_recipes"
  },
  "language_info": {
   "codemirror_mode": {
    "name": "ipython",
    "version": 3
   },
   "file_extension": ".py",
   "mimetype": "text/x-python",
   "name": "python",
   "nbconvert_exporter": "python",
   "pygments_lexer": "ipython3",
   "version": "3.12.6"
  }
 },
 "nbformat": 4,
 "nbformat_minor": 2
}
