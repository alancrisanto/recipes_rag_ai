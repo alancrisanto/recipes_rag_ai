{
 "cells": [
  {
   "cell_type": "code",
   "execution_count": 2,
   "metadata": {},
   "outputs": [],
   "source": [
    "%load_ext autoreload\n",
    "%autoreload 2\n",
    "%load_ext dotenv\n",
    "%dotenv"
   ]
  },
  {
   "cell_type": "code",
   "execution_count": 3,
   "metadata": {},
   "outputs": [
    {
     "name": "stderr",
     "output_type": "stream",
     "text": [
      "/home/acrisvall/recipes_rag/.venv/lib/python3.12/site-packages/pinecone/data/index.py:1: TqdmWarning: IProgress not found. Please update jupyter and ipywidgets. See https://ipywidgets.readthedocs.io/en/stable/user_install.html\n",
      "  from tqdm.autonotebook import tqdm\n"
     ]
    }
   ],
   "source": [
    "import os\n",
    "import json\n",
    "import pandas as pd\n",
    "import time\n",
    "from pinecone import Pinecone, ServerlessSpec\n",
    "from langchain_openai import OpenAIEmbeddings\n",
    "from langchain_openai import OpenAI\n",
    "from IPython.display import Markdown"
   ]
  },
  {
   "cell_type": "markdown",
   "metadata": {},
   "source": [
    "## 01 Get Data"
   ]
  },
  {
   "cell_type": "code",
   "execution_count": 3,
   "metadata": {},
   "outputs": [],
   "source": [
    "# configure\n",
    "base_dir = \"data/\"\n",
    "filename = 'all_recipes_one.json'"
   ]
  },
  {
   "cell_type": "code",
   "execution_count": 4,
   "metadata": {},
   "outputs": [
    {
     "data": {
      "text/html": [
       "<div>\n",
       "<style scoped>\n",
       "    .dataframe tbody tr th:only-of-type {\n",
       "        vertical-align: middle;\n",
       "    }\n",
       "\n",
       "    .dataframe tbody tr th {\n",
       "        vertical-align: top;\n",
       "    }\n",
       "\n",
       "    .dataframe thead th {\n",
       "        text-align: right;\n",
       "    }\n",
       "</style>\n",
       "<table border=\"1\" class=\"dataframe\">\n",
       "  <thead>\n",
       "    <tr style=\"text-align: right;\">\n",
       "      <th></th>\n",
       "      <th>link</th>\n",
       "      <th>title</th>\n",
       "      <th>prep_time</th>\n",
       "      <th>cook_time</th>\n",
       "      <th>difficulty</th>\n",
       "      <th>serves</th>\n",
       "      <th>description</th>\n",
       "      <th>diet_type</th>\n",
       "      <th>kcal</th>\n",
       "      <th>fat</th>\n",
       "      <th>saturates</th>\n",
       "      <th>carbs</th>\n",
       "      <th>sugars</th>\n",
       "      <th>fibre</th>\n",
       "      <th>protein</th>\n",
       "      <th>salt</th>\n",
       "      <th>ingredients</th>\n",
       "      <th>instructions</th>\n",
       "    </tr>\n",
       "  </thead>\n",
       "  <tbody>\n",
       "    <tr>\n",
       "      <th>0</th>\n",
       "      <td>https://www.bbcgoodfood.com/recipes/bloody-mar...</td>\n",
       "      <td>Bloody mary mussels</td>\n",
       "      <td>30 mins</td>\n",
       "      <td>20 mins</td>\n",
       "      <td>Easy</td>\n",
       "      <td>Serves 4</td>\n",
       "      <td>The mussels get a little kick from the vodka i...</td>\n",
       "      <td>Low fat</td>\n",
       "      <td>228</td>\n",
       "      <td>6g</td>\n",
       "      <td>1g</td>\n",
       "      <td>6g</td>\n",
       "      <td>5g</td>\n",
       "      <td>2g</td>\n",
       "      <td>26g</td>\n",
       "      <td>3.2g</td>\n",
       "      <td>1 tbspolive oil, 2celery sticks,finely chopped...</td>\n",
       "      <td>Heat the oil in a large, deepsaucepanover a me...</td>\n",
       "    </tr>\n",
       "    <tr>\n",
       "      <th>1</th>\n",
       "      <td>https://www.bbcgoodfood.com/recipes/spelt-panc...</td>\n",
       "      <td>Spelt pancakes with rhubarb</td>\n",
       "      <td>15 mins</td>\n",
       "      <td>50 mins</td>\n",
       "      <td>Easy</td>\n",
       "      <td>Serves 4</td>\n",
       "      <td>Make some spelt pancakes and finish with a vib...</td>\n",
       "      <td>Vegetarian</td>\n",
       "      <td>826</td>\n",
       "      <td>61g</td>\n",
       "      <td>31g</td>\n",
       "      <td>48g</td>\n",
       "      <td>18g</td>\n",
       "      <td>4g</td>\n",
       "      <td>18g</td>\n",
       "      <td>0.8g</td>\n",
       "      <td>400grhubarb,cut into 2-3cm pieces, 60ghoney,pl...</td>\n",
       "      <td>Tip the pancake ingredients into ablenderand b...</td>\n",
       "    </tr>\n",
       "    <tr>\n",
       "      <th>2</th>\n",
       "      <td>https://www.bbcgoodfood.com/recipes/purple-spr...</td>\n",
       "      <td>Purple sprouting broccoli with vinaigrette</td>\n",
       "      <td>10 mins</td>\n",
       "      <td>5 mins</td>\n",
       "      <td>Easy</td>\n",
       "      <td>Serves 4 as a side</td>\n",
       "      <td>Make the most of purple sprouting broccoli, wi...</td>\n",
       "      <td>Gluten-free</td>\n",
       "      <td>126</td>\n",
       "      <td>9g</td>\n",
       "      <td>1g</td>\n",
       "      <td>5g</td>\n",
       "      <td>4g</td>\n",
       "      <td>3g</td>\n",
       "      <td>4g</td>\n",
       "      <td>0.7g</td>\n",
       "      <td>350gpurple sprouting broccoli(or use other bro...</td>\n",
       "      <td>Bring a large pan of salted water to the boil ...</td>\n",
       "    </tr>\n",
       "    <tr>\n",
       "      <th>3</th>\n",
       "      <td>https://www.bbcgoodfood.com/recipes/lime-merin...</td>\n",
       "      <td>Lime meringue pie</td>\n",
       "      <td>30 mins</td>\n",
       "      <td>1 hr and 30 mins</td>\n",
       "      <td>More effort</td>\n",
       "      <td>Serves 8 - 10</td>\n",
       "      <td>Rustle up an indulgent meringue-topped pie for...</td>\n",
       "      <td>Vegetarian</td>\n",
       "      <td>432</td>\n",
       "      <td>22g</td>\n",
       "      <td>131g</td>\n",
       "      <td>54g</td>\n",
       "      <td>35g</td>\n",
       "      <td>1g</td>\n",
       "      <td>5g</td>\n",
       "      <td>0.5g</td>\n",
       "      <td>2 tbspcornflour, 125ggolden caster sugar, 6lim...</td>\n",
       "      <td>For the pastry, put the flour, sugar and a pin...</td>\n",
       "    </tr>\n",
       "    <tr>\n",
       "      <th>4</th>\n",
       "      <td>https://www.bbcgoodfood.com/recipes/rhubarb-fool</td>\n",
       "      <td>Easy rhubarb fool</td>\n",
       "      <td>25 mins</td>\n",
       "      <td>45 mins</td>\n",
       "      <td>Easy</td>\n",
       "      <td>Serves 4 (with extra biscuits)</td>\n",
       "      <td>Celebrate the gorgeous colour of forced rhubar...</td>\n",
       "      <td>Freezable (unbaked dough only)</td>\n",
       "      <td>897</td>\n",
       "      <td>55g</td>\n",
       "      <td>32g</td>\n",
       "      <td>88g</td>\n",
       "      <td>68g</td>\n",
       "      <td>4g</td>\n",
       "      <td>10g</td>\n",
       "      <td>0.2g</td>\n",
       "      <td>400gforced rhubarb,cut into 1cm chunks, 150ggo...</td>\n",
       "      <td>Tip the rhubarb, sugar, orange zest and juice ...</td>\n",
       "    </tr>\n",
       "  </tbody>\n",
       "</table>\n",
       "</div>"
      ],
      "text/plain": [
       "                                                link  \\\n",
       "0  https://www.bbcgoodfood.com/recipes/bloody-mar...   \n",
       "1  https://www.bbcgoodfood.com/recipes/spelt-panc...   \n",
       "2  https://www.bbcgoodfood.com/recipes/purple-spr...   \n",
       "3  https://www.bbcgoodfood.com/recipes/lime-merin...   \n",
       "4   https://www.bbcgoodfood.com/recipes/rhubarb-fool   \n",
       "\n",
       "                                        title prep_time         cook_time  \\\n",
       "0                         Bloody mary mussels   30 mins           20 mins   \n",
       "1                 Spelt pancakes with rhubarb   15 mins           50 mins   \n",
       "2  Purple sprouting broccoli with vinaigrette   10 mins            5 mins   \n",
       "3                           Lime meringue pie   30 mins  1 hr and 30 mins   \n",
       "4                           Easy rhubarb fool   25 mins           45 mins   \n",
       "\n",
       "    difficulty                          serves  \\\n",
       "0         Easy                        Serves 4   \n",
       "1         Easy                        Serves 4   \n",
       "2         Easy              Serves 4 as a side   \n",
       "3  More effort                   Serves 8 - 10   \n",
       "4         Easy  Serves 4 (with extra biscuits)   \n",
       "\n",
       "                                         description  \\\n",
       "0  The mussels get a little kick from the vodka i...   \n",
       "1  Make some spelt pancakes and finish with a vib...   \n",
       "2  Make the most of purple sprouting broccoli, wi...   \n",
       "3  Rustle up an indulgent meringue-topped pie for...   \n",
       "4  Celebrate the gorgeous colour of forced rhubar...   \n",
       "\n",
       "                        diet_type kcal  fat saturates carbs sugars fibre  \\\n",
       "0                         Low fat  228   6g        1g    6g     5g    2g   \n",
       "1                      Vegetarian  826  61g       31g   48g    18g    4g   \n",
       "2                     Gluten-free  126   9g        1g    5g     4g    3g   \n",
       "3                      Vegetarian  432  22g      131g   54g    35g    1g   \n",
       "4  Freezable (unbaked dough only)  897  55g       32g   88g    68g    4g   \n",
       "\n",
       "  protein  salt                                        ingredients  \\\n",
       "0     26g  3.2g  1 tbspolive oil, 2celery sticks,finely chopped...   \n",
       "1     18g  0.8g  400grhubarb,cut into 2-3cm pieces, 60ghoney,pl...   \n",
       "2      4g  0.7g  350gpurple sprouting broccoli(or use other bro...   \n",
       "3      5g  0.5g  2 tbspcornflour, 125ggolden caster sugar, 6lim...   \n",
       "4     10g  0.2g  400gforced rhubarb,cut into 1cm chunks, 150ggo...   \n",
       "\n",
       "                                        instructions  \n",
       "0  Heat the oil in a large, deepsaucepanover a me...  \n",
       "1  Tip the pancake ingredients into ablenderand b...  \n",
       "2  Bring a large pan of salted water to the boil ...  \n",
       "3  For the pastry, put the flour, sugar and a pin...  \n",
       "4  Tip the rhubarb, sugar, orange zest and juice ...  "
      ]
     },
     "execution_count": 4,
     "metadata": {},
     "output_type": "execute_result"
    }
   ],
   "source": [
    "file_path = f'{base_dir}{filename}'\n",
    "\n",
    "with open(file_path, 'r') as f:\n",
    "    json_data = json.load(f)\n",
    "\n",
    "data = pd.json_normalize(json_data)\n",
    "\n",
    "# Convert lists to strings\n",
    "data['ingredients'] = data['ingredients'].apply(lambda x: ', '.join(x) if isinstance(x, list) else x)\n",
    "data['instructions'] = data['instructions'].apply(lambda x: ' '.join(x) if isinstance(x, list) else x)\n",
    "\n",
    "# Define desired column order (excluding ingredients and instructions)\n",
    "desired_order = [col for col in data.columns if col not in [\"ingredients\", \"instructions\"]]\n",
    "\n",
    "# Reorder columns\n",
    "data = data[desired_order + [\"ingredients\", \"instructions\"]]\n",
    "\n",
    "header = [\"link\", \"title\", \"prep_time\", \"cook_time\", \"difficulty\", \"serves\", \"description\", \"diet_type\", \"kcal\", \"fat\", \"saturates\", \"carbs\", \"sugars\", \"fibre\", \"protein\",\t\"salt\",\t\"ingredients\", \"instructions\"]\n",
    "data.columns = header\n",
    "\n",
    "data.head()"
   ]
  },
  {
   "cell_type": "code",
   "execution_count": 5,
   "metadata": {},
   "outputs": [
    {
     "data": {
      "text/plain": [
       "(1118, 18)"
      ]
     },
     "execution_count": 5,
     "metadata": {},
     "output_type": "execute_result"
    }
   ],
   "source": [
    "data.shape"
   ]
  },
  {
   "cell_type": "code",
   "execution_count": 6,
   "metadata": {},
   "outputs": [
    {
     "data": {
      "text/plain": [
       "link             0\n",
       "title            0\n",
       "prep_time        0\n",
       "cook_time        0\n",
       "difficulty       0\n",
       "serves           0\n",
       "description      0\n",
       "diet_type        0\n",
       "kcal             6\n",
       "fat             11\n",
       "saturates       11\n",
       "carbs            6\n",
       "sugars          11\n",
       "fibre           11\n",
       "protein         11\n",
       "salt            12\n",
       "ingredients      0\n",
       "instructions     0\n",
       "dtype: int64"
      ]
     },
     "execution_count": 6,
     "metadata": {},
     "output_type": "execute_result"
    }
   ],
   "source": [
    "data.isna().sum()"
   ]
  },
  {
   "cell_type": "markdown",
   "metadata": {},
   "source": [
    "## 02 Clean Empty Columns"
   ]
  },
  {
   "cell_type": "code",
   "execution_count": 7,
   "metadata": {},
   "outputs": [],
   "source": [
    "data = data.dropna().reset_index(drop=True)"
   ]
  },
  {
   "cell_type": "code",
   "execution_count": 8,
   "metadata": {},
   "outputs": [
    {
     "data": {
      "text/plain": [
       "(1106, 18)"
      ]
     },
     "execution_count": 8,
     "metadata": {},
     "output_type": "execute_result"
    }
   ],
   "source": [
    "data.shape"
   ]
  },
  {
   "cell_type": "code",
   "execution_count": 9,
   "metadata": {},
   "outputs": [
    {
     "data": {
      "text/plain": [
       "link            0\n",
       "title           0\n",
       "prep_time       0\n",
       "cook_time       0\n",
       "difficulty      0\n",
       "serves          0\n",
       "description     0\n",
       "diet_type       0\n",
       "kcal            0\n",
       "fat             0\n",
       "saturates       0\n",
       "carbs           0\n",
       "sugars          0\n",
       "fibre           0\n",
       "protein         0\n",
       "salt            0\n",
       "ingredients     0\n",
       "instructions    0\n",
       "dtype: int64"
      ]
     },
     "execution_count": 9,
     "metadata": {},
     "output_type": "execute_result"
    }
   ],
   "source": [
    "data.isna().sum()"
   ]
  },
  {
   "cell_type": "markdown",
   "metadata": {},
   "source": [
    "## 03 Configure Pinecone"
   ]
  },
  {
   "cell_type": "code",
   "execution_count": 4,
   "metadata": {},
   "outputs": [],
   "source": [
    "api_key = os.environ.get(\"PINECONE_API_KEY\")"
   ]
  },
  {
   "cell_type": "code",
   "execution_count": 5,
   "metadata": {},
   "outputs": [],
   "source": [
    "# configure client\n",
    "pc = Pinecone(api_key=api_key)"
   ]
  },
  {
   "cell_type": "markdown",
   "metadata": {},
   "source": [
    "## 04 Create Pinecone index"
   ]
  },
  {
   "cell_type": "code",
   "execution_count": 12,
   "metadata": {},
   "outputs": [
    {
     "data": {
      "text/plain": [
       "{'dimension': 1536,\n",
       " 'index_fullness': 0.0,\n",
       " 'namespaces': {},\n",
       " 'total_vector_count': 0}"
      ]
     },
     "execution_count": 12,
     "metadata": {},
     "output_type": "execute_result"
    }
   ],
   "source": [
    "index_name = 'recipes-index'\n",
    "if index_name in pc.list_indexes().names():\n",
    "    pc.delete_index(index_name)\n",
    "\n",
    "# We create a new index with a dimension size of 1536 (for text-embedding-ada-002)\n",
    "pc.create_index(\n",
    "    index_name,\n",
    "    dimension=1536,  # dimensionality of text-embedding-ada-002\n",
    "    metric='cosine',\n",
    "    spec=ServerlessSpec(cloud=\"aws\", region=\"us-east-1\"),\n",
    ")\n",
    "\n",
    "# Wait for the index to be initialized\n",
    "while not pc.describe_index(index_name).status['ready']:\n",
    "    time.sleep(1)\n",
    "\n",
    "index = pc.Index(index_name)\n",
    "index.describe_index_stats()"
   ]
  },
  {
   "cell_type": "markdown",
   "metadata": {},
   "source": [
    "## 05 Data to embed to include in Pinecone"
   ]
  },
  {
   "cell_type": "code",
   "execution_count": 13,
   "metadata": {},
   "outputs": [],
   "source": [
    "texts = (\n",
    "    'Title: ' + data['title'] + ', ' +\n",
    "    'Description: ' + data['description'] + ', ' +\n",
    "    'Ingredients: ' + data['ingredients'] + ', ' +\n",
    "    'Prep time: ' + data['prep_time'] + ', ' +\n",
    "    'Cook time: ' + data['cook_time'] + ', ' +\n",
    "    'Calories: ' + data['kcal'].astype(str) + ' kcal, ' +\n",
    "    'Fat: ' + data['fat'].astype(str) + ' g, ' +\n",
    "    'Saturates: ' + data['saturates'].astype(str) + ' g, ' +\n",
    "    'Carbs: ' + data['carbs'].astype(str) + ' g, ' +\n",
    "    'Sugars: ' + data['sugars'].astype(str) + ' g, ' +\n",
    "    'Fibre: ' + data['fibre'].astype(str) + ' g, ' +\n",
    "    'Protein: ' + data['protein'].astype(str) + ' g, ' +\n",
    "    'Salt: ' + data['salt'].astype(str) + ' g'\n",
    ")\n",
    "\n",
    "texts_list = texts.tolist()\n"
   ]
  },
  {
   "cell_type": "markdown",
   "metadata": {},
   "source": [
    "## 06 Open AI Key"
   ]
  },
  {
   "cell_type": "code",
   "execution_count": 6,
   "metadata": {},
   "outputs": [],
   "source": [
    "openai_api_key = os.getenv('OPENAI_API_KEY')"
   ]
  },
  {
   "cell_type": "markdown",
   "metadata": {},
   "source": [
    "## 07 Embedding Model"
   ]
  },
  {
   "cell_type": "code",
   "execution_count": 7,
   "metadata": {},
   "outputs": [],
   "source": [
    "embed_model = \"text-embedding-3-small\"\n",
    "embeddings_model = OpenAIEmbeddings(model=embed_model)"
   ]
  },
  {
   "cell_type": "markdown",
   "metadata": {},
   "source": [
    "## 08 Embedding data"
   ]
  },
  {
   "cell_type": "code",
   "execution_count": 15,
   "metadata": {},
   "outputs": [],
   "source": [
    "\n",
    "embeddings = []\n",
    "for text in texts_list:\n",
    "  response = embeddings_model.embed_query(text)\n",
    "  embeddings.append(response)\n"
   ]
  },
  {
   "cell_type": "code",
   "execution_count": 17,
   "metadata": {},
   "outputs": [
    {
     "name": "stdout",
     "output_type": "stream",
     "text": [
      "1106\n"
     ]
    }
   ],
   "source": [
    "embeddings[:5]\n",
    "print(len(embeddings))"
   ]
  },
  {
   "cell_type": "markdown",
   "metadata": {},
   "source": [
    "## 09 Upsert the Data to Pinecone"
   ]
  },
  {
   "cell_type": "code",
   "execution_count": 18,
   "metadata": {},
   "outputs": [
    {
     "name": "stdout",
     "output_type": "stream",
     "text": [
      "Uploaded 1106 recipes to Pinecone.\n"
     ]
    }
   ],
   "source": [
    "# Step 5: Upsert the Data to Pinecone\n",
    "for i, embedding_vector in enumerate(embeddings):\n",
    "    metadata = {\n",
    "        \"id\": str(i),\n",
    "        \"title\": data.loc[i, 'title'],\n",
    "        \"description\": data.loc[i, 'description'],\n",
    "        \"prep_time\": data.loc[i, 'prep_time'],\n",
    "        \"cook_time\": data.loc[i, 'cook_time'],\n",
    "        \"difficulty\": data.loc[i, 'difficulty'],\n",
    "        \"serves\": data.loc[i, 'serves'],\n",
    "        \"diet_type\": data.loc[i, 'diet_type'],\n",
    "        \"ingredients\": data.loc[i, 'ingredients'],\n",
    "        \"calories\": data.loc[i, 'kcal'],\n",
    "        \"fat\": data.loc[i, 'fat'],\n",
    "        \"saturates\": data.loc[i, 'saturates'],\n",
    "        \"carbs\": data.loc[i, 'carbs'],\n",
    "        \"sugars\": data.loc[i, 'sugars'],\n",
    "        \"fibre\": data.loc[i, 'fibre'],\n",
    "        \"protein\": data.loc[i, 'protein'],\n",
    "        \"salt\": data.loc[i, 'salt'],\n",
    "        \"instructions\": data.loc[i, 'instructions'],\n",
    "    }\n",
    "    index.upsert(vectors=[(str(i), embedding_vector, metadata)])\n",
    "\n",
    "print(f\"Uploaded {len(embeddings)} recipes to Pinecone.\")"
   ]
  }
 ],
 "metadata": {
  "kernelspec": {
   "display_name": "venv_recipes",
   "language": "python",
   "name": "venv_recipes"
  },
  "language_info": {
   "codemirror_mode": {
    "name": "ipython",
    "version": 3
   },
   "file_extension": ".py",
   "mimetype": "text/x-python",
   "name": "python",
   "nbconvert_exporter": "python",
   "pygments_lexer": "ipython3",
   "version": "3.12.6"
  }
 },
 "nbformat": 4,
 "nbformat_minor": 2
}
