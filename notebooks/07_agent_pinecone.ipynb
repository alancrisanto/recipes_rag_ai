{
 "cells": [
  {
   "cell_type": "code",
   "execution_count": 1,
   "metadata": {},
   "outputs": [],
   "source": [
    "%load_ext autoreload\n",
    "%autoreload 2\n",
    "%load_ext dotenv\n",
    "%dotenv"
   ]
  },
  {
   "cell_type": "code",
   "execution_count": 2,
   "metadata": {},
   "outputs": [
    {
     "name": "stderr",
     "output_type": "stream",
     "text": [
      "/home/acrisvall/recipes_rag/.venv/lib/python3.12/site-packages/pinecone/data/index.py:1: TqdmWarning: IProgress not found. Please update jupyter and ipywidgets. See https://ipywidgets.readthedocs.io/en/stable/user_install.html\n",
      "  from tqdm.autonotebook import tqdm\n"
     ]
    }
   ],
   "source": [
    "import os\n",
    "import json\n",
    "import pandas as pd\n",
    "import time\n",
    "from pinecone import Pinecone as pcn\n",
    "from langchain_openai import OpenAIEmbeddings\n",
    "from langchain_pinecone import PineconeVectorStore\n",
    "from langchain_openai import OpenAI\n",
    "from IPython.display import Markdown"
   ]
  },
  {
   "cell_type": "markdown",
   "metadata": {},
   "source": [
    "### 01 Get API Keys"
   ]
  },
  {
   "cell_type": "code",
   "execution_count": 3,
   "metadata": {},
   "outputs": [],
   "source": [
    "api_key = os.environ.get(\"PINECONE_API_KEY\")\n",
    "openai_api_key = os.getenv('OPENAI_API_KEY')"
   ]
  },
  {
   "cell_type": "code",
   "execution_count": 4,
   "metadata": {},
   "outputs": [
    {
     "data": {
      "text/plain": [
       "{'dimension': 1536,\n",
       " 'index_fullness': 0.0,\n",
       " 'namespaces': {'': {'vector_count': 1106}},\n",
       " 'total_vector_count': 1106}"
      ]
     },
     "execution_count": 4,
     "metadata": {},
     "output_type": "execute_result"
    }
   ],
   "source": [
    "# configure client\n",
    "pc = pcn(api_key=api_key)\n",
    "index_name = 'recipes-index'\n",
    "index = pc.Index(index_name)\n",
    "index.describe_index_stats()"
   ]
  },
  {
   "cell_type": "markdown",
   "metadata": {},
   "source": [
    "### 02 Set Embedding Model"
   ]
  },
  {
   "cell_type": "code",
   "execution_count": 5,
   "metadata": {},
   "outputs": [],
   "source": [
    "embed_model = \"text-embedding-3-small\"\n",
    "embed = OpenAIEmbeddings(model=embed_model)"
   ]
  },
  {
   "cell_type": "code",
   "execution_count": 7,
   "metadata": {},
   "outputs": [],
   "source": [
    "text_field = \"description\"\n",
    "\n",
    "vectorStore = PineconeVectorStore(\n",
    "  index, embed, text_field\n",
    ")"
   ]
  },
  {
   "cell_type": "markdown",
   "metadata": {},
   "source": [
    "### 03 Vector by Similarity Search"
   ]
  },
  {
   "cell_type": "code",
   "execution_count": 9,
   "metadata": {},
   "outputs": [
    {
     "name": "stdout",
     "output_type": "stream",
     "text": [
      "Document 1:\n",
      "  calories: 540\n",
      "  carbs: 54g\n",
      "  cook_time: 15 mins\n",
      "  diet_type: Nut-free\n",
      "  difficulty: Easy\n",
      "  fat: 31g\n",
      "  fibre: 4g\n",
      "  id: 428\n",
      "  ingredients: 420gplain flour, 8gsea salt, 60gcaster sugar, 220gunsalted butter(at least 82% fat works best), 20g softened, 20gfresh yeast, or 10g dried yeast, 1egg, beaten, 110mlwhole milk, 16dark chocolate batons\n",
      "  instructions: Make the dough in astand mixer. Combine the flour, salt, sugar and 20g softened butter. Dissolve the yeast in around 80ml tepid water, around 38C, not too hot or it will kill the yeast. Add 20g of beaten egg and the milk to the stand mixer bowl. Pour in the yeast-water mixture and turn on to a low speed with a dough hook attachment for approximately 5 mins until the dough comes together to form a rough ball. Increase the speed to medium-high and knead for a further 6-10 mins until the dough is smooth. The exact time will depend on your stand mixer. Wrap the dough tightly and rest at room temperature for 10 mins. Unwrap and roll out the dough into a rectangle around 4mm thick, about 40 x 30cm. Wrap the dough rectangle and put in the freezer for 1 hr to rest or in the fridge overnight. Meanwhile, on a sheet of baking parchment, shape the remaining 200g butter into a flat rectangle (about 20 x 30cm) using a rolling pin. It should be around half the length of your dough rectangle, but the same width. Put in the fridge until needed – you want it to be cold but flexible. Take the chilled dough out of the fridge or freezer and lay the butter in the centre. Fold the dough edges in to meet at the centre, covering the butter. Rotate the dough 90 degrees and roll it out to about 40cm in length, keeping the same width. Handle the dough gently and return it to the fridge for 10-20 mins if it starts getting too warm. Repeat the process of folding the edges of the dough into the middle, then fold it over on itself again like a book (this is known as a double turn). Chill for 30 mins. Rotate the dough 90 degrees again. Roll it out long again and fold the edges in to meet in the middle. Chill for a further 30 mins. Roll out the dough to 32 x 30cm and cut 8 rectangles, 8 x 15cm each. Put a chocolate baton on one long edge of each rectangle, fold the dough inwards, then put the second chocolate baton next to the folded dough and roll the dough around the encase the chocolate, with the seams of the dough now facing down. Prove the pain au chocolat at 26-29°C (this is really important as proving at any higher temperature will mean the butter between the layers melts) for around 2-3 hrs, until doubled in size. Heat the oven to 175C/155C fan/gas 4, brush the pain au chocolat with the remaining egg and bake for 15-18 mins until golden brown and cooked through.Best eaten on the day butwill keep in an airtight container for two days.\n",
      "  prep_time: 45 mins\n",
      "  protein: 8g\n",
      "  salt: 1.04g\n",
      "  saturates: 19g\n",
      "  serves: Serves 8\n",
      "  sugars: 12g\n",
      "  title: Pain au chocolat\n",
      "\n",
      "Document 2:\n",
      "  calories: 538\n",
      "  carbs: 62g\n",
      "  cook_time: 15 mins\n",
      "  diet_type: Vegetarian\n",
      "  difficulty: Easy\n",
      "  fat: 25g\n",
      "  fibre: 3g\n",
      "  id: 671\n",
      "  ingredients: 4 thick slices ofbrioche, challah or panettone, 2 tbspmarmalade, 40gdark chocolate, broken into pieces, 3eggs, 300mlwhole milk, 1 tspvanilla extract, 1orange, zested, then peeled and sliced, ¼ tspground cinnamon, 2 tbspunsalted butter, 2 tbspmaple syrup, icing sugar, for dusting, yogurtor crème fraîche, to serve\n",
      "  instructions: Heat the oven to 140C/120C fan/gas 1. Cut a pocket into the side of each thick slice of bread using a small, sharpknife, then spoon in a quarter of the marmalade and poke a quarter of the chocolate into each pocket. Whiskthe eggs, milk, vanilla, orange zest and cinnamon together in a shallow dish. Dip each slice of bread into the egg mixture, making sure both sides are fully coated. Melt ½ tbsp of the butter in a large frying pan over a medium heat. Lay a soaked bread slice in the pan and cook until golden brown and crispy, about 2-3 mins per side. Repeat with the remaining slices. Keep the toasted slices warm in a low oven while cooking the next, adding more butter as needed. Put the orange slices in a pan with the maple syrup and warm through over a low-medium heat until some of their juices are released. Dust the French toast with icing sugar and top with the yogurt, orange slices and warm maple-orange syrup.\n",
      "  prep_time: 10 mins\n",
      "  protein: 13g\n",
      "  salt: 0.9g\n",
      "  saturates: 15g\n",
      "  serves: Serves 4\n",
      "  sugars: 33g\n",
      "  title: Chocolate-orange French toast\n",
      "\n",
      "Document 3:\n",
      "  calories: 699\n",
      "  carbs: 44g\n",
      "  cook_time: 35 mins\n",
      "  diet_type: Vegetarian\n",
      "  difficulty: More effort\n",
      "  fat: 54g\n",
      "  fibre: 3g\n",
      "  id: 343\n",
      "  ingredients: 75mlsunflower or vegetable oil, 150mlwhole milk, 1 tspvanilla extract, 1 mediumegg, beaten, 100gself-raising flour, ½ tspbicarbonate of soda, 40gcocoa powder, 125glight brown soft sugar, chocolate stars,edible gold spray and chocolate truffles, to decorate, 200gdark chocolate,finely chopped, 150gmilk chocolate,finely chopped, 130mlwhole milk,plus 1 tbsp, 550mldouble cream, 2 tspcornflour, 2 mediumeggs,beaten, 2 tbspcaster or granulated sugar, 1 tbspIrish cream liqueur(optional), For the custard, 200gdark chocolate,finely chopped, 150gmilk chocolate,finely chopped, 130mlwhole milk,plus 1 tbsp, 550mldouble cream, 2 tspcornflour, 2 mediumeggs,beaten, 2 tbspcaster or granulated sugar, 1 tbspIrish cream liqueur(optional), 100gdark chocolate(70% cocoa solids), 150gdouble cream, 50gliquid glucoseor golden syrup, For the ganache, 100gdark chocolate(70% cocoa solids), 150gdouble cream, 50gliquid glucoseor golden syrup\n",
      "  instructions: Heat the oven to 180C/160C fan/gas 4. Line the base of a deep 23cm springform cake tin with baking parchment.Whiskthe oil, milk, vanilla and egg together in a jug. Combine the flour, bicarb, cocoa and sugar in a bowl using an electric whisk. Add the wet ingredients to the dry, and whisk until smooth and just combined. Pour into the tin and bake for 18-20 mins until risen, firm and a skewer inserted into the middle comes out clean. Cool in the tin for 10 mins, then turn out onto a wire rack, top-side down – this will help flatten it if it’s slightly domed. Meanwhile, make the custard. Put all the chocolate in a large heatproof bowl. Warm the 130ml milk and 350ml of the cream in a medium pan over a low heat until steaming. Combine the cornflour and the 1 tbsp milk in a medium bowl until smooth, then whisk in the eggs and sugar. Slowly pour in the warm cream mixture, whisking all the time. Wipe out the pan and return the custard to it. Warm gently, stirring continuously until the custard has thickened and reached 76C. Pour this over the chocolate and leave for a few minutes to melt, then stir until smooth. Stir in the liqueur, if using. Pour the custard into a bowl and cover with a disc of parchment. Cool. Once completely cool, whisk the rest of the cream to soft peaks and fold this into the custard. Clean the cake tin and line with parchment. If the sponge is domed, trim the top with aserrated knife. Put the sponge in the tin, bottom-side up. Spoon over the custard, smooth the surface and chill for 6 hrs to set. For the ganache, put the chocolate in a heatproof bowl. Warm the cream and glucose in a small pan over a low heat until the glucose has melted and the cream is steaming. Pour this over the chocolate. Leave for a few minutes, then stir until smooth. Cool at room temp until thick but still liquid. Pour this over the custard. Level the surface and chill for 2 hrs to set. Decorate with the stars and truffles, sprayed with gold spray.\n",
      "  prep_time: 1 hr\n",
      "  protein: 7g\n",
      "  salt: 0.4g\n",
      "  saturates: 29g\n",
      "  serves: Serves 10 - 12\n",
      "  sugars: 33g\n",
      "  title: Festive chocolate delice\n",
      "\n",
      "[Document(id='428', metadata={'calories': '540', 'carbs': '54g', 'cook_time': '15 mins', 'diet_type': 'Nut-free', 'difficulty': 'Easy', 'fat': '31g', 'fibre': '4g', 'id': '428', 'ingredients': '420gplain flour, 8gsea salt, 60gcaster sugar, 220gunsalted butter(at least 82% fat works best), 20g softened, 20gfresh yeast, or 10g dried yeast, 1egg, beaten, 110mlwhole milk, 16dark chocolate batons', 'instructions': 'Make the dough in astand mixer. Combine the flour, salt, sugar and 20g softened butter. Dissolve the yeast in around 80ml tepid water, around 38C, not too hot or it will kill the yeast. Add 20g of beaten egg and the milk to the stand mixer bowl. Pour in the yeast-water mixture and turn on to a low speed with a dough hook attachment for approximately 5 mins until the dough comes together to form a rough ball. Increase the speed to medium-high and knead for a further 6-10 mins until the dough is smooth. The exact time will depend on your stand mixer. Wrap the dough tightly and rest at room temperature for 10 mins. Unwrap and roll out the dough into a rectangle around 4mm thick, about 40 x 30cm. Wrap the dough rectangle and put in the freezer for 1 hr to rest or in the fridge overnight. Meanwhile, on a sheet of baking parchment, shape the remaining 200g butter into a flat rectangle (about 20 x 30cm) using a rolling pin. It should be around half the length of your dough rectangle, but the same width. Put in the fridge until needed – you want it to be cold but flexible. Take the chilled dough out of the fridge or freezer and lay the butter in the centre. Fold the dough edges in to meet at the centre, covering the butter. Rotate the dough 90 degrees and roll it out to about 40cm in length, keeping the same width. Handle the dough gently and return it to the fridge for 10-20 mins if it starts getting too warm. Repeat the process of folding the edges of the dough into the middle, then fold it over on itself again like a book (this is known as a double turn). Chill for 30 mins. Rotate the dough 90 degrees again. Roll it out long again and fold the edges in to meet in the middle. Chill for a further 30 mins. Roll out the dough to 32 x 30cm and cut 8 rectangles, 8 x 15cm each. Put a chocolate baton on one long edge of each rectangle, fold the dough inwards, then put the second chocolate baton next to the folded dough and roll the dough around the encase the chocolate, with the seams of the dough now facing down. Prove the pain au chocolat at 26-29°C (this is really important as proving at any higher temperature will mean the butter between the layers melts) for around 2-3 hrs, until doubled in size. Heat the oven to 175C/155C fan/gas 4, brush the pain au chocolat with the remaining egg and bake for 15-18 mins until golden brown and cooked through.Best eaten on the day butwill keep in an airtight container for two days.', 'prep_time': '45 mins', 'protein': '8g', 'salt': '1.04g', 'saturates': '19g', 'serves': 'Serves 8', 'sugars': '12g', 'title': 'Pain au chocolat'}, page_content=\"Try your hand at making these popular French breakfast pastries filled with chocolate. They're perfect served with a cup of coffee, or as a mid-morning treat\"), Document(id='671', metadata={'calories': '538', 'carbs': '62g', 'cook_time': '15 mins', 'diet_type': 'Vegetarian', 'difficulty': 'Easy', 'fat': '25g', 'fibre': '3g', 'id': '671', 'ingredients': '4 thick slices ofbrioche, challah or panettone, 2 tbspmarmalade, 40gdark chocolate, broken into pieces, 3eggs, 300mlwhole milk, 1 tspvanilla extract, 1orange, zested, then peeled and sliced, ¼ tspground cinnamon, 2 tbspunsalted butter, 2 tbspmaple syrup, icing sugar, for dusting, yogurtor crème fraîche, to serve', 'instructions': 'Heat the oven to 140C/120C fan/gas 1. Cut a pocket into the side of each thick slice of bread using a small, sharpknife, then spoon in a quarter of the marmalade and poke a quarter of the chocolate into each pocket. Whiskthe eggs, milk, vanilla, orange zest and cinnamon together in a shallow dish. Dip each slice of bread into the egg mixture, making sure both sides are fully coated. Melt ½ tbsp of the butter in a large frying pan over a medium heat. Lay a soaked bread slice in the pan and cook until golden brown and crispy, about 2-3 mins per side. Repeat with the remaining slices. Keep the toasted slices warm in a low oven while cooking the next, adding more butter as needed. Put the orange slices in a pan with the maple syrup and warm through over a low-medium heat until some of their juices are released. Dust the French toast with icing sugar and top with the yogurt, orange slices and warm maple-orange syrup.', 'prep_time': '10 mins', 'protein': '13g', 'salt': '0.9g', 'saturates': '15g', 'serves': 'Serves 4', 'sugars': '33g', 'title': 'Chocolate-orange French toast'}, page_content='Pair chocolate and zesty marmalade with panettone or challah for an indulgent Boxing Day brunch, or an easy dessert. Top with yogurt, orange slices and syrup to serve'), Document(id='343', metadata={'calories': '699', 'carbs': '44g', 'cook_time': '35 mins', 'diet_type': 'Vegetarian', 'difficulty': 'More effort', 'fat': '54g', 'fibre': '3g', 'id': '343', 'ingredients': '75mlsunflower or vegetable oil, 150mlwhole milk, 1 tspvanilla extract, 1 mediumegg, beaten, 100gself-raising flour, ½ tspbicarbonate of soda, 40gcocoa powder, 125glight brown soft sugar, chocolate stars,edible gold spray and chocolate truffles, to decorate, 200gdark chocolate,finely chopped, 150gmilk chocolate,finely chopped, 130mlwhole milk,plus 1 tbsp, 550mldouble cream, 2 tspcornflour, 2 mediumeggs,beaten, 2 tbspcaster or granulated sugar, 1 tbspIrish cream liqueur(optional), For the custard, 200gdark chocolate,finely chopped, 150gmilk chocolate,finely chopped, 130mlwhole milk,plus 1 tbsp, 550mldouble cream, 2 tspcornflour, 2 mediumeggs,beaten, 2 tbspcaster or granulated sugar, 1 tbspIrish cream liqueur(optional), 100gdark chocolate(70% cocoa solids), 150gdouble cream, 50gliquid glucoseor golden syrup, For the ganache, 100gdark chocolate(70% cocoa solids), 150gdouble cream, 50gliquid glucoseor golden syrup', 'instructions': 'Heat the oven to 180C/160C fan/gas 4. Line the base of a deep 23cm springform cake tin with baking parchment.Whiskthe oil, milk, vanilla and egg together in a jug. Combine the flour, bicarb, cocoa and sugar in a bowl using an electric whisk. Add the wet ingredients to the dry, and whisk until smooth and just combined. Pour into the tin and bake for 18-20 mins until risen, firm and a skewer inserted into the middle comes out clean. Cool in the tin for 10 mins, then turn out onto a wire rack, top-side down – this will help flatten it if it’s slightly domed. Meanwhile, make the custard. Put all the chocolate in a large heatproof bowl. Warm the 130ml milk and 350ml of the cream in a medium pan over a low heat until steaming. Combine the cornflour and the 1 tbsp milk in a medium bowl until smooth, then whisk in the eggs and sugar. Slowly pour in the warm cream mixture, whisking all the time. Wipe out the pan and return the custard to it. Warm gently, stirring continuously until the custard has thickened and reached 76C. Pour this over the chocolate and leave for a few minutes to melt, then stir until smooth. Stir in the liqueur, if using. Pour the custard into a bowl and cover with a disc of parchment. Cool. Once completely cool, whisk the rest of the cream to soft peaks and fold this into the custard. Clean the cake tin and line with parchment. If the sponge is domed, trim the top with aserrated knife. Put the sponge in the tin, bottom-side up. Spoon over the custard, smooth the surface and chill for 6 hrs to set. For the ganache, put the chocolate in a heatproof bowl. Warm the cream and glucose in a small pan over a low heat until the glucose has melted and the cream is steaming. Pour this over the chocolate. Leave for a few minutes, then stir until smooth. Cool at room temp until thick but still liquid. Pour this over the custard. Level the surface and chill for 2 hrs to set. Decorate with the stars and truffles, sprayed with gold spray.', 'prep_time': '1 hr', 'protein': '7g', 'salt': '0.4g', 'saturates': '29g', 'serves': 'Serves 10 - 12', 'sugars': '33g', 'title': 'Festive chocolate delice'}, page_content='Impress family and friends at any Christmas gathering with this chocolate sponge topped with a rich custard and layer of glossy chocolate ganache')]\n"
     ]
    }
   ],
   "source": [
    "query = \"Pain au chocolat\"\n",
    "query_res = vectorStore.similarity_search(query, k=3)\n",
    "\n",
    "# Imprimir el metadata estructurado\n",
    "for i, doc in enumerate(query_res):\n",
    "    print(f\"Document {i + 1}:\")\n",
    "    for key, value in doc.metadata.items():\n",
    "        print(f\"  {key}: {value}\")\n",
    "    print()\n",
    "\n",
    "print(query_res)  # Para separar cada documento visualmente\n"
   ]
  },
  {
   "cell_type": "markdown",
   "metadata": {},
   "source": [
    "## 05 Llm completion"
   ]
  },
  {
   "cell_type": "code",
   "execution_count": 30,
   "metadata": {},
   "outputs": [
    {
     "name": "stdout",
     "output_type": "stream",
     "text": [
      "context ['Title: Pain au chocolat\\nDescription: N/A\\nPreparation Time: N/A\\nCooking Time: 15 mins\\nDifficulty: Easy\\nServes: Serves 8\\nDiet Type: Nut-free\\nNutrition Facts: 540 | 54g kcal | fat 31g | protein 8g | fibre 4g\\nIngredients: 420gplain flour, 8gsea salt, 60gcaster sugar, 220gunsalted butter(at least 82% fat works best), 20g softened, 20gfresh yeast, or 10g dried yeast, 1egg, beaten, 110mlwhole milk, 16dark chocolate batons\\nInstructions: Make the dough in astand mixer. Combine the flour, salt, sugar and 20g softened butter. Dissolve the yeast in around 80ml tepid water, around 38C, not too hot or it will kill the yeast. Add 20g of beaten egg and the milk to the stand mixer bowl. Pour in the yeast-water mixture and turn on to a low speed with a dough hook attachment for approximately 5 mins until the dough comes together to form a rough ball. Increase the speed to medium-high and knead for a further 6-10 mins until the dough is smooth. The exact time will depend on your stand mixer. Wrap the dough tightly and rest at room temperature for 10 mins. Unwrap and roll out the dough into a rectangle around 4mm thick, about 40 x 30cm. Wrap the dough rectangle and put in the freezer for 1 hr to rest or in the fridge overnight. Meanwhile, on a sheet of baking parchment, shape the remaining 200g butter into a flat rectangle (about 20 x 30cm) using a rolling pin. It should be around half the length of your dough rectangle, but the same width. Put in the fridge until needed – you want it to be cold but flexible. Take the chilled dough out of the fridge or freezer and lay the butter in the centre. Fold the dough edges in to meet at the centre, covering the butter. Rotate the dough 90 degrees and roll it out to about 40cm in length, keeping the same width. Handle the dough gently and return it to the fridge for 10-20 mins if it starts getting too warm. Repeat the process of folding the edges of the dough into the middle, then fold it over on itself again like a book (this is known as a double turn). Chill for 30 mins. Rotate the dough 90 degrees again. Roll it out long again and fold the edges in to meet in the middle. Chill for a further 30 mins. Roll out the dough to 32 x 30cm and cut 8 rectangles, 8 x 15cm each. Put a chocolate baton on one long edge of each rectangle, fold the dough inwards, then put the second chocolate baton next to the folded dough and roll the dough around the encase the chocolate, with the seams of the dough now facing down. Prove the pain au chocolat at 26-29°C (this is really important as proving at any higher temperature will mean the butter between the layers melts) for around 2-3 hrs, until doubled in size. Heat the oven to 175C/155C fan/gas 4, brush the pain au chocolat with the remaining egg and bake for 15-18 mins until golden brown and cooked through.Best eaten on the day butwill keep in an airtight container for two days.\\n', 'Title: Chocolate-orange French toast\\nDescription: N/A\\nPreparation Time: N/A\\nCooking Time: 15 mins\\nDifficulty: Easy\\nServes: Serves 4\\nDiet Type: Vegetarian\\nNutrition Facts: 538 | 62g kcal | fat 25g | protein 13g | fibre 3g\\nIngredients: 4 thick slices ofbrioche, challah or panettone, 2 tbspmarmalade, 40gdark chocolate, broken into pieces, 3eggs, 300mlwhole milk, 1 tspvanilla extract, 1orange, zested, then peeled and sliced, ¼ tspground cinnamon, 2 tbspunsalted butter, 2 tbspmaple syrup, icing sugar, for dusting, yogurtor crème fraîche, to serve\\nInstructions: Heat the oven to 140C/120C fan/gas 1. Cut a pocket into the side of each thick slice of bread using a small, sharpknife, then spoon in a quarter of the marmalade and poke a quarter of the chocolate into each pocket. Whiskthe eggs, milk, vanilla, orange zest and cinnamon together in a shallow dish. Dip each slice of bread into the egg mixture, making sure both sides are fully coated. Melt ½ tbsp of the butter in a large frying pan over a medium heat. Lay a soaked bread slice in the pan and cook until golden brown and crispy, about 2-3 mins per side. Repeat with the remaining slices. Keep the toasted slices warm in a low oven while cooking the next, adding more butter as needed. Put the orange slices in a pan with the maple syrup and warm through over a low-medium heat until some of their juices are released. Dust the French toast with icing sugar and top with the yogurt, orange slices and warm maple-orange syrup.\\n', 'Title: Festive chocolate delice\\nDescription: N/A\\nPreparation Time: N/A\\nCooking Time: 35 mins\\nDifficulty: More effort\\nServes: Serves 10 - 12\\nDiet Type: Vegetarian\\nNutrition Facts: 699 | 44g kcal | fat 54g | protein 7g | fibre 3g\\nIngredients: 75mlsunflower or vegetable oil, 150mlwhole milk, 1 tspvanilla extract, 1 mediumegg, beaten, 100gself-raising flour, ½ tspbicarbonate of soda, 40gcocoa powder, 125glight brown soft sugar, chocolate stars,edible gold spray and chocolate truffles, to decorate, 200gdark chocolate,finely chopped, 150gmilk chocolate,finely chopped, 130mlwhole milk,plus 1 tbsp, 550mldouble cream, 2 tspcornflour, 2 mediumeggs,beaten, 2 tbspcaster or granulated sugar, 1 tbspIrish cream liqueur(optional), For the custard, 200gdark chocolate,finely chopped, 150gmilk chocolate,finely chopped, 130mlwhole milk,plus 1 tbsp, 550mldouble cream, 2 tspcornflour, 2 mediumeggs,beaten, 2 tbspcaster or granulated sugar, 1 tbspIrish cream liqueur(optional), 100gdark chocolate(70% cocoa solids), 150gdouble cream, 50gliquid glucoseor golden syrup, For the ganache, 100gdark chocolate(70% cocoa solids), 150gdouble cream, 50gliquid glucoseor golden syrup\\nInstructions: Heat the oven to 180C/160C fan/gas 4. Line the base of a deep 23cm springform cake tin with baking parchment.Whiskthe oil, milk, vanilla and egg together in a jug. Combine the flour, bicarb, cocoa and sugar in a bowl using an electric whisk. Add the wet ingredients to the dry, and whisk until smooth and just combined. Pour into the tin and bake for 18-20 mins until risen, firm and a skewer inserted into the middle comes out clean. Cool in the tin for 10 mins, then turn out onto a wire rack, top-side down – this will help flatten it if it’s slightly domed. Meanwhile, make the custard. Put all the chocolate in a large heatproof bowl. Warm the 130ml milk and 350ml of the cream in a medium pan over a low heat until steaming. Combine the cornflour and the 1 tbsp milk in a medium bowl until smooth, then whisk in the eggs and sugar. Slowly pour in the warm cream mixture, whisking all the time. Wipe out the pan and return the custard to it. Warm gently, stirring continuously until the custard has thickened and reached 76C. Pour this over the chocolate and leave for a few minutes to melt, then stir until smooth. Stir in the liqueur, if using. Pour the custard into a bowl and cover with a disc of parchment. Cool. Once completely cool, whisk the rest of the cream to soft peaks and fold this into the custard. Clean the cake tin and line with parchment. If the sponge is domed, trim the top with aserrated knife. Put the sponge in the tin, bottom-side up. Spoon over the custard, smooth the surface and chill for 6 hrs to set. For the ganache, put the chocolate in a heatproof bowl. Warm the cream and glucose in a small pan over a low heat until the glucose has melted and the cream is steaming. Pour this over the chocolate. Leave for a few minutes, then stir until smooth. Cool at room temp until thick but still liquid. Pour this over the custard. Level the surface and chill for 2 hrs to set. Decorate with the stars and truffles, sprayed with gold spray.\\n']\n",
      "###### prompt \n",
      "    Always add a kind and friendly message according to the context at the beginning of the response.\n",
      "    Then follow this format:\n",
      "    Title: [Title of the Recipe]\n",
      "    Description: [Short Description of the Recipe]\n",
      "    Preparation Time: [Preparation Time]\n",
      "    Cooking Time: [Cooking Time]\n",
      "    Difficulty: [Difficulty Level]\n",
      "    Serves: [Number of Servings]\n",
      "    Diet Type: [Diet Type]\n",
      "    Nutrition: [List of Nutrition Facts]\n",
      "    Ingredients: [List of Ingredients]\n",
      "    Instructions: [Step-by-step Cooking Instructions]\n",
      "\n",
      "    Answer the question based on the context below.\n",
      "\n",
      "Context:\n",
      "\n",
      "    Recipes retrieved from Pinecone:\n",
      "    Title: Pain au chocolat\n",
      "Description: N/A\n",
      "Preparation Time: N/A\n",
      "Cooking Time: 15 mins\n",
      "Difficulty: Easy\n",
      "Serves: Serves 8\n",
      "Diet Type: Nut-free\n",
      "Nutrition Facts: 540 | 54g kcal | fat 31g | protein 8g | fibre 4g\n",
      "Ingredients: 420gplain flour, 8gsea salt, 60gcaster sugar, 220gunsalted butter(at least 82% fat works best), 20g softened, 20gfresh yeast, or 10g dried yeast, 1egg, beaten, 110mlwhole milk, 16dark chocolate batons\n",
      "Instructions: Make the dough in astand mixer. Combine the flour, salt, sugar and 20g softened butter. Dissolve the yeast in around 80ml tepid water, around 38C, not too hot or it will kill the yeast. Add 20g of beaten egg and the milk to the stand mixer bowl. Pour in the yeast-water mixture and turn on to a low speed with a dough hook attachment for approximately 5 mins until the dough comes together to form a rough ball. Increase the speed to medium-high and knead for a further 6-10 mins until the dough is smooth. The exact time will depend on your stand mixer. Wrap the dough tightly and rest at room temperature for 10 mins. Unwrap and roll out the dough into a rectangle around 4mm thick, about 40 x 30cm. Wrap the dough rectangle and put in the freezer for 1 hr to rest or in the fridge overnight. Meanwhile, on a sheet of baking parchment, shape the remaining 200g butter into a flat rectangle (about 20 x 30cm) using a rolling pin. It should be around half the length of your dough rectangle, but the same width. Put in the fridge until needed – you want it to be cold but flexible. Take the chilled dough out of the fridge or freezer and lay the butter in the centre. Fold the dough edges in to meet at the centre, covering the butter. Rotate the dough 90 degrees and roll it out to about 40cm in length, keeping the same width. Handle the dough gently and return it to the fridge for 10-20 mins if it starts getting too warm. Repeat the process of folding the edges of the dough into the middle, then fold it over on itself again like a book (this is known as a double turn). Chill for 30 mins. Rotate the dough 90 degrees again. Roll it out long again and fold the edges in to meet in the middle. Chill for a further 30 mins. Roll out the dough to 32 x 30cm and cut 8 rectangles, 8 x 15cm each. Put a chocolate baton on one long edge of each rectangle, fold the dough inwards, then put the second chocolate baton next to the folded dough and roll the dough around the encase the chocolate, with the seams of the dough now facing down. Prove the pain au chocolat at 26-29°C (this is really important as proving at any higher temperature will mean the butter between the layers melts) for around 2-3 hrs, until doubled in size. Heat the oven to 175C/155C fan/gas 4, brush the pain au chocolat with the remaining egg and bake for 15-18 mins until golden brown and cooked through.Best eaten on the day butwill keep in an airtight container for two days.\n",
      "\n",
      "\n",
      "---\n",
      "\n",
      "Title: Chocolate-orange French toast\n",
      "Description: N/A\n",
      "Preparation Time: N/A\n",
      "Cooking Time: 15 mins\n",
      "Difficulty: Easy\n",
      "Serves: Serves 4\n",
      "Diet Type: Vegetarian\n",
      "Nutrition Facts: 538 | 62g kcal | fat 25g | protein 13g | fibre 3g\n",
      "Ingredients: 4 thick slices ofbrioche, challah or panettone, 2 tbspmarmalade, 40gdark chocolate, broken into pieces, 3eggs, 300mlwhole milk, 1 tspvanilla extract, 1orange, zested, then peeled and sliced, ¼ tspground cinnamon, 2 tbspunsalted butter, 2 tbspmaple syrup, icing sugar, for dusting, yogurtor crème fraîche, to serve\n",
      "Instructions: Heat the oven to 140C/120C fan/gas 1. Cut a pocket into the side of each thick slice of bread using a small, sharpknife, then spoon in a quarter of the marmalade and poke a quarter of the chocolate into each pocket. Whiskthe eggs, milk, vanilla, orange zest and cinnamon together in a shallow dish. Dip each slice of bread into the egg mixture, making sure both sides are fully coated. Melt ½ tbsp of the butter in a large frying pan over a medium heat. Lay a soaked bread slice in the pan and cook until golden brown and crispy, about 2-3 mins per side. Repeat with the remaining slices. Keep the toasted slices warm in a low oven while cooking the next, adding more butter as needed. Put the orange slices in a pan with the maple syrup and warm through over a low-medium heat until some of their juices are released. Dust the French toast with icing sugar and top with the yogurt, orange slices and warm maple-orange syrup.\n",
      "\n",
      "\n",
      "---\n",
      "\n",
      "Title: Festive chocolate delice\n",
      "Description: N/A\n",
      "Preparation Time: N/A\n",
      "Cooking Time: 35 mins\n",
      "Difficulty: More effort\n",
      "Serves: Serves 10 - 12\n",
      "Diet Type: Vegetarian\n",
      "Nutrition Facts: 699 | 44g kcal | fat 54g | protein 7g | fibre 3g\n",
      "Ingredients: 75mlsunflower or vegetable oil, 150mlwhole milk, 1 tspvanilla extract, 1 mediumegg, beaten, 100gself-raising flour, ½ tspbicarbonate of soda, 40gcocoa powder, 125glight brown soft sugar, chocolate stars,edible gold spray and chocolate truffles, to decorate, 200gdark chocolate,finely chopped, 150gmilk chocolate,finely chopped, 130mlwhole milk,plus 1 tbsp, 550mldouble cream, 2 tspcornflour, 2 mediumeggs,beaten, 2 tbspcaster or granulated sugar, 1 tbspIrish cream liqueur(optional), For the custard, 200gdark chocolate,finely chopped, 150gmilk chocolate,finely chopped, 130mlwhole milk,plus 1 tbsp, 550mldouble cream, 2 tspcornflour, 2 mediumeggs,beaten, 2 tbspcaster or granulated sugar, 1 tbspIrish cream liqueur(optional), 100gdark chocolate(70% cocoa solids), 150gdouble cream, 50gliquid glucoseor golden syrup, For the ganache, 100gdark chocolate(70% cocoa solids), 150gdouble cream, 50gliquid glucoseor golden syrup\n",
      "Instructions: Heat the oven to 180C/160C fan/gas 4. Line the base of a deep 23cm springform cake tin with baking parchment.Whiskthe oil, milk, vanilla and egg together in a jug. Combine the flour, bicarb, cocoa and sugar in a bowl using an electric whisk. Add the wet ingredients to the dry, and whisk until smooth and just combined. Pour into the tin and bake for 18-20 mins until risen, firm and a skewer inserted into the middle comes out clean. Cool in the tin for 10 mins, then turn out onto a wire rack, top-side down – this will help flatten it if it’s slightly domed. Meanwhile, make the custard. Put all the chocolate in a large heatproof bowl. Warm the 130ml milk and 350ml of the cream in a medium pan over a low heat until steaming. Combine the cornflour and the 1 tbsp milk in a medium bowl until smooth, then whisk in the eggs and sugar. Slowly pour in the warm cream mixture, whisking all the time. Wipe out the pan and return the custard to it. Warm gently, stirring continuously until the custard has thickened and reached 76C. Pour this over the chocolate and leave for a few minutes to melt, then stir until smooth. Stir in the liqueur, if using. Pour the custard into a bowl and cover with a disc of parchment. Cool. Once completely cool, whisk the rest of the cream to soft peaks and fold this into the custard. Clean the cake tin and line with parchment. If the sponge is domed, trim the top with aserrated knife. Put the sponge in the tin, bottom-side up. Spoon over the custard, smooth the surface and chill for 6 hrs to set. For the ganache, put the chocolate in a heatproof bowl. Warm the cream and glucose in a small pan over a low heat until the glucose has melted and the cream is steaming. Pour this over the chocolate. Leave for a few minutes, then stir until smooth. Cool at room temp until thick but still liquid. Pour this over the custard. Level the surface and chill for 2 hrs to set. Decorate with the stars and truffles, sprayed with gold spray.\n",
      "\n",
      "\n",
      "-----\n",
      "\n",
      "\n",
      "    If you don't have any general information, just respond with \"I don't know!\"\n",
      "    Make sure to omit any field where you don't have information.\n",
      "\n",
      "Question: Pain au chocolat\n",
      "Answer:\n"
     ]
    },
    {
     "ename": "TypeError",
     "evalue": "Got unknown type role",
     "output_type": "error",
     "traceback": [
      "\u001b[0;31m---------------------------------------------------------------------------\u001b[0m",
      "\u001b[0;31mTypeError\u001b[0m                                 Traceback (most recent call last)",
      "Cell \u001b[0;32mIn[30], line 80\u001b[0m\n\u001b[1;32m     78\u001b[0m query \u001b[38;5;241m=\u001b[39m \u001b[38;5;124m\"\u001b[39m\u001b[38;5;124mPain au chocolat\u001b[39m\u001b[38;5;124m\"\u001b[39m\n\u001b[1;32m     79\u001b[0m retrieved_prompt \u001b[38;5;241m=\u001b[39m retrieve(query)\n\u001b[0;32m---> 80\u001b[0m answer \u001b[38;5;241m=\u001b[39m \u001b[43mcomplete\u001b[49m\u001b[43m(\u001b[49m\u001b[43mretrieved_prompt\u001b[49m\u001b[43m)\u001b[49m\n\u001b[1;32m     81\u001b[0m \u001b[38;5;28mprint\u001b[39m(answer)\n",
      "Cell \u001b[0;32mIn[30], line 73\u001b[0m, in \u001b[0;36mcomplete\u001b[0;34m(prompt)\u001b[0m\n\u001b[1;32m     67\u001b[0m messages \u001b[38;5;241m=\u001b[39m [\n\u001b[1;32m     68\u001b[0m     {\u001b[38;5;124m\"\u001b[39m\u001b[38;5;124mrole\u001b[39m\u001b[38;5;124m\"\u001b[39m: \u001b[38;5;124m\"\u001b[39m\u001b[38;5;124msystem\u001b[39m\u001b[38;5;124m\"\u001b[39m, \u001b[38;5;124m\"\u001b[39m\u001b[38;5;124mcontent\u001b[39m\u001b[38;5;124m\"\u001b[39m: \u001b[38;5;124m\"\u001b[39m\u001b[38;5;124mYou are a helpful assistant that always answers questions about recipes.\u001b[39m\u001b[38;5;124m\"\u001b[39m},\n\u001b[1;32m     69\u001b[0m     {\u001b[38;5;124m\"\u001b[39m\u001b[38;5;124mrole\u001b[39m\u001b[38;5;124m\"\u001b[39m: \u001b[38;5;124m\"\u001b[39m\u001b[38;5;124muser\u001b[39m\u001b[38;5;124m\"\u001b[39m, \u001b[38;5;124m\"\u001b[39m\u001b[38;5;124mcontent\u001b[39m\u001b[38;5;124m\"\u001b[39m: prompt}\n\u001b[1;32m     70\u001b[0m ]\n\u001b[1;32m     72\u001b[0m \u001b[38;5;66;03m# Obtener la respuesta del modelo usando el método adecuado\u001b[39;00m\n\u001b[0;32m---> 73\u001b[0m response \u001b[38;5;241m=\u001b[39m \u001b[43mchat_model\u001b[49m\u001b[38;5;241;43m.\u001b[39;49m\u001b[43mgenerate\u001b[49m\u001b[43m(\u001b[49m\u001b[43mmessages\u001b[49m\u001b[38;5;241;43m=\u001b[39;49m\u001b[43mmessages\u001b[49m\u001b[43m)\u001b[49m\n\u001b[1;32m     75\u001b[0m \u001b[38;5;28;01mreturn\u001b[39;00m response\u001b[38;5;241m.\u001b[39mgenerations[\u001b[38;5;241m0\u001b[39m]\u001b[38;5;241m.\u001b[39mtext\u001b[38;5;241m.\u001b[39mstrip()\n",
      "File \u001b[0;32m~/recipes_rag/.venv/lib/python3.12/site-packages/langchain_core/language_models/chat_models.py:634\u001b[0m, in \u001b[0;36mBaseChatModel.generate\u001b[0;34m(self, messages, stop, callbacks, tags, metadata, run_name, run_id, **kwargs)\u001b[0m\n\u001b[1;32m    632\u001b[0m         \u001b[38;5;28;01mif\u001b[39;00m run_managers:\n\u001b[1;32m    633\u001b[0m             run_managers[i]\u001b[38;5;241m.\u001b[39mon_llm_error(e, response\u001b[38;5;241m=\u001b[39mLLMResult(generations\u001b[38;5;241m=\u001b[39m[]))\n\u001b[0;32m--> 634\u001b[0m         \u001b[38;5;28;01mraise\u001b[39;00m e\n\u001b[1;32m    635\u001b[0m flattened_outputs \u001b[38;5;241m=\u001b[39m [\n\u001b[1;32m    636\u001b[0m     LLMResult(generations\u001b[38;5;241m=\u001b[39m[res\u001b[38;5;241m.\u001b[39mgenerations], llm_output\u001b[38;5;241m=\u001b[39mres\u001b[38;5;241m.\u001b[39mllm_output)  \u001b[38;5;66;03m# type: ignore[list-item]\u001b[39;00m\n\u001b[1;32m    637\u001b[0m     \u001b[38;5;28;01mfor\u001b[39;00m res \u001b[38;5;129;01min\u001b[39;00m results\n\u001b[1;32m    638\u001b[0m ]\n\u001b[1;32m    639\u001b[0m llm_output \u001b[38;5;241m=\u001b[39m \u001b[38;5;28mself\u001b[39m\u001b[38;5;241m.\u001b[39m_combine_llm_outputs([res\u001b[38;5;241m.\u001b[39mllm_output \u001b[38;5;28;01mfor\u001b[39;00m res \u001b[38;5;129;01min\u001b[39;00m results])\n",
      "File \u001b[0;32m~/recipes_rag/.venv/lib/python3.12/site-packages/langchain_core/language_models/chat_models.py:624\u001b[0m, in \u001b[0;36mBaseChatModel.generate\u001b[0;34m(self, messages, stop, callbacks, tags, metadata, run_name, run_id, **kwargs)\u001b[0m\n\u001b[1;32m    621\u001b[0m \u001b[38;5;28;01mfor\u001b[39;00m i, m \u001b[38;5;129;01min\u001b[39;00m \u001b[38;5;28menumerate\u001b[39m(messages):\n\u001b[1;32m    622\u001b[0m     \u001b[38;5;28;01mtry\u001b[39;00m:\n\u001b[1;32m    623\u001b[0m         results\u001b[38;5;241m.\u001b[39mappend(\n\u001b[0;32m--> 624\u001b[0m             \u001b[38;5;28;43mself\u001b[39;49m\u001b[38;5;241;43m.\u001b[39;49m\u001b[43m_generate_with_cache\u001b[49m\u001b[43m(\u001b[49m\n\u001b[1;32m    625\u001b[0m \u001b[43m                \u001b[49m\u001b[43mm\u001b[49m\u001b[43m,\u001b[49m\n\u001b[1;32m    626\u001b[0m \u001b[43m                \u001b[49m\u001b[43mstop\u001b[49m\u001b[38;5;241;43m=\u001b[39;49m\u001b[43mstop\u001b[49m\u001b[43m,\u001b[49m\n\u001b[1;32m    627\u001b[0m \u001b[43m                \u001b[49m\u001b[43mrun_manager\u001b[49m\u001b[38;5;241;43m=\u001b[39;49m\u001b[43mrun_managers\u001b[49m\u001b[43m[\u001b[49m\u001b[43mi\u001b[49m\u001b[43m]\u001b[49m\u001b[43m \u001b[49m\u001b[38;5;28;43;01mif\u001b[39;49;00m\u001b[43m \u001b[49m\u001b[43mrun_managers\u001b[49m\u001b[43m \u001b[49m\u001b[38;5;28;43;01melse\u001b[39;49;00m\u001b[43m \u001b[49m\u001b[38;5;28;43;01mNone\u001b[39;49;00m\u001b[43m,\u001b[49m\n\u001b[1;32m    628\u001b[0m \u001b[43m                \u001b[49m\u001b[38;5;241;43m*\u001b[39;49m\u001b[38;5;241;43m*\u001b[39;49m\u001b[43mkwargs\u001b[49m\u001b[43m,\u001b[49m\n\u001b[1;32m    629\u001b[0m \u001b[43m            \u001b[49m\u001b[43m)\u001b[49m\n\u001b[1;32m    630\u001b[0m         )\n\u001b[1;32m    631\u001b[0m     \u001b[38;5;28;01mexcept\u001b[39;00m \u001b[38;5;167;01mBaseException\u001b[39;00m \u001b[38;5;28;01mas\u001b[39;00m e:\n\u001b[1;32m    632\u001b[0m         \u001b[38;5;28;01mif\u001b[39;00m run_managers:\n",
      "File \u001b[0;32m~/recipes_rag/.venv/lib/python3.12/site-packages/langchain_core/language_models/chat_models.py:846\u001b[0m, in \u001b[0;36mBaseChatModel._generate_with_cache\u001b[0;34m(self, messages, stop, run_manager, **kwargs)\u001b[0m\n\u001b[1;32m    844\u001b[0m \u001b[38;5;28;01melse\u001b[39;00m:\n\u001b[1;32m    845\u001b[0m     \u001b[38;5;28;01mif\u001b[39;00m inspect\u001b[38;5;241m.\u001b[39msignature(\u001b[38;5;28mself\u001b[39m\u001b[38;5;241m.\u001b[39m_generate)\u001b[38;5;241m.\u001b[39mparameters\u001b[38;5;241m.\u001b[39mget(\u001b[38;5;124m\"\u001b[39m\u001b[38;5;124mrun_manager\u001b[39m\u001b[38;5;124m\"\u001b[39m):\n\u001b[0;32m--> 846\u001b[0m         result \u001b[38;5;241m=\u001b[39m \u001b[38;5;28;43mself\u001b[39;49m\u001b[38;5;241;43m.\u001b[39;49m\u001b[43m_generate\u001b[49m\u001b[43m(\u001b[49m\n\u001b[1;32m    847\u001b[0m \u001b[43m            \u001b[49m\u001b[43mmessages\u001b[49m\u001b[43m,\u001b[49m\u001b[43m \u001b[49m\u001b[43mstop\u001b[49m\u001b[38;5;241;43m=\u001b[39;49m\u001b[43mstop\u001b[49m\u001b[43m,\u001b[49m\u001b[43m \u001b[49m\u001b[43mrun_manager\u001b[49m\u001b[38;5;241;43m=\u001b[39;49m\u001b[43mrun_manager\u001b[49m\u001b[43m,\u001b[49m\u001b[43m \u001b[49m\u001b[38;5;241;43m*\u001b[39;49m\u001b[38;5;241;43m*\u001b[39;49m\u001b[43mkwargs\u001b[49m\n\u001b[1;32m    848\u001b[0m \u001b[43m        \u001b[49m\u001b[43m)\u001b[49m\n\u001b[1;32m    849\u001b[0m     \u001b[38;5;28;01melse\u001b[39;00m:\n\u001b[1;32m    850\u001b[0m         result \u001b[38;5;241m=\u001b[39m \u001b[38;5;28mself\u001b[39m\u001b[38;5;241m.\u001b[39m_generate(messages, stop\u001b[38;5;241m=\u001b[39mstop, \u001b[38;5;241m*\u001b[39m\u001b[38;5;241m*\u001b[39mkwargs)\n",
      "File \u001b[0;32m~/recipes_rag/.venv/lib/python3.12/site-packages/langchain_community/chat_models/openai.py:437\u001b[0m, in \u001b[0;36mChatOpenAI._generate\u001b[0;34m(self, messages, stop, run_manager, stream, **kwargs)\u001b[0m\n\u001b[1;32m    433\u001b[0m     stream_iter \u001b[38;5;241m=\u001b[39m \u001b[38;5;28mself\u001b[39m\u001b[38;5;241m.\u001b[39m_stream(\n\u001b[1;32m    434\u001b[0m         messages, stop\u001b[38;5;241m=\u001b[39mstop, run_manager\u001b[38;5;241m=\u001b[39mrun_manager, \u001b[38;5;241m*\u001b[39m\u001b[38;5;241m*\u001b[39mkwargs\n\u001b[1;32m    435\u001b[0m     )\n\u001b[1;32m    436\u001b[0m     \u001b[38;5;28;01mreturn\u001b[39;00m generate_from_stream(stream_iter)\n\u001b[0;32m--> 437\u001b[0m message_dicts, params \u001b[38;5;241m=\u001b[39m \u001b[38;5;28;43mself\u001b[39;49m\u001b[38;5;241;43m.\u001b[39;49m\u001b[43m_create_message_dicts\u001b[49m\u001b[43m(\u001b[49m\u001b[43mmessages\u001b[49m\u001b[43m,\u001b[49m\u001b[43m \u001b[49m\u001b[43mstop\u001b[49m\u001b[43m)\u001b[49m\n\u001b[1;32m    438\u001b[0m params \u001b[38;5;241m=\u001b[39m {\n\u001b[1;32m    439\u001b[0m     \u001b[38;5;241m*\u001b[39m\u001b[38;5;241m*\u001b[39mparams,\n\u001b[1;32m    440\u001b[0m     \u001b[38;5;241m*\u001b[39m\u001b[38;5;241m*\u001b[39m({\u001b[38;5;124m\"\u001b[39m\u001b[38;5;124mstream\u001b[39m\u001b[38;5;124m\"\u001b[39m: stream} \u001b[38;5;28;01mif\u001b[39;00m stream \u001b[38;5;129;01mis\u001b[39;00m \u001b[38;5;129;01mnot\u001b[39;00m \u001b[38;5;28;01mNone\u001b[39;00m \u001b[38;5;28;01melse\u001b[39;00m {}),\n\u001b[1;32m    441\u001b[0m     \u001b[38;5;241m*\u001b[39m\u001b[38;5;241m*\u001b[39mkwargs,\n\u001b[1;32m    442\u001b[0m }\n\u001b[1;32m    443\u001b[0m response \u001b[38;5;241m=\u001b[39m \u001b[38;5;28mself\u001b[39m\u001b[38;5;241m.\u001b[39mcompletion_with_retry(\n\u001b[1;32m    444\u001b[0m     messages\u001b[38;5;241m=\u001b[39mmessage_dicts, run_manager\u001b[38;5;241m=\u001b[39mrun_manager, \u001b[38;5;241m*\u001b[39m\u001b[38;5;241m*\u001b[39mparams\n\u001b[1;32m    445\u001b[0m )\n",
      "File \u001b[0;32m~/recipes_rag/.venv/lib/python3.12/site-packages/langchain_community/chat_models/openai.py:456\u001b[0m, in \u001b[0;36mChatOpenAI._create_message_dicts\u001b[0;34m(self, messages, stop)\u001b[0m\n\u001b[1;32m    454\u001b[0m         \u001b[38;5;28;01mraise\u001b[39;00m \u001b[38;5;167;01mValueError\u001b[39;00m(\u001b[38;5;124m\"\u001b[39m\u001b[38;5;124m`stop` found in both the input and default params.\u001b[39m\u001b[38;5;124m\"\u001b[39m)\n\u001b[1;32m    455\u001b[0m     params[\u001b[38;5;124m\"\u001b[39m\u001b[38;5;124mstop\u001b[39m\u001b[38;5;124m\"\u001b[39m] \u001b[38;5;241m=\u001b[39m stop\n\u001b[0;32m--> 456\u001b[0m message_dicts \u001b[38;5;241m=\u001b[39m [\u001b[43mconvert_message_to_dict\u001b[49m\u001b[43m(\u001b[49m\u001b[43mm\u001b[49m\u001b[43m)\u001b[49m \u001b[38;5;28;01mfor\u001b[39;00m m \u001b[38;5;129;01min\u001b[39;00m messages]\n\u001b[1;32m    457\u001b[0m \u001b[38;5;28;01mreturn\u001b[39;00m message_dicts, params\n",
      "File \u001b[0;32m~/recipes_rag/.venv/lib/python3.12/site-packages/langchain_community/adapters/openai.py:153\u001b[0m, in \u001b[0;36mconvert_message_to_dict\u001b[0;34m(message)\u001b[0m\n\u001b[1;32m    147\u001b[0m     message_dict \u001b[38;5;241m=\u001b[39m {\n\u001b[1;32m    148\u001b[0m         \u001b[38;5;124m\"\u001b[39m\u001b[38;5;124mrole\u001b[39m\u001b[38;5;124m\"\u001b[39m: \u001b[38;5;124m\"\u001b[39m\u001b[38;5;124mtool\u001b[39m\u001b[38;5;124m\"\u001b[39m,\n\u001b[1;32m    149\u001b[0m         \u001b[38;5;124m\"\u001b[39m\u001b[38;5;124mcontent\u001b[39m\u001b[38;5;124m\"\u001b[39m: message\u001b[38;5;241m.\u001b[39mcontent,\n\u001b[1;32m    150\u001b[0m         \u001b[38;5;124m\"\u001b[39m\u001b[38;5;124mtool_call_id\u001b[39m\u001b[38;5;124m\"\u001b[39m: message\u001b[38;5;241m.\u001b[39mtool_call_id,\n\u001b[1;32m    151\u001b[0m     }\n\u001b[1;32m    152\u001b[0m \u001b[38;5;28;01melse\u001b[39;00m:\n\u001b[0;32m--> 153\u001b[0m     \u001b[38;5;28;01mraise\u001b[39;00m \u001b[38;5;167;01mTypeError\u001b[39;00m(\u001b[38;5;124mf\u001b[39m\u001b[38;5;124m\"\u001b[39m\u001b[38;5;124mGot unknown type \u001b[39m\u001b[38;5;132;01m{\u001b[39;00mmessage\u001b[38;5;132;01m}\u001b[39;00m\u001b[38;5;124m\"\u001b[39m)\n\u001b[1;32m    154\u001b[0m \u001b[38;5;28;01mif\u001b[39;00m \u001b[38;5;124m\"\u001b[39m\u001b[38;5;124mname\u001b[39m\u001b[38;5;124m\"\u001b[39m \u001b[38;5;129;01min\u001b[39;00m message\u001b[38;5;241m.\u001b[39madditional_kwargs:\n\u001b[1;32m    155\u001b[0m     message_dict[\u001b[38;5;124m\"\u001b[39m\u001b[38;5;124mname\u001b[39m\u001b[38;5;124m\"\u001b[39m] \u001b[38;5;241m=\u001b[39m message\u001b[38;5;241m.\u001b[39madditional_kwargs[\u001b[38;5;124m\"\u001b[39m\u001b[38;5;124mname\u001b[39m\u001b[38;5;124m\"\u001b[39m]\n",
      "\u001b[0;31mTypeError\u001b[0m: Got unknown type role"
     ]
    }
   ],
   "source": [
    "from langchain.prompts import PromptTemplate\n",
    "from langchain.chains import RetrievalQA\n",
    "from langchain.chat_models import ChatOpenAI\n",
    "from langchain.schema import HumanMessage, SystemMessage\n",
    "import pinecone\n",
    "from langchain_core.prompts import ChatPromptTemplate\n",
    "\n",
    "# Define la función de recuperación\n",
    "def retrieve(query):\n",
    "    # Recuperar contextos relevantes desde Pinecone\n",
    "    query_res = vectorStore.similarity_search(query, k=3)\n",
    "    contexts = []\n",
    "    for i, doc in enumerate(query_res):\n",
    "        # Convierte el diccionario de metadatos en una cadena de texto formateada\n",
    "        metadata = doc.metadata\n",
    "        formatted_context = (\n",
    "            f\"Title: {metadata.get('title', 'N/A')}\\n\"\n",
    "            f\"Description: {metadata.get('description', 'N/A')}\\n\"\n",
    "            f\"Preparation Time: {metadata.get('preparation Time', 'N/A')}\\n\"\n",
    "            f\"Cooking Time: {metadata.get('cook_time', 'N/A')}\\n\"\n",
    "            f\"Difficulty: {metadata.get('difficulty', 'N/A')}\\n\"\n",
    "            f\"Serves: {metadata.get('serves', 'N/A')}\\n\"\n",
    "            f\"Diet Type: {metadata.get('diet_type', 'N/A')}\\n\"\n",
    "            f\"Nutrition Facts: {metadata.get('calories', 'N/A')} | {metadata.get('carbs', 'N/A')} kcal | fat {metadata.get('fat', 'N/A')} | protein {metadata.get('protein', 'N/A')} | fibre {metadata.get('fibre', 'N/A')}\\n\"\n",
    "            f\"Ingredients: {metadata.get('ingredients', 'N/A')}\\n\"\n",
    "            f\"Instructions: {metadata.get('instructions', 'N/A')}\\n\"\n",
    "        )\n",
    "        contexts.append(formatted_context)\n",
    "    \n",
    "    print(\"context\", contexts)\n",
    "    prompt_contexts = \"\\n\\n---\\n\\n\".join(contexts) + \"\\n\\n-----\\n\\n\"\n",
    "        # Construir el prompt con los contextos recuperados\n",
    "    prompt_start = f\"\"\"\n",
    "    Always add a kind and friendly message according to the context at the beginning of the response.\n",
    "    Then follow this format:\n",
    "    Title: [Title of the Recipe]\n",
    "    Description: [Short Description of the Recipe]\n",
    "    Preparation Time: [Preparation Time]\n",
    "    Cooking Time: [Cooking Time]\n",
    "    Difficulty: [Difficulty Level]\n",
    "    Serves: [Number of Servings]\n",
    "    Diet Type: [Diet Type]\n",
    "    Nutrition: [List of Nutrition Facts]\n",
    "    Ingredients: [List of Ingredients]\n",
    "    Instructions: [Step-by-step Cooking Instructions]\n",
    "\n",
    "    Answer the question based on the context below.\\n\\nContext:\\n\n",
    "    Recipes retrieved from Pinecone:\n",
    "    {prompt_contexts}\n",
    "    If you don't have any general information, just respond with \"I don't know!\"\n",
    "    Make sure to omit any field where you don't have information.\"\"\"\n",
    "\n",
    "    if not contexts:\n",
    "        return \"No contexts retrieved. Try to answer the question yourself!\"\n",
    "\n",
    "    prompt_end = f\"\\n\\nQuestion: {query}\\nAnswer:\"\n",
    "    prompt = prompt_start + prompt_end\n",
    "\n",
    "    print(\"###### prompt\", prompt)\n",
    "    return prompt\n",
    "\n",
    "# Define la función de completar\n",
    "def complete(prompt):\n",
    "    # Inicializa el modelo OpenAI usando LangChain\n",
    "    chat_model = ChatOpenAI(model='gpt-4o-mini', temperature=0)\n",
    "\n",
    "    # Crear el formato de mensajes adecuado usando las clases SystemMessage y HumanMessage\n",
    "    messages = [\n",
    "        {\"role\": \"system\", \"content\": \"You are a helpful assistant that always answers questions about recipes.\"},\n",
    "        {\"role\": \"user\", \"content\": prompt}\n",
    "    ]\n",
    "\n",
    "    prompt = ChatPromptTemplate.from_messages(\n",
    "    [\n",
    "        (\"system\", system_prompt),\n",
    "        (\"human\", \"{input}\"),\n",
    "    ]\n",
    ")\n",
    "\n",
    "    # Obtener la respuesta del modelo usando el método adecuado\n",
    "    response = chat_model.generate(messages=messages)\n",
    "    \n",
    "    return response.generations[0].text.strip()\n",
    "\n",
    "# Ejemplo de uso\n",
    "query = \"Pain au chocolat\"\n",
    "retrieved_prompt = retrieve(query)\n",
    "answer = complete(retrieved_prompt)\n",
    "print(answer)\n"
   ]
  },
  {
   "cell_type": "code",
   "execution_count": null,
   "metadata": {},
   "outputs": [],
   "source": []
  }
 ],
 "metadata": {
  "kernelspec": {
   "display_name": "venv_recipes",
   "language": "python",
   "name": "venv_recipes"
  },
  "language_info": {
   "codemirror_mode": {
    "name": "ipython",
    "version": 3
   },
   "file_extension": ".py",
   "mimetype": "text/x-python",
   "name": "python",
   "nbconvert_exporter": "python",
   "pygments_lexer": "ipython3",
   "version": "3.12.6"
  }
 },
 "nbformat": 4,
 "nbformat_minor": 2
}
