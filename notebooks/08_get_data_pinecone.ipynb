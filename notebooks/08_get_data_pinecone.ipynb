{
 "cells": [
  {
   "cell_type": "code",
   "execution_count": 1,
   "metadata": {},
   "outputs": [],
   "source": [
    "%load_ext autoreload\n",
    "%autoreload 2\n",
    "%load_ext dotenv\n",
    "%dotenv"
   ]
  },
  {
   "cell_type": "code",
   "execution_count": 2,
   "metadata": {},
   "outputs": [
    {
     "name": "stderr",
     "output_type": "stream",
     "text": [
      "/home/acrisvall/recipes_rag/.venv/lib/python3.12/site-packages/pinecone/data/index.py:1: TqdmWarning: IProgress not found. Please update jupyter and ipywidgets. See https://ipywidgets.readthedocs.io/en/stable/user_install.html\n",
      "  from tqdm.autonotebook import tqdm\n"
     ]
    }
   ],
   "source": [
    "import os\n",
    "from pinecone import Pinecone as pcn\n",
    "from langchain_openai import OpenAIEmbeddings\n",
    "from langchain_pinecone import PineconeVectorStore\n",
    "from IPython.display import Markdown\n",
    "import gradio as gr\n",
    "from langchain_core.prompts import ChatPromptTemplate\n",
    "from langchain.chains.combine_documents import create_stuff_documents_chain\n",
    "from langchain.chains import create_retrieval_chain\n",
    "from langchain_openai import ChatOpenAI "
   ]
  },
  {
   "cell_type": "markdown",
   "metadata": {},
   "source": [
    "### 01 Get API Keys"
   ]
  },
  {
   "cell_type": "code",
   "execution_count": 3,
   "metadata": {},
   "outputs": [],
   "source": [
    "api_key = os.environ.get(\"PINECONE_API_KEY\")\n",
    "openai_api_key = os.getenv('OPENAI_API_KEY')"
   ]
  },
  {
   "cell_type": "code",
   "execution_count": 4,
   "metadata": {},
   "outputs": [
    {
     "data": {
      "text/plain": [
       "{'dimension': 1536,\n",
       " 'index_fullness': 0.0,\n",
       " 'namespaces': {'': {'vector_count': 1106}},\n",
       " 'total_vector_count': 1106}"
      ]
     },
     "execution_count": 4,
     "metadata": {},
     "output_type": "execute_result"
    }
   ],
   "source": [
    "# configure client\n",
    "pc = pcn(api_key=api_key)\n",
    "index_name = 'recipes-index'\n",
    "index = pc.Index(index_name)\n",
    "index.describe_index_stats()"
   ]
  },
  {
   "cell_type": "markdown",
   "metadata": {},
   "source": [
    "### 02 Set Embedding Model"
   ]
  },
  {
   "cell_type": "code",
   "execution_count": 5,
   "metadata": {},
   "outputs": [],
   "source": [
    "embed_model = \"text-embedding-3-small\"\n",
    "embed = OpenAIEmbeddings(model=embed_model)"
   ]
  },
  {
   "cell_type": "code",
   "execution_count": 6,
   "metadata": {},
   "outputs": [],
   "source": [
    "text_field = \"description\"\n",
    "\n",
    "vectorStore = PineconeVectorStore(\n",
    "  index, embed, text_field\n",
    ")"
   ]
  },
  {
   "cell_type": "code",
   "execution_count": 22,
   "metadata": {},
   "outputs": [],
   "source": [
    "def get_recipe(query):# completion llm  \n",
    "    llm = ChatOpenAI(  \n",
    "        model_name='gpt-4o-mini',  \n",
    "        temperature=0.0  \n",
    "    ) \n",
    "\n",
    "    retriever = vectorStore.as_retriever(search_type=\"similarity\", k=3)\n",
    "    # 2. Incorporate the retriever into a question-answering chain.\n",
    "    system_prompt = (\n",
    "    \"\"\"\n",
    "        Always add a kind and friendly message according to the context at the beginning of the response.\n",
    "        Take the information from context[0][\"metadata\"]\n",
    "        Then follow this format\n",
    "        Title: [Title of the Recipe]\n",
    "        Description: [Short Description of the Recipe]\n",
    "        Preparation Time: [Preparation Time]\n",
    "        Cooking Time: [Cooking Time]\n",
    "        Difficulty: [Difficulty Level]\n",
    "        Serves: [Number of Servings]\n",
    "        Diet Type: [Diet Type]\n",
    "        Nutrition: calories context[0][\"metadata\"][\"calories\"] | fat context[0][\"metadata\"][\"fat\"] | protein context[0][\"metadata\"][\"protein\"] | fiber context[0][\"metadata\"][\"fibre\"]\n",
    "        Ingredients: [List of Ingredients]\n",
    "        Instructions: [Step-by-step Cooking Instructions]\n",
    "\n",
    "        If you don't have any general information, just respond with \"I don't know!\"\n",
    "\n",
    "        {context}\n",
    "        {{metadata}}\n",
    "        \"\"\"\n",
    "    )\n",
    "\n",
    "    prompt = ChatPromptTemplate.from_messages(\n",
    "        [\n",
    "            (\"system\", system_prompt),\n",
    "            (\"human\", \"{input}\"),\n",
    "        ]\n",
    "    )\n",
    "\n",
    "    question_answer_chain = create_stuff_documents_chain(llm, prompt)\n",
    "    rag_chain = create_retrieval_chain(retriever, question_answer_chain)\n",
    "\n",
    "    response = rag_chain.invoke({\"input\": query})\n",
    "    return response[\"answer\"]"
   ]
  },
  {
   "cell_type": "markdown",
   "metadata": {},
   "source": [
    "## Gradio App"
   ]
  },
  {
   "cell_type": "code",
   "execution_count": 23,
   "metadata": {},
   "outputs": [
    {
     "name": "stdout",
     "output_type": "stream",
     "text": [
      "Running on local URL:  http://127.0.0.1:7869\n",
      "\n",
      "To create a public link, set `share=True` in `launch()`.\n"
     ]
    },
    {
     "data": {
      "text/html": [
       "<div><iframe src=\"http://127.0.0.1:7869/\" width=\"100%\" height=\"500\" allow=\"autoplay; camera; microphone; clipboard-read; clipboard-write;\" frameborder=\"0\" allowfullscreen></iframe></div>"
      ],
      "text/plain": [
       "<IPython.core.display.HTML object>"
      ]
     },
     "metadata": {},
     "output_type": "display_data"
    },
    {
     "data": {
      "text/plain": []
     },
     "execution_count": 23,
     "metadata": {},
     "output_type": "execute_result"
    },
    {
     "name": "stdout",
     "output_type": "stream",
     "text": [
      "{'input': 'what recipe can i cook with chicken', 'context': [Document(id='107', metadata={'calories': '506', 'carbs': '40g', 'cook_time': '20 mins', 'diet_type': 'Dairy-free', 'difficulty': 'Easy', 'fat': '19g', 'fibre': '4g', 'id': '107', 'ingredients': '320g packchicken mini breast fillets, 2½ tbsplight soy sauce, vegetable oil,for frying, 1red pepper,deseeded and thinly sliced, 1green pepper,deseeded and thinly sliced, 3 tbspcornflour, 3 tbspsweet chilli sauce, 1 tbspgarlic and ginger paste, 1 tbspsesame oil, 2spring onions,trimmed and finely sliced', 'instructions': 'Slice the chicken into thin strips. Pour over 2 tbsp of the soy and marinate in the fridge, covered, for 1 hr. Meanwhile, heat 1 tbsp of the oil in awokor deep frying pan over a medium heat and cook the peppers for 3-4 mins until just beginning to soften. Remove with a slotted spoon and set aside. Spread the cornflour out in a shallow bowl. Season, then add the marinated chicken strips and toss to coat well. Fill a wok or deep frying pan with the oil so it’s about ½cm deep, then heat to medium-high. Carefully add the chicken in batches, cooking for 3-4 mins, using tongs to turn regularly until golden and crispy. Remove with a slotted spoon and place on a plate lined with kitchen paper to drain. Mix together the remaining soy, sweet chilli, garlic paste and sesame oil in a large bowl. Add the cooked peppers, crispy chicken and toss together until coated all over and sticky. Serve sprinkled with the spring onions.', 'prep_time': '10 mins', 'protein': '42g', 'salt': '3.66g', 'saturates': '1g', 'serves': 'Serves 2 as a main, 4 as a sharer', 'sugars': '18g', 'title': 'Crispy shredded chicken'}, page_content='Try this takeaway favourite served with rice, or simply on its own as part of a buffet-style meal. It can work as a main course or starter to share'), Document(id='982', metadata={'calories': '502', 'carbs': '9g', 'cook_time': '40 mins', 'diet_type': 'Egg-free', 'difficulty': 'Easy', 'fat': '30g', 'fibre': '1g', 'id': '982', 'ingredients': '4chicken breasts, skin left on, 2-3 tbspolive or rapeseed oil, 1onion, finely chopped, 3garlic cloves, crushed or finely grated, 1 tbspdried mixed herbs, 1 tbspplain flour, 200mlwhite wine, 250mlchicken stock, 125mldouble cream, choppedparsley, to serve (optional)', 'instructions': 'Season the chicken all over with salt and freshly ground black pepper. Heat 2 tbsp of the oil in a large lidded frying pan over a medium heat and fry the chicken, skin-side down, for 8-10 mins until the skin is golden. Turn the chicken over and cook for 6-8 mins more until golden all over. Remove to a plate and set aside. If the pan is dry, drizzle in another 1 tbsp oil, then reduce the heat to medium-low and fry the onions for 8-10 mins until softened but not golden. Stir in the garlic and cook for 1 min more, then add the herbs and cook for another minute. Stir in the flour, then pour in the wine and simmer for 2-3 mins until the alcohol has evaporated. Stir in the stock until everything is combined, then bring the mixture to a simmer and return the chicken breasts to the pan, skin-side up. Cover and simmer for 15-20 mins until the sauce has thickened slightly and the chicken is cooked through. Stir in the cream, return to a simmer, then remove from the heat and scatter over the parsley, if using.', 'prep_time': '20 mins', 'protein': '39g', 'salt': '0.58g', 'saturates': '12g', 'serves': 'Serves 4', 'sugars': '4g', 'title': 'Chicken in white wine sauce'}, page_content='Serve tender chicken in a creamy wine sauce alongside rice or potatoes and your favourite veg – a perfect midweek meal for the whole family'), Document(id='99', metadata={'calories': '290', 'carbs': '10g', 'cook_time': '40 mins', 'diet_type': 'Freezable', 'difficulty': 'Easy', 'fat': '12g', 'fibre': '4g', 'id': '99', 'ingredients': '1 tspolive oil, 640gboneless and skinless chicken thighs, 1onion, finely chopped, 300mlchicken stock, 2garlic cloves, finely chopped, 1red pepper, deseeded and cut into chunks, 1yellow pepper, deseeded and cut into chunks, 1 tspdried oregano, 1 tsplight brown soft sugar, ½ tspmustard powder, 1 tbspWorcestershire sauce, 3 tbsptomato purée, 330mldiet cola, 2 tbspreduced-salt-and-sugar ketchup, 2spring onions, trimmed and finely sliced', 'instructions': 'Heat the oil in a large non-sticksaucepanover a high heat. Season, then brown the chicken thighs all over for 4-5 mins. Remove with tongs and set aside on a plate. Lower the heat, add the onion to the pan and cook for 8-10 mins until softened, adding a splash of stock if needed to prevent burning. Stir in the garlic and cook for 1 min until fragrant, then add the yellow pepper. Stir in the oregano, brown sugar, mustard, Worcestershire sauce, tomato purée, diet cola, remaining stock and ketchup. Bring to the boil, then reduce the heat, add the chicken back to the pan and simmer for 10 mins, covered, until the chicken is cooked through. Turn the heat up and bubble for 10 mins until the sauce has reduced and thickened slightly. Serve sprinkled with the spring onion over rice or pasta.', 'prep_time': '5 mins', 'protein': '34g', 'salt': '0.64g', 'saturates': '3g', 'serves': 'Serves 4', 'sugars': '9g', 'title': 'Diet cola chicken'}, page_content=\"Use a can of diet cola as a secret ingredient to enhance this chicken casserole. It's an easy and delicious weekday supper, best enjoyed with rice or pasta\"), Document(id='311', metadata={'calories': '507', 'carbs': '18g', 'cook_time': '20 mins', 'diet_type': 'Gluten-free', 'difficulty': 'Easy', 'fat': '31g', 'fibre': '9g', 'id': '311', 'ingredients': '1broccoli(about 400g), 2 tbspleftover chicken fat(from roast chicken), 3leftover roasted garlic cloves, mashed (from the roast chicken recipe below), 2anchovy filletsin oil, drained, 2 x 400g cangreen lentils, drained and rinsed, 300gleftover chicken, shredded (from the roast chicken recipe, below), 1lemon, zested and juiced, 2 tbspextra virgin olive oil, 100gfeta, crumbled, 5gdill, finely chopped', 'instructions': 'Cut the broccoli florets then the stalk into bite-sized pieces and keep separate. Heat theleftover chicken fatin afrying panover a medium-high heat and tip in the broccoli stalks with 100ml water. Bring to a boil and cook for 4 mins. Mix in the florets and cook for a further 3 mins until all the water has evaporated. Mix in theroasted garlicand anchovies and sizzle for 4 mins until the anchovies have dissolved. Tip in the lentils along with thechicken, lemon juice, oil and 3 tbsp water. Cover with a lid and reduce the heat to low. Cook for 5 mins until the chicken is heated through. Serve with the feta, dill and lemon zest scattered over the top.', 'prep_time': '15 mins', 'protein': '35g', 'salt': '2.2g', 'saturates': '10g', 'serves': 'Serves 4', 'sugars': '3g', 'title': 'Lemony chicken lentils'}, page_content='Roast a chicken, then use it in a quick weeknight meal later in the week by adding a can of green lentils, anchovies, feta, broccoli and lemon')], 'answer': 'Hello! Chicken is such a versatile ingredient, and there are countless delicious recipes you can try. Here’s a lovely recipe idea for you:\\n\\nTitle: Creamy Chicken Casserole\\nDescription: A comforting dish featuring tender chicken in a creamy wine sauce, perfect for a midweek meal.\\nPreparation Time: 15 minutes\\nCooking Time: 45 minutes\\nDifficulty: Easy\\nServes: 4\\nDiet Type: Non-Vegetarian\\nNutrition: calories 350 | fat 15g | protein 30g | fiber 2g\\nIngredients:\\n- 4 chicken breasts\\n- 1 can of diet cola\\n- 1 cup of cream\\n- 1 cup of white wine\\n- 1 onion, chopped\\n- 2 cloves of garlic, minced\\n- 1 cup of mushrooms, sliced\\n- Salt and pepper to taste\\n- Fresh parsley for garnish\\n\\nInstructions:\\n1. Preheat your oven to 180°C (350°F).\\n2. In a large skillet, sauté the onion and garlic until translucent.\\n3. Add the mushrooms and cook until softened.\\n4. Season the chicken breasts with salt and pepper, then add them to the skillet, browning on both sides.\\n5. Pour in the diet cola and white wine, bringing the mixture to a simmer.\\n6. Stir in the cream and let it cook for a few minutes until slightly thickened.\\n7. Transfer the mixture to a baking dish and cover with foil.\\n8. Bake in the preheated oven for 30 minutes, or until the chicken is cooked through.\\n9. Garnish with fresh parsley before serving.\\n\\nEnjoy your cooking! This dish pairs wonderfully with rice or potatoes.'}\n",
      "{'input': 'please recommend two recipes with bananas', 'context': [Document(id='1038', metadata={'calories': '715', 'carbs': '68g', 'cook_time': 'No Cook Time', 'diet_type': 'Vegetarian', 'difficulty': 'Easy', 'fat': '44g', 'fibre': '2g', 'id': '1038', 'ingredients': '1banana, 3 scoopsice cream, whipped cream, 2 tbspchocolate sauceor melted chocolate, 3pitted cherries, coloured sprinkles', 'instructions': 'Peel the banana and cut it in half lengthways, then transfer to a shallow serving bowl. Top with the ice cream (we used vanilla, chocolate and strawberry), whipped cream, chocolate sauce or melted chocolate, cherries and colourful sprinkles of your choice. Serve immediately.', 'prep_time': '5 mins', 'protein': '10g', 'salt': '0.3g', 'saturates': '20g', 'serves': 'Serves 1', 'sugars': '50g', 'title': 'Classic banana split'}, page_content='What dessert is more fun than a banana split? Try our classic recipe, or give it a twist with the help of coconut ice cream, PB&J or speculoos biscuits (see twists below)'), Document(id='142', metadata={'calories': '383', 'carbs': '45g', 'cook_time': '1 hr', 'diet_type': 'Vegetarian', 'difficulty': 'Easy', 'fat': '19g', 'fibre': '3g', 'id': '142', 'ingredients': '125gunsalted butter,cut into pieces, plus extra for the tin, 150gdark chocolate,chopped into small chunks, 200ggolden caster sugar, 3eggs, 200gself-raising flour, 50gcocoa powder, 2ripe bananas,peeled and mashed', 'instructions': 'Heat the oven to 180C/160C fan/gas 4. Butter a 900g loaf tin and line the base and sides with baking parchment. Tip 100g of the chopped dark chocolate into a heatproof bowl along with the butter, and melt over a pan of simmering water, ensuring the base of the bowl doesn’t touch the water. Or, do this in themicrowavein 20-second bursts. Set aside to cool slightly. Beat the sugar and eggs together in a separate bowl using an electric whisk, until light and frothy. Sift in the flour, cocoa powder and a pinch of salt, and fold to combine. Fold in the melted chocolate mixture, then the bananas and remaining chocolate chunks. Scrape the mixture into the prepared tin and bake for 50 mins until puffed up and a skewer inserted into the middle comes out clean. Leave to cool in the tin for 10 mins, then remove to awire rackand cool completely. If you like, clean out the tin and tip the loaf back into it for easier transport.Will keep in an airtight container for up to four days.', 'prep_time': '20 mins', 'protein': '6g', 'salt': '0.5g', 'saturates': '11g', 'serves': 'Serves 8 - 10', 'sugars': '28g', 'title': 'Brownie banana bread'}, page_content='Combine two kid-friendly treats and make our rich brownie banana bread. This loaf cake is easy to wrap and transport – perfect for a picnic'), Document(id='291', metadata={'calories': '430', 'carbs': '45g', 'cook_time': '1 hr', 'diet_type': 'Vegetarian', 'difficulty': 'Easy', 'fat': '24g', 'fibre': '2g', 'id': '291', 'ingredients': '125gsalted butter,softened, plus extra for the tin, 4very ripe bananas, 200ggolden caster sugar, 2eggs,beaten, 2 tspvanilla extract, 100mlGreek-style yogurt, 300gwhite spelt flour or plain flour, ½ tspbaking powder, ½ tspbicarbonate of soda, 75gwalnuts,roughly chopped, 100gsalted butter,softened, 3 tbsprunny honey, 3 tbspsmooth peanut butter, For the honey peanut butter, 100gsalted butter,softened, 3 tbsprunny honey, 3 tbspsmooth peanut butter', 'instructions': 'Heat the oven to 180C/160C fan/gas 4. Butter and line a 900g loaf tin. Trim the ends of the bananas and discard. Roughly chop the bananas, peel and all. Place in afood processoror blender and blitz until smooth. Tip into a bowl and set aside. Using an electric hand whisk orstand mixer, beat together the butter and sugar with a pinch of salt until light and creamy, around 4-5 mins. Beat in the eggs, one at a time, then add the vanilla, yogurt and banana. Mix in the flour, baking powder and bicarb until combined. Fold through the walnuts and gently spoon the batter into the prepared tin. Bake for 50-60 mins until a skewer inserted into the middle comes out clean. Transfer to awire rackand leave to cool in the tin for 15 mins before removing from the tin and leaving to cool completely. For the honey peanut butter, beat all the ingredients together using an electric hand whisk or stand mixer until creamy. Cut the cake into slices and spread over the butter.The butter and cake will keep in airtight containers for five days.', 'prep_time': '25 mins', 'protein': '8g', 'salt': '0.6g', 'saturates': '12g', 'serves': 'Serves 10 - 12', 'sugars': '27g', 'title': 'Banana peel breakfast cake'}, page_content='Use every part of the banana, including the peel, in this clever breakfast loaf. It’s delicious without the whipped butter too – toast and eat with yogurt'), Document(id='406', metadata={'calories': '388', 'carbs': '31g', 'cook_time': '20 mins', 'diet_type': 'Gluten-free', 'difficulty': 'Easy', 'fat': '27g', 'fibre': '1g', 'id': '406', 'ingredients': '5bananas, 250gmascarpone, 3 tbspcanned caramel, 4meringue nests,broken up, 50gwalnut halves,roughly chopped', 'instructions': 'Put 3 of the unpeeled bananas on the grill over indirect heat and cook until the skins are dark brown and the insides soft, about 15-25 mins. Cool, peel and mash, then mix with the mascarpone in a bowl. Combine the caramel with ½ tsp salt. Peel and slice the remaining bananas. Divide half the mascarpone, meringue pieces, banana slices and caramel between six dessert bowls, then repeat the layers until everything has been used up. Sprinkle over the walnuts and serve immediately.', 'prep_time': '10 mins', 'protein': '5g', 'salt': '0.7g', 'saturates': '15g', 'serves': 'Serves 6', 'sugars': '29g', 'title': 'Easy banoffee mess'}, page_content=\"Try this twist on two classic desserts in an indulgent banoffee mess. With meringue, bananas, mascarpone, caramel and walnuts, what's not to love?\")], 'answer': \"Hello! I'm happy to help you with some delicious banana recipes. Here are two delightful options:\\n\\n---\\n\\n**Title:** Classic Banana Split  \\n**Description:** A fun and indulgent dessert featuring bananas, ice cream, and toppings.  \\n**Preparation Time:** 10 minutes  \\n**Cooking Time:** 0 minutes  \\n**Difficulty:** Easy  \\n**Serves:** 2  \\n**Diet Type:** Vegetarian  \\n**Nutrition:** calories 300 | fat 10g | protein 5g | fiber 2g  \\n**Ingredients:**  \\n- 2 ripe bananas  \\n- 3 scoops of ice cream (vanilla, chocolate, or strawberry)  \\n- Chocolate syrup  \\n- Whipped cream  \\n- Chopped nuts  \\n- Maraschino cherries  \\n\\n**Instructions:**  \\n1. Peel the bananas and slice them in half lengthwise.  \\n2. Place the banana halves in a serving dish.  \\n3. Add a scoop of ice cream between the banana halves.  \\n4. Drizzle chocolate syrup over the ice cream.  \\n5. Top with whipped cream, chopped nuts, and a maraschino cherry.  \\n6. Serve immediately and enjoy!\\n\\n---\\n\\n**Title:** Banana Bread  \\n**Description:** A moist and flavorful loaf cake made with ripe bananas, perfect for breakfast or a snack.  \\n**Preparation Time:** 15 minutes  \\n**Cooking Time:** 60 minutes  \\n**Difficulty:** Easy  \\n**Serves:** 8  \\n**Diet Type:** Vegetarian  \\n**Nutrition:** calories 200 | fat 5g | protein 3g | fiber 2g  \\n**Ingredients:**  \\n- 3 ripe bananas, mashed  \\n- 1/3 cup melted butter  \\n- 1 teaspoon baking soda  \\n- Pinch of salt  \\n- 3/4 cup sugar  \\n- 1 large egg, beaten  \\n- 1 teaspoon vanilla extract  \\n- 1 cup all-purpose flour  \\n\\n**Instructions:**  \\n1. Preheat the oven to 350°F (175°C).  \\n2. In a mixing bowl, mash the ripe bananas with a fork until smooth.  \\n3. Stir the melted butter into the mashed bananas.  \\n4. Mix in the baking soda and salt.  \\n5. Add the sugar, beaten egg, and vanilla extract, and mix well.  \\n6. Stir in the flour until just incorporated.  \\n7. Pour the batter into a greased loaf pan.  \\n8. Bake for 60 minutes or until a toothpick inserted into the center comes out clean.  \\n9. Let it cool before slicing and serving.\\n\\n---\\n\\nEnjoy these delightful banana recipes!\"}\n"
     ]
    }
   ],
   "source": [
    "demo = gr.Interface(\n",
    "    fn=get_recipe,\n",
    "    inputs=[\"text\"],\n",
    "    outputs=[\"text\"],\n",
    ")\n",
    "\n",
    "demo.launch()"
   ]
  },
  {
   "cell_type": "code",
   "execution_count": null,
   "metadata": {},
   "outputs": [],
   "source": []
  }
 ],
 "metadata": {
  "kernelspec": {
   "display_name": "venv_recipes",
   "language": "python",
   "name": "venv_recipes"
  },
  "language_info": {
   "codemirror_mode": {
    "name": "ipython",
    "version": 3
   },
   "file_extension": ".py",
   "mimetype": "text/x-python",
   "name": "python",
   "nbconvert_exporter": "python",
   "pygments_lexer": "ipython3",
   "version": "3.12.6"
  }
 },
 "nbformat": 4,
 "nbformat_minor": 2
}
