{
 "cells": [
  {
   "cell_type": "code",
   "execution_count": 24,
   "metadata": {},
   "outputs": [
    {
     "name": "stdout",
     "output_type": "stream",
     "text": [
      "The autoreload extension is already loaded. To reload it, use:\n",
      "  %reload_ext autoreload\n",
      "The dotenv extension is already loaded. To reload it, use:\n",
      "  %reload_ext dotenv\n"
     ]
    }
   ],
   "source": [
    "%load_ext autoreload\n",
    "%autoreload 2\n",
    "%load_ext dotenv\n",
    "%dotenv"
   ]
  },
  {
   "cell_type": "code",
   "execution_count": 25,
   "metadata": {},
   "outputs": [],
   "source": [
    "import os\n",
    "from pinecone import Pinecone as pcn\n",
    "from langchain_openai import OpenAIEmbeddings\n",
    "from langchain_pinecone import PineconeVectorStore\n",
    "from IPython.display import Markdown\n",
    "import gradio as gr\n",
    "from langchain_core.prompts import ChatPromptTemplate\n",
    "from langchain.chains.combine_documents import create_stuff_documents_chain\n",
    "from langchain.chains import create_retrieval_chain\n",
    "from langchain_openai import ChatOpenAI "
   ]
  },
  {
   "cell_type": "markdown",
   "metadata": {},
   "source": [
    "### 01 Get API Keys"
   ]
  },
  {
   "cell_type": "code",
   "execution_count": 26,
   "metadata": {},
   "outputs": [],
   "source": [
    "api_key = os.environ.get(\"PINECONE_API_KEY\")\n",
    "openai_api_key = os.getenv('OPENAI_API_KEY')"
   ]
  },
  {
   "cell_type": "code",
   "execution_count": 27,
   "metadata": {},
   "outputs": [
    {
     "data": {
      "text/plain": [
       "{'dimension': 1536,\n",
       " 'index_fullness': 0.0,\n",
       " 'namespaces': {'': {'vector_count': 1106}},\n",
       " 'total_vector_count': 1106}"
      ]
     },
     "execution_count": 27,
     "metadata": {},
     "output_type": "execute_result"
    }
   ],
   "source": [
    "# configure client\n",
    "pc = pcn(api_key=api_key)\n",
    "index_name = 'recipes-index'\n",
    "index = pc.Index(index_name)\n",
    "index.describe_index_stats()"
   ]
  },
  {
   "cell_type": "markdown",
   "metadata": {},
   "source": [
    "### 02 Set Embedding Model"
   ]
  },
  {
   "cell_type": "code",
   "execution_count": 28,
   "metadata": {},
   "outputs": [],
   "source": [
    "embed_model = \"text-embedding-3-small\"\n",
    "embed = OpenAIEmbeddings(model=embed_model)"
   ]
  },
  {
   "cell_type": "code",
   "execution_count": 29,
   "metadata": {},
   "outputs": [],
   "source": [
    "text_field = \"description\"\n",
    "\n",
    "vectorStore = PineconeVectorStore(\n",
    "  index, embed, text_field\n",
    ")"
   ]
  },
  {
   "cell_type": "code",
   "execution_count": 38,
   "metadata": {},
   "outputs": [],
   "source": [
    "def get_recipe(query, history=None):# completion llm  \n",
    "    llm = ChatOpenAI(  \n",
    "        model_name='gpt-4o-mini',  \n",
    "        temperature=0.0  \n",
    "    ) \n",
    "\n",
    "    retriever = vectorStore.similarity_search_with_score(query)\n",
    "    # we can set a similarity score threshold and only return documents with a score above that threshold.\n",
    "    # search_kwargs={\"score_threshold\": 0.5}\n",
    "    # We can also limit the number of documents k returned by the retriever.\n",
    "    # retriever = vectorstore.as_retriever(search_kwargs={\"k\": 1})\n",
    "\n",
    "    system_prompt = (    \"Given a chat history and the latest user question \"\n",
    "    \"which might reference context in the chat history, \"\n",
    "    \"formulate a standalone question which can be understood \"\n",
    "    \"without the chat history. Do NOT answer the question, \"\n",
    "    \"just reformulate it if needed and otherwise return it as is.\"\n",
    "    )\n",
    "\n",
    "    prompt = ChatPromptTemplate.from_messages(\n",
    "        [\n",
    "            (\"system\", system_prompt),\n",
    "            (\"human\", \"{input}\"),\n",
    "        ]\n",
    "    )\n",
    "\n",
    "    question_answer_chain = create_stuff_documents_chain(llm, prompt)\n",
    "    rag_chain = create_retrieval_chain(retriever, question_answer_chain)\n",
    "\n",
    "    response = rag_chain.invoke({\"input\": query})\n",
    "    return response[\"answer\"]"
   ]
  },
  {
   "cell_type": "markdown",
   "metadata": {},
   "source": [
    "## Gradio App"
   ]
  },
  {
   "cell_type": "code",
   "execution_count": 39,
   "metadata": {},
   "outputs": [
    {
     "name": "stdout",
     "output_type": "stream",
     "text": [
      "Running on local URL:  http://127.0.0.1:7874\n",
      "\n",
      "Thanks for being a Gradio user! If you have questions or feedback, please join our Discord server and chat with us: https://discord.gg/feTf9x3ZSB\n",
      "\n",
      "To create a public link, set `share=True` in `launch()`.\n"
     ]
    },
    {
     "data": {
      "text/html": [
       "<div><iframe src=\"http://127.0.0.1:7874/\" width=\"100%\" height=\"500\" allow=\"autoplay; camera; microphone; clipboard-read; clipboard-write;\" frameborder=\"0\" allowfullscreen></iframe></div>"
      ],
      "text/plain": [
       "<IPython.core.display.HTML object>"
      ]
     },
     "metadata": {},
     "output_type": "display_data"
    },
    {
     "data": {
      "text/plain": []
     },
     "execution_count": 39,
     "metadata": {},
     "output_type": "execute_result"
    },
    {
     "name": "stdout",
     "output_type": "stream",
     "text": [
      "### retriever [(Document(id='982', metadata={'calories': '502', 'carbs': '9g', 'cook_time': '40 mins', 'diet_type': 'Egg-free', 'difficulty': 'Easy', 'fat': '30g', 'fibre': '1g', 'id': '982', 'ingredients': '4chicken breasts, skin left on, 2-3 tbspolive or rapeseed oil, 1onion, finely chopped, 3garlic cloves, crushed or finely grated, 1 tbspdried mixed herbs, 1 tbspplain flour, 200mlwhite wine, 250mlchicken stock, 125mldouble cream, choppedparsley, to serve (optional)', 'instructions': 'Season the chicken all over with salt and freshly ground black pepper. Heat 2 tbsp of the oil in a large lidded frying pan over a medium heat and fry the chicken, skin-side down, for 8-10 mins until the skin is golden. Turn the chicken over and cook for 6-8 mins more until golden all over. Remove to a plate and set aside. If the pan is dry, drizzle in another 1 tbsp oil, then reduce the heat to medium-low and fry the onions for 8-10 mins until softened but not golden. Stir in the garlic and cook for 1 min more, then add the herbs and cook for another minute. Stir in the flour, then pour in the wine and simmer for 2-3 mins until the alcohol has evaporated. Stir in the stock until everything is combined, then bring the mixture to a simmer and return the chicken breasts to the pan, skin-side up. Cover and simmer for 15-20 mins until the sauce has thickened slightly and the chicken is cooked through. Stir in the cream, return to a simmer, then remove from the heat and scatter over the parsley, if using.', 'prep_time': '20 mins', 'protein': '39g', 'salt': '0.58g', 'saturates': '12g', 'serves': 'Serves 4', 'sugars': '4g', 'title': 'Chicken in white wine sauce'}, page_content='Serve tender chicken in a creamy wine sauce alongside rice or potatoes and your favourite veg – a perfect midweek meal for the whole family'), 0.556388617), (Document(id='107', metadata={'calories': '506', 'carbs': '40g', 'cook_time': '20 mins', 'diet_type': 'Dairy-free', 'difficulty': 'Easy', 'fat': '19g', 'fibre': '4g', 'id': '107', 'ingredients': '320g packchicken mini breast fillets, 2½ tbsplight soy sauce, vegetable oil,for frying, 1red pepper,deseeded and thinly sliced, 1green pepper,deseeded and thinly sliced, 3 tbspcornflour, 3 tbspsweet chilli sauce, 1 tbspgarlic and ginger paste, 1 tbspsesame oil, 2spring onions,trimmed and finely sliced', 'instructions': 'Slice the chicken into thin strips. Pour over 2 tbsp of the soy and marinate in the fridge, covered, for 1 hr. Meanwhile, heat 1 tbsp of the oil in awokor deep frying pan over a medium heat and cook the peppers for 3-4 mins until just beginning to soften. Remove with a slotted spoon and set aside. Spread the cornflour out in a shallow bowl. Season, then add the marinated chicken strips and toss to coat well. Fill a wok or deep frying pan with the oil so it’s about ½cm deep, then heat to medium-high. Carefully add the chicken in batches, cooking for 3-4 mins, using tongs to turn regularly until golden and crispy. Remove with a slotted spoon and place on a plate lined with kitchen paper to drain. Mix together the remaining soy, sweet chilli, garlic paste and sesame oil in a large bowl. Add the cooked peppers, crispy chicken and toss together until coated all over and sticky. Serve sprinkled with the spring onions.', 'prep_time': '10 mins', 'protein': '42g', 'salt': '3.66g', 'saturates': '1g', 'serves': 'Serves 2 as a main, 4 as a sharer', 'sugars': '18g', 'title': 'Crispy shredded chicken'}, page_content='Try this takeaway favourite served with rice, or simply on its own as part of a buffet-style meal. It can work as a main course or starter to share'), 0.536299348), (Document(id='337', metadata={'calories': '332', 'carbs': '21g', 'cook_time': '40 mins', 'diet_type': 'Egg-free', 'difficulty': 'Easy', 'fat': '13g', 'fibre': '1g', 'id': '337', 'ingredients': '8skinless chicken thighs, 8skinless chicken drumsticks, 200mlmilk, hot sauce, optional, 200gself-raising flour, 2 tsponion granules, 2 tspgarlic granules, ½ tspturmeric, 1 tsppaprika, 1 tspground white pepper, 1 tspcayenne pepper, 6-8 tbspgroundnut oil, mustardslaw and paprika wedges, to serve (see recipes below)', 'instructions': 'Heat oven to 200C/180C fan/gas 6. Put the chicken in a bowl and pour over the milk adding the hot sauce if you choose to use it. Season the milk with salt. Tip the flour and spices into a large plastic bag and add a tsp of salt and a good grinding of pepper. Heat half the oil in a large frying pan. Take half of the chicken out of the milk, shake off any excess and put in the bag of seasoned flour. Hold the top closed and shake well. Lift the pieces out and shake off any excess, but don’t do this too hard or you’ll end up with no coating. Lower the pieces into the oil and fry for a few minutes on each side until golden and crisp – don’t overdo it as the chicken is being baked next and will brown further. Use tongs to turn the chicken and try not to tear the coating. Transfer to a rack set in a roasting tin. Repeat with the rest of the chicken. Bake for 30 mins until cooked – check one drumstick and one thigh with a skewer – cook for longer if you need to.', 'prep_time': '10 mins', 'protein': '30g', 'salt': '1.21g', 'saturates': '3g', 'serves': 'Serves 8', 'sugars': '2g', 'title': 'Southern fried chicken'}, page_content='Great for feeding a crowd, serve this American-style classic with homemade slaw'), 0.530890226), (Document(id='432', metadata={'calories': '443', 'carbs': '15g', 'cook_time': '20 mins', 'diet_type': 'Egg-free', 'difficulty': 'More effort', 'fat': '28g', 'fibre': '3g', 'id': '432', 'ingredients': '500gboneless chicken thighs, cut into bite-sized pieces, 25gdried Sichuan chillies, deseeded and cut into 3 pieces, neutral-tasting oil, such as vegetable, for deep-frying, 1 tbspdried red Sichuan peppercorns, 1 tbspdried green Sichuan peppercorns, 15gginger, peeled and finely chopped, 4garlic cloves, finely chopped, 2spring onions, finely sliced, whites and green parts separated, 3 tbspunsalted roasted peanuts, 2 tbspsesame seeds, ½ tbsplight soy sauce, ½ tspsugar, ½ tspground white pepper, ½ tspchicken bouillon, 1 tbspShaohsing wine, 1½ tbsplight soy sauce, 2½ tbspcornflour, 1 tbspcorn oil, For the marinade, ½ tspground white pepper, ½ tspchicken bouillon, 1 tbspShaohsing wine, 1½ tbsplight soy sauce, 2½ tbspcornflour, 1 tbspcorn oil', 'instructions': \"Combine all the marinade ingredients, except the cornflour and oil, with ¼ tsp salt in a large bowl, then stir in the chicken thigh pieces to coat. Cover and chill for 30 mins. Add the cornflour and mix well, then add the oil and stir again to combine. Put the dried Sichuan chillies in acolanderand shake to remove any excess seeds. Transfer to a heatproof bowl, cover with hot water and leave to soak for 10 mins, then drain and set aside. Fill awokor large saucepan about a third full with the oil and heat over a medium-high heat until the oil forms bubbles around a chopstick when it's dipped in (this is about 160C). Reduce the heat to medium and carefully lower in the chicken thigh pieces. (You may need to do this in batches.) Fry for 3-4 mins, then remove to kitchen paper to drain using tongs. Turn the heat up until the oil reaches between 180C-200C, and fry the chicken for a further 1-2 mins until golden, crispy and cooked through. Drain on kitchen paper. (You may need to do this in batches.) Drizzle a little oil into a wok over a medium heat and stir-fry the red and green peppercorns, rehydrated Sichuan chillies, the ginger, garlic and white parts of the spring onion for about 2-3 mins. Add the chicken, roasted peanuts and green parts of the spring onion, and cook for a further 3 mins. Scatter in the sesame seeds, then add the soy sauce and sugar. Stir well, then serve.\", 'prep_time': '20 mins', 'protein': '32g', 'salt': '1.88g', 'saturates': '4g', 'serves': 'Serves 2 as a main or 4 as a starter', 'sugars': '4g', 'title': 'Sichuan chicken'}, page_content='With succulent chicken, umami notes and fiery heat from Sichuan peppercorns and chillies, this will be a crowd-pleaser'), 0.530337632)]\n"
     ]
    },
    {
     "name": "stderr",
     "output_type": "stream",
     "text": [
      "Traceback (most recent call last):\n",
      "  File \"/home/acrisvall/recipes_rag/.venv/lib/python3.12/site-packages/gradio/queueing.py\", line 536, in process_events\n",
      "    response = await route_utils.call_process_api(\n",
      "               ^^^^^^^^^^^^^^^^^^^^^^^^^^^^^^^^^^^\n",
      "  File \"/home/acrisvall/recipes_rag/.venv/lib/python3.12/site-packages/gradio/route_utils.py\", line 322, in call_process_api\n",
      "    output = await app.get_blocks().process_api(\n",
      "             ^^^^^^^^^^^^^^^^^^^^^^^^^^^^^^^^^^^\n",
      "  File \"/home/acrisvall/recipes_rag/.venv/lib/python3.12/site-packages/gradio/blocks.py\", line 1935, in process_api\n",
      "    result = await self.call_function(\n",
      "             ^^^^^^^^^^^^^^^^^^^^^^^^^\n",
      "  File \"/home/acrisvall/recipes_rag/.venv/lib/python3.12/site-packages/gradio/blocks.py\", line 1518, in call_function\n",
      "    prediction = await fn(*processed_input)\n",
      "                 ^^^^^^^^^^^^^^^^^^^^^^^^^^\n",
      "  File \"/home/acrisvall/recipes_rag/.venv/lib/python3.12/site-packages/gradio/utils.py\", line 793, in async_wrapper\n",
      "    response = await f(*args, **kwargs)\n",
      "               ^^^^^^^^^^^^^^^^^^^^^^^^\n",
      "  File \"/home/acrisvall/recipes_rag/.venv/lib/python3.12/site-packages/gradio/chat_interface.py\", line 623, in _submit_fn\n",
      "    response = await anyio.to_thread.run_sync(\n",
      "               ^^^^^^^^^^^^^^^^^^^^^^^^^^^^^^^\n",
      "  File \"/home/acrisvall/recipes_rag/.venv/lib/python3.12/site-packages/anyio/to_thread.py\", line 56, in run_sync\n",
      "    return await get_async_backend().run_sync_in_worker_thread(\n",
      "           ^^^^^^^^^^^^^^^^^^^^^^^^^^^^^^^^^^^^^^^^^^^^^^^^^^^^\n",
      "  File \"/home/acrisvall/recipes_rag/.venv/lib/python3.12/site-packages/anyio/_backends/_asyncio.py\", line 2177, in run_sync_in_worker_thread\n",
      "    return await future\n",
      "           ^^^^^^^^^^^^\n",
      "  File \"/home/acrisvall/recipes_rag/.venv/lib/python3.12/site-packages/anyio/_backends/_asyncio.py\", line 859, in run\n",
      "    result = context.run(func, *args)\n",
      "             ^^^^^^^^^^^^^^^^^^^^^^^^\n",
      "  File \"/tmp/ipykernel_12948/4246071809.py\", line 46, in get_recipe\n",
      "    rag_chain = create_retrieval_chain(retriever, question_answer_chain)\n",
      "                ^^^^^^^^^^^^^^^^^^^^^^^^^^^^^^^^^^^^^^^^^^^^^^^^^^^^^^^^\n",
      "  File \"/home/acrisvall/recipes_rag/.venv/lib/python3.12/site-packages/langchain/chains/retrieval.py\", line 65, in create_retrieval_chain\n",
      "    context=retrieval_docs.with_config(run_name=\"retrieve_documents\"),\n",
      "            ^^^^^^^^^^^^^^^^^^^^^^^^^^\n",
      "AttributeError: 'list' object has no attribute 'with_config'\n"
     ]
    }
   ],
   "source": [
    "demo = gr.ChatInterface(\n",
    "  get_recipe,\n",
    "  title=\"Recipes Generator\",\n",
    "  description=\"Ask recipes recommendations based on ingredients and instructions\",\n",
    "  examples=[\"Recommend a recipe with chicken\", \"A low-calorie chicken recipe\", \"What can I do with brocolli\"],\n",
    ")\n",
    "\n",
    "demo.launch()"
   ]
  },
  {
   "cell_type": "code",
   "execution_count": null,
   "metadata": {},
   "outputs": [],
   "source": []
  }
 ],
 "metadata": {
  "kernelspec": {
   "display_name": "venv_recipes",
   "language": "python",
   "name": "venv_recipes"
  },
  "language_info": {
   "codemirror_mode": {
    "name": "ipython",
    "version": 3
   },
   "file_extension": ".py",
   "mimetype": "text/x-python",
   "name": "python",
   "nbconvert_exporter": "python",
   "pygments_lexer": "ipython3",
   "version": "3.12.6"
  }
 },
 "nbformat": 4,
 "nbformat_minor": 2
}
