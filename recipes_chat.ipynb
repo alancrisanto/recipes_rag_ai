{
 "cells": [
  {
   "cell_type": "markdown",
   "id": "cf1d8a9b-d988-45cc-a6db-983f69035b0a",
   "metadata": {},
   "source": [
    "# Document Data, Chunks and Emmbeddings"
   ]
  },
  {
   "cell_type": "code",
   "execution_count": 1,
   "id": "140fc8b4-c678-4351-97ba-2d7acd30e122",
   "metadata": {},
   "outputs": [],
   "source": [
    "import os\n",
    "import openai\n",
    "import sys\n",
    "sys.path.append('../..')\n",
    "\n",
    "from dotenv import load_dotenv, find_dotenv\n",
    "_ = load_dotenv(find_dotenv()) # read local .env file\n",
    "\n",
    "openai.api_key  = os.environ['OPENAI_API_KEY']"
   ]
  },
  {
   "cell_type": "code",
   "execution_count": 2,
   "id": "e224290a-14ae-4d75-bc59-6ec85a65480a",
   "metadata": {},
   "outputs": [],
   "source": [
    "base_dir = \"data/md_files\"\n",
    "doc_path_test = \"data/recipes_batch_1_test.md\""
   ]
  },
  {
   "cell_type": "markdown",
   "id": "126b2695-2d87-4d69-aa28-aadc65ce80d1",
   "metadata": {},
   "source": [
    "## Document Loaders"
   ]
  },
  {
   "cell_type": "code",
   "execution_count": 3,
   "id": "f9a5b022-ecf2-49fe-891b-f1ddba548c00",
   "metadata": {},
   "outputs": [
    {
     "name": "stderr",
     "output_type": "stream",
     "text": [
      "100%|████████████████████████████████████████████████████████████████████████████████████████████████| 38/38 [00:11<00:00,  3.27it/s]\n"
     ]
    },
    {
     "data": {
      "text/plain": [
       "38"
      ]
     },
     "execution_count": 3,
     "metadata": {},
     "output_type": "execute_result"
    }
   ],
   "source": [
    "# from langchain_community.document_loaders import UnstructuredMarkdownLoader\n",
    "from langchain_community.document_loaders import DirectoryLoader\n",
    "loader = DirectoryLoader(base_dir, glob=\"**/*.md\", show_progress=True)\n",
    "docs = loader.load()\n",
    "print(f\"Number of documents loaded: {len(docs)}\")"
   ]
  },
  {
   "cell_type": "code",
   "execution_count": 4,
   "id": "9d529301-4fa7-41f7-b134-b5a8e105d745",
   "metadata": {},
   "outputs": [
    {
     "name": "stdout",
     "output_type": "stream",
     "text": [
      "Artichoke, chickpea & feta salad\n",
      "\n",
      "Link: https://www.bbcgoodfood.com/recipes/jarred-chopped-salad\n",
      "\n",
      "De\n"
     ]
    }
   ],
   "source": [
    "print(docs[37].page_content[:100])"
   ]
  },
  {
   "cell_type": "code",
   "execution_count": 5,
   "id": "b0aacc21-ad32-4635-ab28-b0b97f9e708f",
   "metadata": {},
   "outputs": [
    {
     "data": {
      "text/plain": [
       "{'source': 'data/md_files/recipes_batch_7.md'}"
      ]
     },
     "execution_count": 5,
     "metadata": {},
     "output_type": "execute_result"
    }
   ],
   "source": [
    "docs[0].metadata"
   ]
  },
  {
   "cell_type": "markdown",
   "id": "db57731d-53b9-419e-a4a3-a41a33b48b79",
   "metadata": {},
   "source": [
    "## Document Splitting with Langchain"
   ]
  },
  {
   "cell_type": "code",
   "execution_count": 6,
   "id": "79c38308-c88a-4818-ac26-3371fe5f304d",
   "metadata": {},
   "outputs": [],
   "source": [
    "# from langchain.text_splitter import MarkdownHeaderTextSplitter"
   ]
  },
  {
   "cell_type": "code",
   "execution_count": 7,
   "id": "b69d8858-5035-41a1-86c6-99fc618c3adf",
   "metadata": {},
   "outputs": [],
   "source": [
    "markdown_text = ' '.join([d.page_content for d in docs])"
   ]
  },
  {
   "cell_type": "code",
   "execution_count": 8,
   "id": "07aaa05e-a1e3-4da9-8ae1-373cb886af99",
   "metadata": {},
   "outputs": [
    {
     "data": {
      "text/plain": [
       "2078155"
      ]
     },
     "execution_count": 8,
     "metadata": {},
     "output_type": "execute_result"
    }
   ],
   "source": [
    "len(markdown_text)"
   ]
  },
  {
   "cell_type": "code",
   "execution_count": 9,
   "id": "fbc0a216-f31c-40d2-a9ee-3a72f61d8332",
   "metadata": {},
   "outputs": [
    {
     "data": {
      "text/plain": [
       "\"Easy red cabbage\\n\\nLink: https://www.bbcgoodfood.com/recipes/easy-red-cabbage\\n\\nDescription: Bring red cabbage to life with the flavours of cinnamon and star anise. It's a great side dish at Christmas, along with all the traditional trimmings\\n\\nPrep Time: 15 mins\\n\\nCook Time: 50 mins\\n\\nDifficulty: Easy\\n\\nServes: Serves 6-8\\n\\nDiet Type: Freezable\\n\\nNutrition Information\\n\\nkcal: 73\\n\\nfat: 0.5g\\n\\nsaturates: 0g\\n\\ncarbs: 12g\\n\\nsugars: 11g\\n\\nfibre: 3g\\n\\nprotein: 1g\\n\\nsalt: 0.1g\\n\\nIngredients\\n\\n100mlwhite wine\\n\\n1 mediumred cabbage, finely sliced\\n\\n4star anise\\n\\n2cinnamon sticks\\n\\n100mlvegetable stock\\n\\n50glight brown soft sugar\\n\\n50mlcider vinegar\\n\\nMethod\\n\\nPut the wine in asaucepanover a medium heat. Bring to a simmer and cook for 3 mins. Add the remaining ingredients and bring back to the boil.\\n\\nReduce the heat to a simmer, cover and cook for 30 mins, then remove the lid and cook for 15 mins.Will keep chilled for three days or frozen for up to a month.\\n\\nCarrot & swede mash with brown butter & thyme\\n\\nLink: https://www.bbcgoodfood.com/recipes/carrot-swede-mash-with-brown-butter-thyme\\n\\nDescription: Transform carrot\""
      ]
     },
     "execution_count": 9,
     "metadata": {},
     "output_type": "execute_result"
    }
   ],
   "source": [
    "markdown_text[:1100]"
   ]
  },
  {
   "cell_type": "code",
   "execution_count": 10,
   "id": "46429da3-6551-4cd3-b32e-69411d823993",
   "metadata": {},
   "outputs": [],
   "source": [
    "chunk_size =26\n",
    "chunk_overlap = 4"
   ]
  },
  {
   "cell_type": "code",
   "execution_count": 11,
   "id": "343c5f10-7b94-4812-9cd3-fcbc6433cf7a",
   "metadata": {},
   "outputs": [],
   "source": [
    "from langchain.text_splitter import CharacterTextSplitter\n",
    "text_splitter = CharacterTextSplitter(\n",
    "    separator=\"\\n\\n\",\n",
    "    chunk_size=1100,\n",
    "    chunk_overlap=150,\n",
    "    length_function=len\n",
    ")"
   ]
  },
  {
   "cell_type": "code",
   "execution_count": 12,
   "id": "dd88268c-63ef-4daa-87fa-54af760bf7b6",
   "metadata": {},
   "outputs": [],
   "source": [
    "chunks = text_splitter.split_documents(docs)"
   ]
  },
  {
   "cell_type": "code",
   "execution_count": 13,
   "id": "104ae2b5-f2f2-4dac-a11e-cb2d88b112d3",
   "metadata": {},
   "outputs": [
    {
     "data": {
      "text/plain": [
       "2285"
      ]
     },
     "execution_count": 13,
     "metadata": {},
     "output_type": "execute_result"
    }
   ],
   "source": [
    "len(chunks)"
   ]
  },
  {
   "cell_type": "code",
   "execution_count": 24,
   "id": "675aeacd-c9e3-44b9-9ff3-abf767b014fe",
   "metadata": {},
   "outputs": [
    {
     "name": "stdout",
     "output_type": "stream",
     "text": [
      "page_content='Gluten-free pavlova meringue log\n",
      "\n",
      "Link: https://www.bbcgoodfood.com/recipes/gluten-free-pavlova-meringue-log\n",
      "\n",
      "Description: Serve this crowd-pleasing pavlova meringue log as a festive dessert. Filled with fresh cream and fresh berries, it will be a big hit at Christmas\n",
      "\n",
      "Prep Time: 45 mins\n",
      "\n",
      "Cook Time: 25 mins\n",
      "\n",
      "Difficulty: More effort\n",
      "\n",
      "Serves: Serves 8\n",
      "\n",
      "Diet Type: Gluten-free\n",
      "\n",
      "Nutrition Information\n",
      "\n",
      "kcal: 363\n",
      "\n",
      "fat: 16g\n",
      "\n",
      "saturates: 10g\n",
      "\n",
      "carbs: 49g\n",
      "\n",
      "sugars: 45g\n",
      "\n",
      "fibre: 3g\n",
      "\n",
      "protein: 3g\n",
      "\n",
      "salt: 0.1g\n",
      "\n",
      "Ingredients\n",
      "\n",
      "butteror flavourless oil, for the tin\n",
      "\n",
      "4egg whites(freeze the yolks for another recipe)\n",
      "\n",
      "230gcaster sugar\n",
      "\n",
      "1 tspvanilla extract\n",
      "\n",
      "1 tspcornflour\n",
      "\n",
      "1 tspvinegar\n",
      "\n",
      "1 tspicing sugar\n",
      "\n",
      "400gfrozen berries\n",
      "\n",
      "2 tbspcaster sugar\n",
      "\n",
      "2 tbspcornflour\n",
      "\n",
      "300mlwhipping cream\n",
      "\n",
      "1 tspvanilla extract\n",
      "\n",
      "2 tbspicing sugar\n",
      "\n",
      "2 tbspwhite chocolateshavings\n",
      "\n",
      "For the filling and topping\n",
      "\n",
      "400gfrozen berries\n",
      "\n",
      "2 tbspcaster sugar\n",
      "\n",
      "2 tbspcornflour\n",
      "\n",
      "300mlwhipping cream\n",
      "\n",
      "1 tspvanilla extract\n",
      "\n",
      "2 tbspicing sugar\n",
      "\n",
      "2 tbspwhite chocolateshavings\n",
      "\n",
      "Method' metadata={'source': 'data/md_files/recipes_batch_7.md'}\n"
     ]
    }
   ],
   "source": [
    "print(chunks[2])"
   ]
  },
  {
   "cell_type": "markdown",
   "id": "876e5c41-5241-477e-aa87-26841ec3cd4d",
   "metadata": {},
   "source": [
    "## Embeddings"
   ]
  },
  {
   "cell_type": "code",
   "execution_count": 22,
   "id": "aba4c8bc-9a0d-4e51-9d1c-82c78163e232",
   "metadata": {},
   "outputs": [],
   "source": [
    "from langchain_openai import OpenAIEmbeddings\n",
    "\n",
    "embeddings_model = OpenAIEmbeddings()"
   ]
  },
  {
   "cell_type": "code",
   "execution_count": 26,
   "id": "4d205365-a679-4782-871c-6577bd2b7995",
   "metadata": {},
   "outputs": [
    {
     "ename": "TypeError",
     "evalue": "argument 'text': 'Document' object cannot be converted to 'PyString'",
     "output_type": "error",
     "traceback": [
      "\u001b[0;31m---------------------------------------------------------------------------\u001b[0m",
      "\u001b[0;31mTypeError\u001b[0m                                 Traceback (most recent call last)",
      "Cell \u001b[0;32mIn[26], line 3\u001b[0m\n\u001b[1;32m      1\u001b[0m \u001b[38;5;28;01mfor\u001b[39;00m chunk \u001b[38;5;129;01min\u001b[39;00m chunks:\n\u001b[0;32m----> 3\u001b[0m     embeddings \u001b[38;5;241m=\u001b[39m \u001b[43membeddings_model\u001b[49m\u001b[38;5;241;43m.\u001b[39;49m\u001b[43membed_documents\u001b[49m\u001b[43m(\u001b[49m\n\u001b[1;32m      4\u001b[0m \u001b[43m            \u001b[49m\u001b[43mchunks\u001b[49m\n\u001b[1;32m      5\u001b[0m \u001b[43m    \u001b[49m\u001b[43m)\u001b[49m\n\u001b[1;32m      6\u001b[0m     \u001b[38;5;28mlen\u001b[39m(embeddings), \u001b[38;5;28mlen\u001b[39m(embeddings[\u001b[38;5;241m0\u001b[39m])\n",
      "File \u001b[0;32m~/recipes_rag/.venv/lib/python3.12/site-packages/langchain_openai/embeddings/base.py:558\u001b[0m, in \u001b[0;36mOpenAIEmbeddings.embed_documents\u001b[0;34m(self, texts, chunk_size)\u001b[0m\n\u001b[1;32m    555\u001b[0m \u001b[38;5;66;03m# NOTE: to keep things simple, we assume the list may contain texts longer\u001b[39;00m\n\u001b[1;32m    556\u001b[0m \u001b[38;5;66;03m#       than the maximum context and use length-safe embedding function.\u001b[39;00m\n\u001b[1;32m    557\u001b[0m engine \u001b[38;5;241m=\u001b[39m cast(\u001b[38;5;28mstr\u001b[39m, \u001b[38;5;28mself\u001b[39m\u001b[38;5;241m.\u001b[39mdeployment)\n\u001b[0;32m--> 558\u001b[0m \u001b[38;5;28;01mreturn\u001b[39;00m \u001b[38;5;28;43mself\u001b[39;49m\u001b[38;5;241;43m.\u001b[39;49m\u001b[43m_get_len_safe_embeddings\u001b[49m\u001b[43m(\u001b[49m\u001b[43mtexts\u001b[49m\u001b[43m,\u001b[49m\u001b[43m \u001b[49m\u001b[43mengine\u001b[49m\u001b[38;5;241;43m=\u001b[39;49m\u001b[43mengine\u001b[49m\u001b[43m)\u001b[49m\n",
      "File \u001b[0;32m~/recipes_rag/.venv/lib/python3.12/site-packages/langchain_openai/embeddings/base.py:453\u001b[0m, in \u001b[0;36mOpenAIEmbeddings._get_len_safe_embeddings\u001b[0;34m(self, texts, engine, chunk_size)\u001b[0m\n\u001b[1;32m    437\u001b[0m \u001b[38;5;250m\u001b[39m\u001b[38;5;124;03m\"\"\"\u001b[39;00m\n\u001b[1;32m    438\u001b[0m \u001b[38;5;124;03mGenerate length-safe embeddings for a list of texts.\u001b[39;00m\n\u001b[1;32m    439\u001b[0m \n\u001b[0;32m   (...)\u001b[0m\n\u001b[1;32m    450\u001b[0m \u001b[38;5;124;03m    List[List[float]]: A list of embeddings for each input text.\u001b[39;00m\n\u001b[1;32m    451\u001b[0m \u001b[38;5;124;03m\"\"\"\u001b[39;00m\n\u001b[1;32m    452\u001b[0m _chunk_size \u001b[38;5;241m=\u001b[39m chunk_size \u001b[38;5;129;01mor\u001b[39;00m \u001b[38;5;28mself\u001b[39m\u001b[38;5;241m.\u001b[39mchunk_size\n\u001b[0;32m--> 453\u001b[0m _iter, tokens, indices \u001b[38;5;241m=\u001b[39m \u001b[38;5;28;43mself\u001b[39;49m\u001b[38;5;241;43m.\u001b[39;49m\u001b[43m_tokenize\u001b[49m\u001b[43m(\u001b[49m\u001b[43mtexts\u001b[49m\u001b[43m,\u001b[49m\u001b[43m \u001b[49m\u001b[43m_chunk_size\u001b[49m\u001b[43m)\u001b[49m\n\u001b[1;32m    454\u001b[0m batched_embeddings: List[List[\u001b[38;5;28mfloat\u001b[39m]] \u001b[38;5;241m=\u001b[39m []\n\u001b[1;32m    455\u001b[0m \u001b[38;5;28;01mfor\u001b[39;00m i \u001b[38;5;129;01min\u001b[39;00m _iter:\n",
      "File \u001b[0;32m~/recipes_rag/.venv/lib/python3.12/site-packages/langchain_openai/embeddings/base.py:414\u001b[0m, in \u001b[0;36mOpenAIEmbeddings._tokenize\u001b[0;34m(self, texts, chunk_size)\u001b[0m\n\u001b[1;32m    412\u001b[0m     token \u001b[38;5;241m=\u001b[39m encoding\u001b[38;5;241m.\u001b[39mencode(text, \u001b[38;5;241m*\u001b[39m\u001b[38;5;241m*\u001b[39mencoder_kwargs)\n\u001b[1;32m    413\u001b[0m \u001b[38;5;28;01melse\u001b[39;00m:\n\u001b[0;32m--> 414\u001b[0m     token \u001b[38;5;241m=\u001b[39m \u001b[43mencoding\u001b[49m\u001b[38;5;241;43m.\u001b[39;49m\u001b[43mencode_ordinary\u001b[49m\u001b[43m(\u001b[49m\u001b[43mtext\u001b[49m\u001b[43m)\u001b[49m\n\u001b[1;32m    416\u001b[0m \u001b[38;5;66;03m# Split tokens into chunks respecting the embedding_ctx_length\u001b[39;00m\n\u001b[1;32m    417\u001b[0m \u001b[38;5;28;01mfor\u001b[39;00m j \u001b[38;5;129;01min\u001b[39;00m \u001b[38;5;28mrange\u001b[39m(\u001b[38;5;241m0\u001b[39m, \u001b[38;5;28mlen\u001b[39m(token), \u001b[38;5;28mself\u001b[39m\u001b[38;5;241m.\u001b[39membedding_ctx_length):\n",
      "File \u001b[0;32m~/recipes_rag/.venv/lib/python3.12/site-packages/tiktoken/core.py:69\u001b[0m, in \u001b[0;36mEncoding.encode_ordinary\u001b[0;34m(self, text)\u001b[0m\n\u001b[1;32m     60\u001b[0m \u001b[38;5;250m\u001b[39m\u001b[38;5;124;03m\"\"\"Encodes a string into tokens, ignoring special tokens.\u001b[39;00m\n\u001b[1;32m     61\u001b[0m \n\u001b[1;32m     62\u001b[0m \u001b[38;5;124;03mThis is equivalent to `encode(text, disallowed_special=())` (but slightly faster).\u001b[39;00m\n\u001b[0;32m   (...)\u001b[0m\n\u001b[1;32m     66\u001b[0m \u001b[38;5;124;03m[31373, 995]\u001b[39;00m\n\u001b[1;32m     67\u001b[0m \u001b[38;5;124;03m\"\"\"\u001b[39;00m\n\u001b[1;32m     68\u001b[0m \u001b[38;5;28;01mtry\u001b[39;00m:\n\u001b[0;32m---> 69\u001b[0m     \u001b[38;5;28;01mreturn\u001b[39;00m \u001b[38;5;28;43mself\u001b[39;49m\u001b[38;5;241;43m.\u001b[39;49m\u001b[43m_core_bpe\u001b[49m\u001b[38;5;241;43m.\u001b[39;49m\u001b[43mencode_ordinary\u001b[49m\u001b[43m(\u001b[49m\u001b[43mtext\u001b[49m\u001b[43m)\u001b[49m\n\u001b[1;32m     70\u001b[0m \u001b[38;5;28;01mexcept\u001b[39;00m \u001b[38;5;167;01mUnicodeEncodeError\u001b[39;00m:\n\u001b[1;32m     71\u001b[0m     \u001b[38;5;66;03m# See comment in encode\u001b[39;00m\n\u001b[1;32m     72\u001b[0m     text \u001b[38;5;241m=\u001b[39m text\u001b[38;5;241m.\u001b[39mencode(\u001b[38;5;124m\"\u001b[39m\u001b[38;5;124mutf-16\u001b[39m\u001b[38;5;124m\"\u001b[39m, \u001b[38;5;124m\"\u001b[39m\u001b[38;5;124msurrogatepass\u001b[39m\u001b[38;5;124m\"\u001b[39m)\u001b[38;5;241m.\u001b[39mdecode(\u001b[38;5;124m\"\u001b[39m\u001b[38;5;124mutf-16\u001b[39m\u001b[38;5;124m\"\u001b[39m, \u001b[38;5;124m\"\u001b[39m\u001b[38;5;124mreplace\u001b[39m\u001b[38;5;124m\"\u001b[39m)\n",
      "\u001b[0;31mTypeError\u001b[0m: argument 'text': 'Document' object cannot be converted to 'PyString'"
     ]
    }
   ],
   "source": [
    "for chunk in chunks:\n",
    "\n",
    "    embeddings = embeddings_model.embed_documents(\n",
    "            chunks\n",
    "    )\n",
    "    len(embeddings), len(embeddings[0])"
   ]
  },
  {
   "cell_type": "code",
   "execution_count": null,
   "id": "28fe61f8-4b17-46a2-8614-67d39acdfd70",
   "metadata": {},
   "outputs": [],
   "source": []
  }
 ],
 "metadata": {
  "kernelspec": {
   "display_name": "venv_recipes",
   "language": "python",
   "name": "venv_recipes"
  },
  "language_info": {
   "codemirror_mode": {
    "name": "ipython",
    "version": 3
   },
   "file_extension": ".py",
   "mimetype": "text/x-python",
   "name": "python",
   "nbconvert_exporter": "python",
   "pygments_lexer": "ipython3",
   "version": "3.12.4"
  }
 },
 "nbformat": 4,
 "nbformat_minor": 5
}
